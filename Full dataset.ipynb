{
 "cells": [
  {
   "cell_type": "code",
   "execution_count": 1,
   "metadata": {},
   "outputs": [],
   "source": [
    "# import all the necessary packages\n",
    "import pandas as pd\n",
    "import matplotlib.pyplot as plt\n",
    "import numpy as np\n",
    "import seaborn as sns\n",
    "import xlrd\n",
    "from sklearn.neighbors import KNeighborsClassifier\n",
    "from sklearn.model_selection import train_test_split\n",
    "from sklearn.model_selection import cross_validate\n",
    "from sklearn import preprocessing  \n",
    "from sklearn.linear_model import LogisticRegression\n",
    "from sklearn.cluster import KMeans\n",
    "from sklearn.ensemble import RandomForestClassifier\n",
    "from sklearn.ensemble import RandomForestRegressor\n",
    "import random\n",
    "from sklearn import tree\n",
    "import graphviz\n",
    "%matplotlib inline"
   ]
  },
  {
   "cell_type": "code",
   "execution_count": 2,
   "metadata": {},
   "outputs": [],
   "source": [
    "# read the datasets in\n",
    "df = pd.read_excel('Input_set1.xlsx',sheet_name = 'Sheet1')\n",
    "# df= pd.read_excel('Input_set1.xlsx')\n",
    "# df2 = pd.read_csv('Data12.csv')"
   ]
  },
  {
   "cell_type": "code",
   "execution_count": 3,
   "metadata": {},
   "outputs": [
    {
     "data": {
      "text/html": [
       "<div>\n",
       "<style scoped>\n",
       "    .dataframe tbody tr th:only-of-type {\n",
       "        vertical-align: middle;\n",
       "    }\n",
       "\n",
       "    .dataframe tbody tr th {\n",
       "        vertical-align: top;\n",
       "    }\n",
       "\n",
       "    .dataframe thead th {\n",
       "        text-align: right;\n",
       "    }\n",
       "</style>\n",
       "<table border=\"1\" class=\"dataframe\">\n",
       "  <thead>\n",
       "    <tr style=\"text-align: right;\">\n",
       "      <th></th>\n",
       "      <th>categoryname</th>\n",
       "      <th>categoryname.1</th>\n",
       "      <th>Branch</th>\n",
       "      <th>accountid</th>\n",
       "      <th>siteid</th>\n",
       "      <th>programid</th>\n",
       "      <th>programname</th>\n",
       "      <th>saledate</th>\n",
       "      <th>Sale_Value</th>\n",
       "      <th>Annual_Value</th>\n",
       "      <th>...</th>\n",
       "      <th>materials_invoiced</th>\n",
       "      <th>services_invoiced</th>\n",
       "      <th>Total_Invoiced_By_Program</th>\n",
       "      <th></th>\n",
       "      <th>Site Name</th>\n",
       "      <th>Site Address</th>\n",
       "      <th>ZIP</th>\n",
       "      <th>Billing Name</th>\n",
       "      <th>Billing Address</th>\n",
       "      <th>Billing ZIP</th>\n",
       "    </tr>\n",
       "  </thead>\n",
       "  <tbody>\n",
       "    <tr>\n",
       "      <th>0</th>\n",
       "      <td>85-Northeast Division</td>\n",
       "      <td>499-Beltway Commercial Region</td>\n",
       "      <td>691-PENN JERSEY COMMERCIAL, PA</td>\n",
       "      <td>100445</td>\n",
       "      <td>105513</td>\n",
       "      <td>75341</td>\n",
       "      <td>PC Standard - Weekly 4</td>\n",
       "      <td>2009-08-28</td>\n",
       "      <td>6135.0</td>\n",
       "      <td>5932.8</td>\n",
       "      <td>...</td>\n",
       "      <td>NaN</td>\n",
       "      <td>123.6</td>\n",
       "      <td>56314.4</td>\n",
       "      <td>Contact Information &gt;&gt;&gt;</td>\n",
       "      <td>NEW WILSON'S MEATS</td>\n",
       "      <td>2325 Venango St, Philadelphia PA</td>\n",
       "      <td>19134</td>\n",
       "      <td></td>\n",
       "      <td>320 Yorktown Plz, Elkins Park PA</td>\n",
       "      <td>19027</td>\n",
       "    </tr>\n",
       "    <tr>\n",
       "      <th>1</th>\n",
       "      <td>85-Northeast Division</td>\n",
       "      <td>499-Beltway Commercial Region</td>\n",
       "      <td>691-PENN JERSEY COMMERCIAL, PA</td>\n",
       "      <td>100445</td>\n",
       "      <td>105513</td>\n",
       "      <td>75341</td>\n",
       "      <td>PC Standard - Weekly 4</td>\n",
       "      <td>2009-08-28</td>\n",
       "      <td>6135.0</td>\n",
       "      <td>5932.8</td>\n",
       "      <td>...</td>\n",
       "      <td>NaN</td>\n",
       "      <td>123.6</td>\n",
       "      <td>56314.4</td>\n",
       "      <td>Contact Information &gt;&gt;&gt;</td>\n",
       "      <td>NEW WILSON'S MEATS</td>\n",
       "      <td>2325 Venango St, Philadelphia PA</td>\n",
       "      <td>19134</td>\n",
       "      <td></td>\n",
       "      <td>320 Yorktown Plz, Elkins Park PA</td>\n",
       "      <td>19027</td>\n",
       "    </tr>\n",
       "    <tr>\n",
       "      <th>2</th>\n",
       "      <td>85-Northeast Division</td>\n",
       "      <td>499-Beltway Commercial Region</td>\n",
       "      <td>691-PENN JERSEY COMMERCIAL, PA</td>\n",
       "      <td>100445</td>\n",
       "      <td>105513</td>\n",
       "      <td>75341</td>\n",
       "      <td>PC Standard - Weekly 4</td>\n",
       "      <td>2009-08-28</td>\n",
       "      <td>6135.0</td>\n",
       "      <td>5932.8</td>\n",
       "      <td>...</td>\n",
       "      <td>NaN</td>\n",
       "      <td>123.6</td>\n",
       "      <td>56314.4</td>\n",
       "      <td>Contact Information &gt;&gt;&gt;</td>\n",
       "      <td>NEW WILSON'S MEATS</td>\n",
       "      <td>2325 Venango St, Philadelphia PA</td>\n",
       "      <td>19134</td>\n",
       "      <td></td>\n",
       "      <td>320 Yorktown Plz, Elkins Park PA</td>\n",
       "      <td>19027</td>\n",
       "    </tr>\n",
       "    <tr>\n",
       "      <th>3</th>\n",
       "      <td>85-Northeast Division</td>\n",
       "      <td>499-Beltway Commercial Region</td>\n",
       "      <td>691-PENN JERSEY COMMERCIAL, PA</td>\n",
       "      <td>100445</td>\n",
       "      <td>105513</td>\n",
       "      <td>75341</td>\n",
       "      <td>PC Standard - Weekly 4</td>\n",
       "      <td>2009-08-28</td>\n",
       "      <td>6135.0</td>\n",
       "      <td>5932.8</td>\n",
       "      <td>...</td>\n",
       "      <td>NaN</td>\n",
       "      <td>123.6</td>\n",
       "      <td>56314.4</td>\n",
       "      <td>Contact Information &gt;&gt;&gt;</td>\n",
       "      <td>NEW WILSON'S MEATS</td>\n",
       "      <td>2325 Venango St, Philadelphia PA</td>\n",
       "      <td>19134</td>\n",
       "      <td></td>\n",
       "      <td>320 Yorktown Plz, Elkins Park PA</td>\n",
       "      <td>19027</td>\n",
       "    </tr>\n",
       "    <tr>\n",
       "      <th>4</th>\n",
       "      <td>85-Northeast Division</td>\n",
       "      <td>499-Beltway Commercial Region</td>\n",
       "      <td>691-PENN JERSEY COMMERCIAL, PA</td>\n",
       "      <td>100445</td>\n",
       "      <td>105513</td>\n",
       "      <td>75341</td>\n",
       "      <td>PC Standard - Weekly 4</td>\n",
       "      <td>2009-08-28</td>\n",
       "      <td>6135.0</td>\n",
       "      <td>5932.8</td>\n",
       "      <td>...</td>\n",
       "      <td>NaN</td>\n",
       "      <td>123.6</td>\n",
       "      <td>56314.4</td>\n",
       "      <td>Contact Information &gt;&gt;&gt;</td>\n",
       "      <td>NEW WILSON'S MEATS</td>\n",
       "      <td>2325 Venango St, Philadelphia PA</td>\n",
       "      <td>19134</td>\n",
       "      <td></td>\n",
       "      <td>320 Yorktown Plz, Elkins Park PA</td>\n",
       "      <td>19027</td>\n",
       "    </tr>\n",
       "    <tr>\n",
       "      <th>...</th>\n",
       "      <td>...</td>\n",
       "      <td>...</td>\n",
       "      <td>...</td>\n",
       "      <td>...</td>\n",
       "      <td>...</td>\n",
       "      <td>...</td>\n",
       "      <td>...</td>\n",
       "      <td>...</td>\n",
       "      <td>...</td>\n",
       "      <td>...</td>\n",
       "      <td>...</td>\n",
       "      <td>...</td>\n",
       "      <td>...</td>\n",
       "      <td>...</td>\n",
       "      <td>...</td>\n",
       "      <td>...</td>\n",
       "      <td>...</td>\n",
       "      <td>...</td>\n",
       "      <td>...</td>\n",
       "      <td>...</td>\n",
       "      <td>...</td>\n",
       "    </tr>\n",
       "    <tr>\n",
       "      <th>41717</th>\n",
       "      <td>82-Midwest Division</td>\n",
       "      <td>389-Kentucky Region</td>\n",
       "      <td>486-CHARLESTON, WV</td>\n",
       "      <td>34340186</td>\n",
       "      <td>12570321</td>\n",
       "      <td>10978612</td>\n",
       "      <td>Bed Bug &amp; Pest Protection - EOM 6</td>\n",
       "      <td>2020-07-17</td>\n",
       "      <td>576.0</td>\n",
       "      <td>576.0</td>\n",
       "      <td>...</td>\n",
       "      <td>NaN</td>\n",
       "      <td>96.0</td>\n",
       "      <td>96.0</td>\n",
       "      <td>Contact Information &gt;&gt;&gt;</td>\n",
       "      <td>WESLEY HINZMAN</td>\n",
       "      <td>611 GARRETT ST, SOUTH CHARLESTON WV</td>\n",
       "      <td>25309</td>\n",
       "      <td>WESLEY HINZMAN</td>\n",
       "      <td>611 GARRETT ST, SOUTH CHARLESTON WV</td>\n",
       "      <td>25309</td>\n",
       "    </tr>\n",
       "    <tr>\n",
       "      <th>41718</th>\n",
       "      <td>82-Midwest Division</td>\n",
       "      <td>339-Midwest Commercial Region</td>\n",
       "      <td>670-CINCINNATI COMM, OH</td>\n",
       "      <td>31680577</td>\n",
       "      <td>10485050</td>\n",
       "      <td>10988772</td>\n",
       "      <td>PC Standard - Odd Job</td>\n",
       "      <td>2020-07-21</td>\n",
       "      <td>80.0</td>\n",
       "      <td>0.0</td>\n",
       "      <td>...</td>\n",
       "      <td>NaN</td>\n",
       "      <td>80.0</td>\n",
       "      <td>80.0</td>\n",
       "      <td>Contact Information &gt;&gt;&gt;</td>\n",
       "      <td>UC/VONTZ CENTER</td>\n",
       "      <td>3109-3119 EDEN AVE, CINCINNATI OH</td>\n",
       "      <td>45219</td>\n",
       "      <td></td>\n",
       "      <td>231 ALBERT SABIN WAY, CINCINNATI OH</td>\n",
       "      <td>45267</td>\n",
       "    </tr>\n",
       "    <tr>\n",
       "      <th>41719</th>\n",
       "      <td>85-Northeast Division</td>\n",
       "      <td>499-Beltway Commercial Region</td>\n",
       "      <td>391-BALTIMORE, MD</td>\n",
       "      <td>25484612</td>\n",
       "      <td>3118392</td>\n",
       "      <td>10995942</td>\n",
       "      <td>PC Special Svcs - Odd Job</td>\n",
       "      <td>2020-07-22</td>\n",
       "      <td>330.0</td>\n",
       "      <td>0.0</td>\n",
       "      <td>...</td>\n",
       "      <td>NaN</td>\n",
       "      <td>330.0</td>\n",
       "      <td>330.0</td>\n",
       "      <td>Contact Information &gt;&gt;&gt;</td>\n",
       "      <td>*CHARTLEYTOWNE- 2020 SPECIALS</td>\n",
       "      <td>410 CHARTLEY RD, REISTERSTOWN MD</td>\n",
       "      <td>21136</td>\n",
       "      <td>WESTERN OPS</td>\n",
       "      <td>160 Clubhouse Rd, King Of Prussia PA</td>\n",
       "      <td>19406</td>\n",
       "    </tr>\n",
       "    <tr>\n",
       "      <th>41720</th>\n",
       "      <td>85-Northeast Division</td>\n",
       "      <td>379-New York Upstate Region</td>\n",
       "      <td>866-CRAIG THOMAS PEST CONTROL</td>\n",
       "      <td>26639582</td>\n",
       "      <td>4264857</td>\n",
       "      <td>10996502</td>\n",
       "      <td>Bed Bug - Odd Job</td>\n",
       "      <td>2020-07-23</td>\n",
       "      <td>250.0</td>\n",
       "      <td>0.0</td>\n",
       "      <td>...</td>\n",
       "      <td>NaN</td>\n",
       "      <td>250.0</td>\n",
       "      <td>250.0</td>\n",
       "      <td>Contact Information &gt;&gt;&gt;</td>\n",
       "      <td>VASSAR BROTHERS HOSPITAL - BEDBUG</td>\n",
       "      <td>45 READE Pl, Poughkeepsie NY</td>\n",
       "      <td>12601</td>\n",
       "      <td></td>\n",
       "      <td>28 READE PL, POUGHKEEPSIE NY</td>\n",
       "      <td>12601</td>\n",
       "    </tr>\n",
       "    <tr>\n",
       "      <th>41721</th>\n",
       "      <td>85-Northeast Division</td>\n",
       "      <td>499-Beltway Commercial Region</td>\n",
       "      <td>351-DC METRO, MD</td>\n",
       "      <td>29874088</td>\n",
       "      <td>8910354</td>\n",
       "      <td>11002247</td>\n",
       "      <td>PC Special Svcs - Odd Job</td>\n",
       "      <td>2020-07-24</td>\n",
       "      <td>425.0</td>\n",
       "      <td>0.0</td>\n",
       "      <td>...</td>\n",
       "      <td>NaN</td>\n",
       "      <td>425.0</td>\n",
       "      <td>425.0</td>\n",
       "      <td>Contact Information &gt;&gt;&gt;</td>\n",
       "      <td>*SARBIN TOWERS APTS  2017 &amp; 2018 BED BUG</td>\n",
       "      <td>3132 16TH STREET, WASHINGTON DC</td>\n",
       "      <td>20009</td>\n",
       "      <td></td>\n",
       "      <td>9900 MAIN STREET, FAIRFAX VA</td>\n",
       "      <td>22031</td>\n",
       "    </tr>\n",
       "  </tbody>\n",
       "</table>\n",
       "<p>41722 rows × 41 columns</p>\n",
       "</div>"
      ],
      "text/plain": [
       "                categoryname                 categoryname.1  \\\n",
       "0      85-Northeast Division  499-Beltway Commercial Region   \n",
       "1      85-Northeast Division  499-Beltway Commercial Region   \n",
       "2      85-Northeast Division  499-Beltway Commercial Region   \n",
       "3      85-Northeast Division  499-Beltway Commercial Region   \n",
       "4      85-Northeast Division  499-Beltway Commercial Region   \n",
       "...                      ...                            ...   \n",
       "41717    82-Midwest Division            389-Kentucky Region   \n",
       "41718    82-Midwest Division  339-Midwest Commercial Region   \n",
       "41719  85-Northeast Division  499-Beltway Commercial Region   \n",
       "41720  85-Northeast Division    379-New York Upstate Region   \n",
       "41721  85-Northeast Division  499-Beltway Commercial Region   \n",
       "\n",
       "                               Branch  accountid    siteid  programid  \\\n",
       "0      691-PENN JERSEY COMMERCIAL, PA     100445    105513      75341   \n",
       "1      691-PENN JERSEY COMMERCIAL, PA     100445    105513      75341   \n",
       "2      691-PENN JERSEY COMMERCIAL, PA     100445    105513      75341   \n",
       "3      691-PENN JERSEY COMMERCIAL, PA     100445    105513      75341   \n",
       "4      691-PENN JERSEY COMMERCIAL, PA     100445    105513      75341   \n",
       "...                               ...        ...       ...        ...   \n",
       "41717              486-CHARLESTON, WV   34340186  12570321   10978612   \n",
       "41718  670-CINCINNATI COMM, OH          31680577  10485050   10988772   \n",
       "41719               391-BALTIMORE, MD   25484612   3118392   10995942   \n",
       "41720   866-CRAIG THOMAS PEST CONTROL   26639582   4264857   10996502   \n",
       "41721                351-DC METRO, MD   29874088   8910354   11002247   \n",
       "\n",
       "                             programname   saledate  Sale_Value  Annual_Value  \\\n",
       "0                 PC Standard - Weekly 4 2009-08-28      6135.0        5932.8   \n",
       "1                 PC Standard - Weekly 4 2009-08-28      6135.0        5932.8   \n",
       "2                 PC Standard - Weekly 4 2009-08-28      6135.0        5932.8   \n",
       "3                 PC Standard - Weekly 4 2009-08-28      6135.0        5932.8   \n",
       "4                 PC Standard - Weekly 4 2009-08-28      6135.0        5932.8   \n",
       "...                                  ...        ...         ...           ...   \n",
       "41717  Bed Bug & Pest Protection - EOM 6 2020-07-17       576.0         576.0   \n",
       "41718              PC Standard - Odd Job 2020-07-21        80.0           0.0   \n",
       "41719          PC Special Svcs - Odd Job 2020-07-22       330.0           0.0   \n",
       "41720                  Bed Bug - Odd Job 2020-07-23       250.0           0.0   \n",
       "41721          PC Special Svcs - Odd Job 2020-07-24       425.0           0.0   \n",
       "\n",
       "       ... materials_invoiced services_invoiced Total_Invoiced_By_Program  \\\n",
       "0      ...                NaN             123.6                   56314.4   \n",
       "1      ...                NaN             123.6                   56314.4   \n",
       "2      ...                NaN             123.6                   56314.4   \n",
       "3      ...                NaN             123.6                   56314.4   \n",
       "4      ...                NaN             123.6                   56314.4   \n",
       "...    ...                ...               ...                       ...   \n",
       "41717  ...                NaN              96.0                      96.0   \n",
       "41718  ...                NaN              80.0                      80.0   \n",
       "41719  ...                NaN             330.0                     330.0   \n",
       "41720  ...                NaN             250.0                     250.0   \n",
       "41721  ...                NaN             425.0                     425.0   \n",
       "\n",
       "                                                               Site Name  \\\n",
       "0      Contact Information >>>                        NEW WILSON'S MEATS   \n",
       "1      Contact Information >>>                        NEW WILSON'S MEATS   \n",
       "2      Contact Information >>>                        NEW WILSON'S MEATS   \n",
       "3      Contact Information >>>                        NEW WILSON'S MEATS   \n",
       "4      Contact Information >>>                        NEW WILSON'S MEATS   \n",
       "...                        ...                                       ...   \n",
       "41717  Contact Information >>>                            WESLEY HINZMAN   \n",
       "41718  Contact Information >>>                           UC/VONTZ CENTER   \n",
       "41719  Contact Information >>>            *CHARTLEYTOWNE- 2020 SPECIALS    \n",
       "41720  Contact Information >>>         VASSAR BROTHERS HOSPITAL - BEDBUG   \n",
       "41721  Contact Information >>>  *SARBIN TOWERS APTS  2017 & 2018 BED BUG   \n",
       "\n",
       "                              Site Address    ZIP    Billing Name  \\\n",
       "0         2325 Venango St, Philadelphia PA  19134                   \n",
       "1         2325 Venango St, Philadelphia PA  19134                   \n",
       "2         2325 Venango St, Philadelphia PA  19134                   \n",
       "3         2325 Venango St, Philadelphia PA  19134                   \n",
       "4         2325 Venango St, Philadelphia PA  19134                   \n",
       "...                                    ...    ...             ...   \n",
       "41717  611 GARRETT ST, SOUTH CHARLESTON WV  25309  WESLEY HINZMAN   \n",
       "41718    3109-3119 EDEN AVE, CINCINNATI OH  45219                   \n",
       "41719     410 CHARTLEY RD, REISTERSTOWN MD  21136     WESTERN OPS   \n",
       "41720         45 READE Pl, Poughkeepsie NY  12601                   \n",
       "41721      3132 16TH STREET, WASHINGTON DC  20009                   \n",
       "\n",
       "                            Billing Address  Billing ZIP  \n",
       "0          320 Yorktown Plz, Elkins Park PA        19027  \n",
       "1          320 Yorktown Plz, Elkins Park PA        19027  \n",
       "2          320 Yorktown Plz, Elkins Park PA        19027  \n",
       "3          320 Yorktown Plz, Elkins Park PA        19027  \n",
       "4          320 Yorktown Plz, Elkins Park PA        19027  \n",
       "...                                     ...          ...  \n",
       "41717   611 GARRETT ST, SOUTH CHARLESTON WV        25309  \n",
       "41718   231 ALBERT SABIN WAY, CINCINNATI OH        45267  \n",
       "41719  160 Clubhouse Rd, King Of Prussia PA        19406  \n",
       "41720          28 READE PL, POUGHKEEPSIE NY        12601  \n",
       "41721          9900 MAIN STREET, FAIRFAX VA        22031  \n",
       "\n",
       "[41722 rows x 41 columns]"
      ]
     },
     "execution_count": 3,
     "metadata": {},
     "output_type": "execute_result"
    }
   ],
   "source": [
    "df"
   ]
  },
  {
   "cell_type": "code",
   "execution_count": 4,
   "metadata": {},
   "outputs": [
    {
     "data": {
      "text/plain": [
       "Index(['categoryname', 'categoryname.1', 'Branch', 'accountid', 'siteid',\n",
       "       'programid', 'programname', 'saledate', 'Sale_Value', 'Annual_Value',\n",
       "       'Cancel_date', 'Program_Sales_Person', 'Program Type', 'eventid', 'WO#',\n",
       "       'eventname', 'completeddate', 'completedamount',\n",
       "       'Chemical_Materials_Applied_Count', 'Product_Materials_Applied_Count',\n",
       "       'Bait_Materials_Applied_Count', 'Hardware_Materials_Applied_Count',\n",
       "       'Equipment_Materials_Applied_Count', 'Service_Materials_Applied_Count',\n",
       "       'Chemical_Materials_Applied', 'Product_Materials_Applied',\n",
       "       'Bait_Materials_Applied', 'Hardware_Materials_Applied',\n",
       "       'Equipment_Materials_Applied', 'service_Materials_Applied',\n",
       "       'Material_Total_price', 'materials_invoiced', 'services_invoiced',\n",
       "       'Total_Invoiced_By_Program', ' ', 'Site Name', 'Site Address', 'ZIP',\n",
       "       'Billing Name', 'Billing Address', 'Billing ZIP'],\n",
       "      dtype='object')"
      ]
     },
     "execution_count": 4,
     "metadata": {},
     "output_type": "execute_result"
    }
   ],
   "source": [
    "df.columns"
   ]
  },
  {
   "cell_type": "code",
   "execution_count": 5,
   "metadata": {},
   "outputs": [
    {
     "data": {
      "text/plain": [
       "(41722, 41)"
      ]
     },
     "execution_count": 5,
     "metadata": {},
     "output_type": "execute_result"
    }
   ],
   "source": [
    "df.shape"
   ]
  },
  {
   "cell_type": "code",
   "execution_count": 6,
   "metadata": {},
   "outputs": [
    {
     "data": {
      "text/plain": [
       "7199"
      ]
     },
     "execution_count": 6,
     "metadata": {},
     "output_type": "execute_result"
    }
   ],
   "source": [
    "#check whether the predicted columns have null values\n",
    "df['Chemical_Materials_Applied'].isna().sum()"
   ]
  },
  {
   "cell_type": "code",
   "execution_count": 7,
   "metadata": {},
   "outputs": [
    {
     "data": {
      "text/plain": [
       "34523"
      ]
     },
     "execution_count": 7,
     "metadata": {},
     "output_type": "execute_result"
    }
   ],
   "source": [
    "df.shape[0]-df['Chemical_Materials_Applied'].isna().sum()"
   ]
  },
  {
   "cell_type": "code",
   "execution_count": 8,
   "metadata": {},
   "outputs": [
    {
     "data": {
      "text/plain": [
       "37576"
      ]
     },
     "execution_count": 8,
     "metadata": {},
     "output_type": "execute_result"
    }
   ],
   "source": [
    "df['Product_Materials_Applied'].isna().sum()"
   ]
  },
  {
   "cell_type": "code",
   "execution_count": 9,
   "metadata": {},
   "outputs": [
    {
     "data": {
      "text/plain": [
       "4146"
      ]
     },
     "execution_count": 9,
     "metadata": {},
     "output_type": "execute_result"
    }
   ],
   "source": [
    "df.shape[0]-df['Product_Materials_Applied'].isna().sum()"
   ]
  },
  {
   "cell_type": "code",
   "execution_count": 10,
   "metadata": {},
   "outputs": [
    {
     "data": {
      "text/plain": [
       "41722"
      ]
     },
     "execution_count": 10,
     "metadata": {},
     "output_type": "execute_result"
    }
   ],
   "source": [
    "df['Hardware_Materials_Applied'].isna().sum()"
   ]
  },
  {
   "cell_type": "code",
   "execution_count": 11,
   "metadata": {},
   "outputs": [
    {
     "data": {
      "text/plain": [
       "0"
      ]
     },
     "execution_count": 11,
     "metadata": {},
     "output_type": "execute_result"
    }
   ],
   "source": [
    "df.shape[0]-df['Hardware_Materials_Applied'].isna().sum()"
   ]
  },
  {
   "cell_type": "markdown",
   "metadata": {},
   "source": [
    "### Based on the analysis, we can see that hardware columns are all null values\n"
   ]
  },
  {
   "cell_type": "code",
   "execution_count": 12,
   "metadata": {},
   "outputs": [
    {
     "data": {
      "text/plain": [
       "38446"
      ]
     },
     "execution_count": 12,
     "metadata": {},
     "output_type": "execute_result"
    }
   ],
   "source": [
    "df['Bait_Materials_Applied'].isna().sum()"
   ]
  },
  {
   "cell_type": "code",
   "execution_count": 13,
   "metadata": {},
   "outputs": [
    {
     "data": {
      "text/plain": [
       "3276"
      ]
     },
     "execution_count": 13,
     "metadata": {},
     "output_type": "execute_result"
    }
   ],
   "source": [
    "df.shape[0]-df['Bait_Materials_Applied'].isna().sum()"
   ]
  },
  {
   "cell_type": "code",
   "execution_count": 14,
   "metadata": {},
   "outputs": [
    {
     "data": {
      "text/plain": [
       "26200"
      ]
     },
     "execution_count": 14,
     "metadata": {},
     "output_type": "execute_result"
    }
   ],
   "source": [
    "df['Equipment_Materials_Applied_Count'].isna().sum()"
   ]
  },
  {
   "cell_type": "code",
   "execution_count": 15,
   "metadata": {},
   "outputs": [
    {
     "data": {
      "text/plain": [
       "15522"
      ]
     },
     "execution_count": 15,
     "metadata": {},
     "output_type": "execute_result"
    }
   ],
   "source": [
    "df.shape[0]-df['Equipment_Materials_Applied_Count'].isna().sum()"
   ]
  },
  {
   "cell_type": "code",
   "execution_count": 16,
   "metadata": {},
   "outputs": [
    {
     "data": {
      "text/plain": [
       "41722"
      ]
     },
     "execution_count": 16,
     "metadata": {},
     "output_type": "execute_result"
    }
   ],
   "source": [
    "df['service_Materials_Applied'].isna().sum()"
   ]
  },
  {
   "cell_type": "code",
   "execution_count": 17,
   "metadata": {},
   "outputs": [
    {
     "data": {
      "text/plain": [
       "0"
      ]
     },
     "execution_count": 17,
     "metadata": {},
     "output_type": "execute_result"
    }
   ],
   "source": [
    "df.shape[0]-df['service_Materials_Applied'].isna().sum()"
   ]
  },
  {
   "cell_type": "markdown",
   "metadata": {},
   "source": [
    "### Based on the analysis, we can see that service columns are all null values\n"
   ]
  },
  {
   "cell_type": "markdown",
   "metadata": {},
   "source": [
    "### After preprocessing the data and get familiar with them, we could find out that the columns named Hardware_Materials_Applied as well as the service_Materials_Applied are all null. "
   ]
  },
  {
   "cell_type": "markdown",
   "metadata": {},
   "source": [
    "## features: programname, categoryname.1\n"
   ]
  },
  {
   "cell_type": "code",
   "execution_count": 18,
   "metadata": {},
   "outputs": [
    {
     "data": {
      "text/plain": [
       "Index(['categoryname', 'categoryname.1', 'Branch', 'accountid', 'siteid',\n",
       "       'programid', 'programname', 'saledate', 'Sale_Value', 'Annual_Value',\n",
       "       'Cancel_date', 'Program_Sales_Person', 'Program Type', 'eventid', 'WO#',\n",
       "       'eventname', 'completeddate', 'completedamount',\n",
       "       'Chemical_Materials_Applied_Count', 'Product_Materials_Applied_Count',\n",
       "       'Bait_Materials_Applied_Count', 'Hardware_Materials_Applied_Count',\n",
       "       'Equipment_Materials_Applied_Count', 'Service_Materials_Applied_Count',\n",
       "       'Chemical_Materials_Applied', 'Product_Materials_Applied',\n",
       "       'Bait_Materials_Applied', 'Hardware_Materials_Applied',\n",
       "       'Equipment_Materials_Applied', 'service_Materials_Applied',\n",
       "       'Material_Total_price', 'materials_invoiced', 'services_invoiced',\n",
       "       'Total_Invoiced_By_Program', ' ', 'Site Name', 'Site Address', 'ZIP',\n",
       "       'Billing Name', 'Billing Address', 'Billing ZIP'],\n",
       "      dtype='object')"
      ]
     },
     "execution_count": 18,
     "metadata": {},
     "output_type": "execute_result"
    }
   ],
   "source": [
    "df.columns\n",
    "# programname, categoryname.1"
   ]
  },
  {
   "cell_type": "code",
   "execution_count": 19,
   "metadata": {},
   "outputs": [
    {
     "data": {
      "text/plain": [
       "array(['PC Standard - Weekly 4', 'PC Standard - Weekly 5',\n",
       "       'PC Standard - Monthly', 'Structural Fum',\n",
       "       'PC Standard - Seasonal', 'PC Standard - Semi-Annual',\n",
       "       'PC Standard - Semi-Monthly', 'PC Standard - EOM 6',\n",
       "       'PC Standard - Quarterly 4', 'Pest Elimination - Monthly',\n",
       "       'Commercial Element - Semi-Monthly', 'PC Standard - EOM 7',\n",
       "       'Commercial Element - Weekly 5', 'Mosquito - Seasonal',\n",
       "       'PC Standard - Trimester', 'Carpenter Ant - Annual',\n",
       "       'Termite Baiting Svc', 'Commercial Gold Medal - Weekly 5',\n",
       "       'Commercial Element - Monthly', 'Fly Trap Svc - Seasonal',\n",
       "       'PC Standard - Daily', 'Birdwork - Monthly',\n",
       "       'Pest Elimination - Weekly 4', 'Drywood Borate Svc',\n",
       "       'Replace Equip - Monthly', 'Carpenter Ant - Monthly',\n",
       "       'OE-30 - Monthly', 'Subterranean Termite',\n",
       "       'Specialty Pest - Seasonal', 'Fly Light Svc - Seasonal',\n",
       "       'Mosquito - Semi-Monthly', 'Bed Bug - Monthly',\n",
       "       'Bed Bug Inspection - Odd Job', 'Bed Bug - Odd Job',\n",
       "       'PC Standard - Quarterly 5', 'Sub Termite/Formosan',\n",
       "       'Drywood Borate Svc - Odd Job', 'PC Special Svcs - Odd Job',\n",
       "       'PC Standard - Odd Job', 'Bed Bug Heat - Odd Job',\n",
       "       'Subterranean Termite - Odd Job', 'Mosquito - Odd Job',\n",
       "       'Pest Elimination - Odd Job', 'Carpenter Ant - Odd Job',\n",
       "       'Wildlife - Odd Job', 'Commercial Element - Odd Job',\n",
       "       'Specialty Pest - Odd Job', 'Birdwork - Odd Job',\n",
       "       'Rodents - Monthly', 'Carpenter Ant - Quarterly 4',\n",
       "       'PC Standard - Every 2 Weeks', 'Commercial Element - EOM 7',\n",
       "       'Bed Bug & Pest Protection - EOM 6',\n",
       "       'Bed Bug & Pest Protection - Monthly', 'Power Spray - Odd Job',\n",
       "       'Commercial Element - EOM 6', 'Replace Equip - Odd Job',\n",
       "       'VitalClean - Odd Job', 'Fire Ant - Odd Job',\n",
       "       'Materials - Odd Job', 'Mosquito & Tick - Seasonal',\n",
       "       'Commercial Element - Quarterly 4'], dtype=object)"
      ]
     },
     "execution_count": 19,
     "metadata": {},
     "output_type": "execute_result"
    }
   ],
   "source": [
    "df['programname'].unique()"
   ]
  },
  {
   "cell_type": "code",
   "execution_count": 20,
   "metadata": {},
   "outputs": [
    {
     "data": {
      "text/plain": [
       "0        499-Beltway Commercial Region\n",
       "1        499-Beltway Commercial Region\n",
       "2        499-Beltway Commercial Region\n",
       "3        499-Beltway Commercial Region\n",
       "4        499-Beltway Commercial Region\n",
       "                     ...              \n",
       "41717              389-Kentucky Region\n",
       "41718    339-Midwest Commercial Region\n",
       "41719    499-Beltway Commercial Region\n",
       "41720      379-New York Upstate Region\n",
       "41721    499-Beltway Commercial Region\n",
       "Name: categoryname.1, Length: 41722, dtype: object"
      ]
     },
     "execution_count": 20,
     "metadata": {},
     "output_type": "execute_result"
    }
   ],
   "source": [
    "df['categoryname.1']"
   ]
  },
  {
   "cell_type": "code",
   "execution_count": 21,
   "metadata": {},
   "outputs": [
    {
     "data": {
      "text/plain": [
       "array([' FAB', ' BR', nan, ..., ' GOLDM, TEMPFX',\n",
       "       ' (C)STEFS, TEMPO1%D, TRANSGHP, TRDIAER', ' ARCHER, ONSLFC'],\n",
       "      dtype=object)"
      ]
     },
     "execution_count": 21,
     "metadata": {},
     "output_type": "execute_result"
    }
   ],
   "source": [
    "df['Chemical_Materials_Applied'].unique()"
   ]
  },
  {
   "cell_type": "code",
   "execution_count": 22,
   "metadata": {},
   "outputs": [
    {
     "data": {
      "text/plain": [
       "array([nan, ' CPFYT', ' IM', ' TGB', ' CLK, SCM', ' SCM', ' CLK', ' TNC',\n",
       "       ' Actfoam', ' Actfoam, SCM', ' TRAGL', ' SCM, TRAGL',\n",
       "       ' CLK, TRAGL', ' IGB (Solid)  ', ' BSMRU', ' BSM', ' IGB (Each)',\n",
       "       ' PPMA', ' IGB (Solid)  , IM', ' IM, TRAGL', ' H24\"', ' GTFLY',\n",
       "       ' BLIMM', ' BSMRU, IM', ' BSMRU, SCM', ' IM, SCM',\n",
       "       ' Actfoam, IGB (Solid)  ', ' BEDBG', ' BEDAD', ' PPMA, TRAGL',\n",
       "       ' Actfoam, IM', ' STGDII', ' BSMRU, IM, SCM',\n",
       "       ' BLIMM, IGB (Solid)  ', ' IGB (Each), TGB', ' BSM, IGB (Solid)  ',\n",
       "       ' PSTSTWD', ' CLK, PPMA', ' IM, PPMA', ' BLIMM, IM', ' MCTP',\n",
       "       ' Actfoam, TRSVC', ' TRSVC', ' IGB (Solid)  , PPMA', ' BSM, BSMRU',\n",
       "       ' Actfoam, TRAGL', ' IGB (Solid)  , TRAGL', ' PPMA, SCM', ' BEDPR',\n",
       "       ' EXTLF'], dtype=object)"
      ]
     },
     "execution_count": 22,
     "metadata": {},
     "output_type": "execute_result"
    }
   ],
   "source": [
    "\n",
    "df['Product_Materials_Applied'].unique()"
   ]
  },
  {
   "cell_type": "code",
   "execution_count": 23,
   "metadata": {},
   "outputs": [],
   "source": [
    "# plt.hist(x=df['Annual_Value'],bins=5)"
   ]
  },
  {
   "cell_type": "code",
   "execution_count": 24,
   "metadata": {},
   "outputs": [],
   "source": [
    "# df['Total_Invoiced_By_Program'].unique()"
   ]
  },
  {
   "cell_type": "code",
   "execution_count": 25,
   "metadata": {},
   "outputs": [],
   "source": [
    "# clean the null value\n",
    "# df['Total_Invoiced_By_Program'].fillna(value=0)"
   ]
  },
  {
   "cell_type": "code",
   "execution_count": 26,
   "metadata": {},
   "outputs": [],
   "source": [
    "# df['Total_Invoiced_By_Program'].unique()"
   ]
  },
  {
   "cell_type": "code",
   "execution_count": 27,
   "metadata": {},
   "outputs": [],
   "source": [
    "# display(df['Total_Invoiced_By_Program'].unique())"
   ]
  },
  {
   "cell_type": "code",
   "execution_count": 28,
   "metadata": {},
   "outputs": [],
   "source": [
    "# plt.bar(x=df['programid'], height=df['Annual_Value'])"
   ]
  },
  {
   "cell_type": "code",
   "execution_count": 29,
   "metadata": {},
   "outputs": [
    {
     "data": {
      "text/plain": [
       "Index(['categoryname', 'categoryname.1', 'Branch', 'accountid', 'siteid',\n",
       "       'programid', 'programname', 'saledate', 'Sale_Value', 'Annual_Value',\n",
       "       'Cancel_date', 'Program_Sales_Person', 'Program Type', 'eventid', 'WO#',\n",
       "       'eventname', 'completeddate', 'completedamount',\n",
       "       'Chemical_Materials_Applied_Count', 'Product_Materials_Applied_Count',\n",
       "       'Bait_Materials_Applied_Count', 'Hardware_Materials_Applied_Count',\n",
       "       'Equipment_Materials_Applied_Count', 'Service_Materials_Applied_Count',\n",
       "       'Chemical_Materials_Applied', 'Product_Materials_Applied',\n",
       "       'Bait_Materials_Applied', 'Hardware_Materials_Applied',\n",
       "       'Equipment_Materials_Applied', 'service_Materials_Applied',\n",
       "       'Material_Total_price', 'materials_invoiced', 'services_invoiced',\n",
       "       'Total_Invoiced_By_Program', ' ', 'Site Name', 'Site Address', 'ZIP',\n",
       "       'Billing Name', 'Billing Address', 'Billing ZIP'],\n",
       "      dtype='object')"
      ]
     },
     "execution_count": 29,
     "metadata": {},
     "output_type": "execute_result"
    }
   ],
   "source": [
    "df.columns"
   ]
  },
  {
   "cell_type": "code",
   "execution_count": 30,
   "metadata": {},
   "outputs": [
    {
     "data": {
      "text/plain": [
       "[0        False\n",
       " 1        False\n",
       " 2        False\n",
       " 3         True\n",
       " 4        False\n",
       "          ...  \n",
       " 41717    False\n",
       " 41718    False\n",
       " 41719    False\n",
       " 41720    False\n",
       " 41721    False\n",
       " Name: Chemical_Materials_Applied, Length: 41722, dtype: bool]"
      ]
     },
     "execution_count": 30,
     "metadata": {},
     "output_type": "execute_result"
    }
   ],
   "source": [
    "[df['Chemical_Materials_Applied'].isna()]"
   ]
  },
  {
   "cell_type": "code",
   "execution_count": 31,
   "metadata": {},
   "outputs": [],
   "source": [
    "\n",
    "# x= df[(df['Chemical_Materials_Applied'].isna()==False)&(df['Product_Materials_Applied'].isna()==False)&\n",
    "#     (df['Bait_Materials_Applied'].isna()==False)&(df['Hardware_Materials_Applied_Count'].isna()==False) ]"
   ]
  },
  {
   "cell_type": "code",
   "execution_count": 32,
   "metadata": {},
   "outputs": [],
   "source": [
    "# x2= df[(df['Chemical_Materials_Applied'].isna()==False)&(df['Product_Materials_Applied'].isna()==False)&\n",
    "#     (df['Bait_Materials_Applied'].isna()==False)&(df['Hardware_Materials_Applied_Count'].isna()==False)\n",
    "#       &(df['Equipment_Materials_Applied'].isna()==False) ]"
   ]
  },
  {
   "cell_type": "code",
   "execution_count": 33,
   "metadata": {},
   "outputs": [],
   "source": [
    "# x.shape"
   ]
  },
  {
   "cell_type": "code",
   "execution_count": 34,
   "metadata": {},
   "outputs": [],
   "source": [
    "# x['Chemical_Materials_Applied']"
   ]
  },
  {
   "cell_type": "code",
   "execution_count": 35,
   "metadata": {},
   "outputs": [],
   "source": [
    "# x['Product_Materials_Applied']"
   ]
  },
  {
   "cell_type": "code",
   "execution_count": 36,
   "metadata": {},
   "outputs": [],
   "source": [
    "# x['Bait_Materials_Applied']"
   ]
  },
  {
   "cell_type": "code",
   "execution_count": 37,
   "metadata": {},
   "outputs": [
    {
     "data": {
      "text/plain": [
       "41722"
      ]
     },
     "execution_count": 37,
     "metadata": {},
     "output_type": "execute_result"
    }
   ],
   "source": [
    "df['Hardware_Materials_Applied_Count'].isna().sum()"
   ]
  },
  {
   "cell_type": "code",
   "execution_count": 38,
   "metadata": {},
   "outputs": [
    {
     "data": {
      "text/plain": [
       "RangeIndex(start=0, stop=41722, step=1)"
      ]
     },
     "execution_count": 38,
     "metadata": {},
     "output_type": "execute_result"
    }
   ],
   "source": [
    "df.index"
   ]
  },
  {
   "cell_type": "code",
   "execution_count": 39,
   "metadata": {},
   "outputs": [],
   "source": [
    "# get a random sample of the original datasets\n",
    "data= df.copy()"
   ]
  },
  {
   "cell_type": "code",
   "execution_count": 40,
   "metadata": {},
   "outputs": [
    {
     "data": {
      "text/plain": [
       "(41722, 41)"
      ]
     },
     "execution_count": 40,
     "metadata": {},
     "output_type": "execute_result"
    }
   ],
   "source": [
    "# the random sample is only half of the original one\n",
    "data.shape"
   ]
  },
  {
   "cell_type": "code",
   "execution_count": 41,
   "metadata": {},
   "outputs": [],
   "source": [
    "# only keep the columns with data\n",
    "data = data.iloc[:,0:44]"
   ]
  },
  {
   "cell_type": "code",
   "execution_count": 42,
   "metadata": {},
   "outputs": [
    {
     "data": {
      "text/html": [
       "<div>\n",
       "<style scoped>\n",
       "    .dataframe tbody tr th:only-of-type {\n",
       "        vertical-align: middle;\n",
       "    }\n",
       "\n",
       "    .dataframe tbody tr th {\n",
       "        vertical-align: top;\n",
       "    }\n",
       "\n",
       "    .dataframe thead th {\n",
       "        text-align: right;\n",
       "    }\n",
       "</style>\n",
       "<table border=\"1\" class=\"dataframe\">\n",
       "  <thead>\n",
       "    <tr style=\"text-align: right;\">\n",
       "      <th></th>\n",
       "      <th>categoryname</th>\n",
       "      <th>categoryname.1</th>\n",
       "      <th>Branch</th>\n",
       "      <th>accountid</th>\n",
       "      <th>siteid</th>\n",
       "      <th>programid</th>\n",
       "      <th>programname</th>\n",
       "      <th>saledate</th>\n",
       "      <th>Sale_Value</th>\n",
       "      <th>Annual_Value</th>\n",
       "      <th>...</th>\n",
       "      <th>materials_invoiced</th>\n",
       "      <th>services_invoiced</th>\n",
       "      <th>Total_Invoiced_By_Program</th>\n",
       "      <th></th>\n",
       "      <th>Site Name</th>\n",
       "      <th>Site Address</th>\n",
       "      <th>ZIP</th>\n",
       "      <th>Billing Name</th>\n",
       "      <th>Billing Address</th>\n",
       "      <th>Billing ZIP</th>\n",
       "    </tr>\n",
       "  </thead>\n",
       "  <tbody>\n",
       "    <tr>\n",
       "      <th>0</th>\n",
       "      <td>85-Northeast Division</td>\n",
       "      <td>499-Beltway Commercial Region</td>\n",
       "      <td>691-PENN JERSEY COMMERCIAL, PA</td>\n",
       "      <td>100445</td>\n",
       "      <td>105513</td>\n",
       "      <td>75341</td>\n",
       "      <td>PC Standard - Weekly 4</td>\n",
       "      <td>2009-08-28</td>\n",
       "      <td>6135.0</td>\n",
       "      <td>5932.8</td>\n",
       "      <td>...</td>\n",
       "      <td>NaN</td>\n",
       "      <td>123.6</td>\n",
       "      <td>56314.4</td>\n",
       "      <td>Contact Information &gt;&gt;&gt;</td>\n",
       "      <td>NEW WILSON'S MEATS</td>\n",
       "      <td>2325 Venango St, Philadelphia PA</td>\n",
       "      <td>19134</td>\n",
       "      <td></td>\n",
       "      <td>320 Yorktown Plz, Elkins Park PA</td>\n",
       "      <td>19027</td>\n",
       "    </tr>\n",
       "    <tr>\n",
       "      <th>1</th>\n",
       "      <td>85-Northeast Division</td>\n",
       "      <td>499-Beltway Commercial Region</td>\n",
       "      <td>691-PENN JERSEY COMMERCIAL, PA</td>\n",
       "      <td>100445</td>\n",
       "      <td>105513</td>\n",
       "      <td>75341</td>\n",
       "      <td>PC Standard - Weekly 4</td>\n",
       "      <td>2009-08-28</td>\n",
       "      <td>6135.0</td>\n",
       "      <td>5932.8</td>\n",
       "      <td>...</td>\n",
       "      <td>NaN</td>\n",
       "      <td>123.6</td>\n",
       "      <td>56314.4</td>\n",
       "      <td>Contact Information &gt;&gt;&gt;</td>\n",
       "      <td>NEW WILSON'S MEATS</td>\n",
       "      <td>2325 Venango St, Philadelphia PA</td>\n",
       "      <td>19134</td>\n",
       "      <td></td>\n",
       "      <td>320 Yorktown Plz, Elkins Park PA</td>\n",
       "      <td>19027</td>\n",
       "    </tr>\n",
       "    <tr>\n",
       "      <th>2</th>\n",
       "      <td>85-Northeast Division</td>\n",
       "      <td>499-Beltway Commercial Region</td>\n",
       "      <td>691-PENN JERSEY COMMERCIAL, PA</td>\n",
       "      <td>100445</td>\n",
       "      <td>105513</td>\n",
       "      <td>75341</td>\n",
       "      <td>PC Standard - Weekly 4</td>\n",
       "      <td>2009-08-28</td>\n",
       "      <td>6135.0</td>\n",
       "      <td>5932.8</td>\n",
       "      <td>...</td>\n",
       "      <td>NaN</td>\n",
       "      <td>123.6</td>\n",
       "      <td>56314.4</td>\n",
       "      <td>Contact Information &gt;&gt;&gt;</td>\n",
       "      <td>NEW WILSON'S MEATS</td>\n",
       "      <td>2325 Venango St, Philadelphia PA</td>\n",
       "      <td>19134</td>\n",
       "      <td></td>\n",
       "      <td>320 Yorktown Plz, Elkins Park PA</td>\n",
       "      <td>19027</td>\n",
       "    </tr>\n",
       "    <tr>\n",
       "      <th>3</th>\n",
       "      <td>85-Northeast Division</td>\n",
       "      <td>499-Beltway Commercial Region</td>\n",
       "      <td>691-PENN JERSEY COMMERCIAL, PA</td>\n",
       "      <td>100445</td>\n",
       "      <td>105513</td>\n",
       "      <td>75341</td>\n",
       "      <td>PC Standard - Weekly 4</td>\n",
       "      <td>2009-08-28</td>\n",
       "      <td>6135.0</td>\n",
       "      <td>5932.8</td>\n",
       "      <td>...</td>\n",
       "      <td>NaN</td>\n",
       "      <td>123.6</td>\n",
       "      <td>56314.4</td>\n",
       "      <td>Contact Information &gt;&gt;&gt;</td>\n",
       "      <td>NEW WILSON'S MEATS</td>\n",
       "      <td>2325 Venango St, Philadelphia PA</td>\n",
       "      <td>19134</td>\n",
       "      <td></td>\n",
       "      <td>320 Yorktown Plz, Elkins Park PA</td>\n",
       "      <td>19027</td>\n",
       "    </tr>\n",
       "    <tr>\n",
       "      <th>4</th>\n",
       "      <td>85-Northeast Division</td>\n",
       "      <td>499-Beltway Commercial Region</td>\n",
       "      <td>691-PENN JERSEY COMMERCIAL, PA</td>\n",
       "      <td>100445</td>\n",
       "      <td>105513</td>\n",
       "      <td>75341</td>\n",
       "      <td>PC Standard - Weekly 4</td>\n",
       "      <td>2009-08-28</td>\n",
       "      <td>6135.0</td>\n",
       "      <td>5932.8</td>\n",
       "      <td>...</td>\n",
       "      <td>NaN</td>\n",
       "      <td>123.6</td>\n",
       "      <td>56314.4</td>\n",
       "      <td>Contact Information &gt;&gt;&gt;</td>\n",
       "      <td>NEW WILSON'S MEATS</td>\n",
       "      <td>2325 Venango St, Philadelphia PA</td>\n",
       "      <td>19134</td>\n",
       "      <td></td>\n",
       "      <td>320 Yorktown Plz, Elkins Park PA</td>\n",
       "      <td>19027</td>\n",
       "    </tr>\n",
       "    <tr>\n",
       "      <th>...</th>\n",
       "      <td>...</td>\n",
       "      <td>...</td>\n",
       "      <td>...</td>\n",
       "      <td>...</td>\n",
       "      <td>...</td>\n",
       "      <td>...</td>\n",
       "      <td>...</td>\n",
       "      <td>...</td>\n",
       "      <td>...</td>\n",
       "      <td>...</td>\n",
       "      <td>...</td>\n",
       "      <td>...</td>\n",
       "      <td>...</td>\n",
       "      <td>...</td>\n",
       "      <td>...</td>\n",
       "      <td>...</td>\n",
       "      <td>...</td>\n",
       "      <td>...</td>\n",
       "      <td>...</td>\n",
       "      <td>...</td>\n",
       "      <td>...</td>\n",
       "    </tr>\n",
       "    <tr>\n",
       "      <th>41717</th>\n",
       "      <td>82-Midwest Division</td>\n",
       "      <td>389-Kentucky Region</td>\n",
       "      <td>486-CHARLESTON, WV</td>\n",
       "      <td>34340186</td>\n",
       "      <td>12570321</td>\n",
       "      <td>10978612</td>\n",
       "      <td>Bed Bug &amp; Pest Protection - EOM 6</td>\n",
       "      <td>2020-07-17</td>\n",
       "      <td>576.0</td>\n",
       "      <td>576.0</td>\n",
       "      <td>...</td>\n",
       "      <td>NaN</td>\n",
       "      <td>96.0</td>\n",
       "      <td>96.0</td>\n",
       "      <td>Contact Information &gt;&gt;&gt;</td>\n",
       "      <td>WESLEY HINZMAN</td>\n",
       "      <td>611 GARRETT ST, SOUTH CHARLESTON WV</td>\n",
       "      <td>25309</td>\n",
       "      <td>WESLEY HINZMAN</td>\n",
       "      <td>611 GARRETT ST, SOUTH CHARLESTON WV</td>\n",
       "      <td>25309</td>\n",
       "    </tr>\n",
       "    <tr>\n",
       "      <th>41718</th>\n",
       "      <td>82-Midwest Division</td>\n",
       "      <td>339-Midwest Commercial Region</td>\n",
       "      <td>670-CINCINNATI COMM, OH</td>\n",
       "      <td>31680577</td>\n",
       "      <td>10485050</td>\n",
       "      <td>10988772</td>\n",
       "      <td>PC Standard - Odd Job</td>\n",
       "      <td>2020-07-21</td>\n",
       "      <td>80.0</td>\n",
       "      <td>0.0</td>\n",
       "      <td>...</td>\n",
       "      <td>NaN</td>\n",
       "      <td>80.0</td>\n",
       "      <td>80.0</td>\n",
       "      <td>Contact Information &gt;&gt;&gt;</td>\n",
       "      <td>UC/VONTZ CENTER</td>\n",
       "      <td>3109-3119 EDEN AVE, CINCINNATI OH</td>\n",
       "      <td>45219</td>\n",
       "      <td></td>\n",
       "      <td>231 ALBERT SABIN WAY, CINCINNATI OH</td>\n",
       "      <td>45267</td>\n",
       "    </tr>\n",
       "    <tr>\n",
       "      <th>41719</th>\n",
       "      <td>85-Northeast Division</td>\n",
       "      <td>499-Beltway Commercial Region</td>\n",
       "      <td>391-BALTIMORE, MD</td>\n",
       "      <td>25484612</td>\n",
       "      <td>3118392</td>\n",
       "      <td>10995942</td>\n",
       "      <td>PC Special Svcs - Odd Job</td>\n",
       "      <td>2020-07-22</td>\n",
       "      <td>330.0</td>\n",
       "      <td>0.0</td>\n",
       "      <td>...</td>\n",
       "      <td>NaN</td>\n",
       "      <td>330.0</td>\n",
       "      <td>330.0</td>\n",
       "      <td>Contact Information &gt;&gt;&gt;</td>\n",
       "      <td>*CHARTLEYTOWNE- 2020 SPECIALS</td>\n",
       "      <td>410 CHARTLEY RD, REISTERSTOWN MD</td>\n",
       "      <td>21136</td>\n",
       "      <td>WESTERN OPS</td>\n",
       "      <td>160 Clubhouse Rd, King Of Prussia PA</td>\n",
       "      <td>19406</td>\n",
       "    </tr>\n",
       "    <tr>\n",
       "      <th>41720</th>\n",
       "      <td>85-Northeast Division</td>\n",
       "      <td>379-New York Upstate Region</td>\n",
       "      <td>866-CRAIG THOMAS PEST CONTROL</td>\n",
       "      <td>26639582</td>\n",
       "      <td>4264857</td>\n",
       "      <td>10996502</td>\n",
       "      <td>Bed Bug - Odd Job</td>\n",
       "      <td>2020-07-23</td>\n",
       "      <td>250.0</td>\n",
       "      <td>0.0</td>\n",
       "      <td>...</td>\n",
       "      <td>NaN</td>\n",
       "      <td>250.0</td>\n",
       "      <td>250.0</td>\n",
       "      <td>Contact Information &gt;&gt;&gt;</td>\n",
       "      <td>VASSAR BROTHERS HOSPITAL - BEDBUG</td>\n",
       "      <td>45 READE Pl, Poughkeepsie NY</td>\n",
       "      <td>12601</td>\n",
       "      <td></td>\n",
       "      <td>28 READE PL, POUGHKEEPSIE NY</td>\n",
       "      <td>12601</td>\n",
       "    </tr>\n",
       "    <tr>\n",
       "      <th>41721</th>\n",
       "      <td>85-Northeast Division</td>\n",
       "      <td>499-Beltway Commercial Region</td>\n",
       "      <td>351-DC METRO, MD</td>\n",
       "      <td>29874088</td>\n",
       "      <td>8910354</td>\n",
       "      <td>11002247</td>\n",
       "      <td>PC Special Svcs - Odd Job</td>\n",
       "      <td>2020-07-24</td>\n",
       "      <td>425.0</td>\n",
       "      <td>0.0</td>\n",
       "      <td>...</td>\n",
       "      <td>NaN</td>\n",
       "      <td>425.0</td>\n",
       "      <td>425.0</td>\n",
       "      <td>Contact Information &gt;&gt;&gt;</td>\n",
       "      <td>*SARBIN TOWERS APTS  2017 &amp; 2018 BED BUG</td>\n",
       "      <td>3132 16TH STREET, WASHINGTON DC</td>\n",
       "      <td>20009</td>\n",
       "      <td></td>\n",
       "      <td>9900 MAIN STREET, FAIRFAX VA</td>\n",
       "      <td>22031</td>\n",
       "    </tr>\n",
       "  </tbody>\n",
       "</table>\n",
       "<p>41722 rows × 41 columns</p>\n",
       "</div>"
      ],
      "text/plain": [
       "                categoryname                 categoryname.1  \\\n",
       "0      85-Northeast Division  499-Beltway Commercial Region   \n",
       "1      85-Northeast Division  499-Beltway Commercial Region   \n",
       "2      85-Northeast Division  499-Beltway Commercial Region   \n",
       "3      85-Northeast Division  499-Beltway Commercial Region   \n",
       "4      85-Northeast Division  499-Beltway Commercial Region   \n",
       "...                      ...                            ...   \n",
       "41717    82-Midwest Division            389-Kentucky Region   \n",
       "41718    82-Midwest Division  339-Midwest Commercial Region   \n",
       "41719  85-Northeast Division  499-Beltway Commercial Region   \n",
       "41720  85-Northeast Division    379-New York Upstate Region   \n",
       "41721  85-Northeast Division  499-Beltway Commercial Region   \n",
       "\n",
       "                               Branch  accountid    siteid  programid  \\\n",
       "0      691-PENN JERSEY COMMERCIAL, PA     100445    105513      75341   \n",
       "1      691-PENN JERSEY COMMERCIAL, PA     100445    105513      75341   \n",
       "2      691-PENN JERSEY COMMERCIAL, PA     100445    105513      75341   \n",
       "3      691-PENN JERSEY COMMERCIAL, PA     100445    105513      75341   \n",
       "4      691-PENN JERSEY COMMERCIAL, PA     100445    105513      75341   \n",
       "...                               ...        ...       ...        ...   \n",
       "41717              486-CHARLESTON, WV   34340186  12570321   10978612   \n",
       "41718  670-CINCINNATI COMM, OH          31680577  10485050   10988772   \n",
       "41719               391-BALTIMORE, MD   25484612   3118392   10995942   \n",
       "41720   866-CRAIG THOMAS PEST CONTROL   26639582   4264857   10996502   \n",
       "41721                351-DC METRO, MD   29874088   8910354   11002247   \n",
       "\n",
       "                             programname   saledate  Sale_Value  Annual_Value  \\\n",
       "0                 PC Standard - Weekly 4 2009-08-28      6135.0        5932.8   \n",
       "1                 PC Standard - Weekly 4 2009-08-28      6135.0        5932.8   \n",
       "2                 PC Standard - Weekly 4 2009-08-28      6135.0        5932.8   \n",
       "3                 PC Standard - Weekly 4 2009-08-28      6135.0        5932.8   \n",
       "4                 PC Standard - Weekly 4 2009-08-28      6135.0        5932.8   \n",
       "...                                  ...        ...         ...           ...   \n",
       "41717  Bed Bug & Pest Protection - EOM 6 2020-07-17       576.0         576.0   \n",
       "41718              PC Standard - Odd Job 2020-07-21        80.0           0.0   \n",
       "41719          PC Special Svcs - Odd Job 2020-07-22       330.0           0.0   \n",
       "41720                  Bed Bug - Odd Job 2020-07-23       250.0           0.0   \n",
       "41721          PC Special Svcs - Odd Job 2020-07-24       425.0           0.0   \n",
       "\n",
       "       ... materials_invoiced services_invoiced Total_Invoiced_By_Program  \\\n",
       "0      ...                NaN             123.6                   56314.4   \n",
       "1      ...                NaN             123.6                   56314.4   \n",
       "2      ...                NaN             123.6                   56314.4   \n",
       "3      ...                NaN             123.6                   56314.4   \n",
       "4      ...                NaN             123.6                   56314.4   \n",
       "...    ...                ...               ...                       ...   \n",
       "41717  ...                NaN              96.0                      96.0   \n",
       "41718  ...                NaN              80.0                      80.0   \n",
       "41719  ...                NaN             330.0                     330.0   \n",
       "41720  ...                NaN             250.0                     250.0   \n",
       "41721  ...                NaN             425.0                     425.0   \n",
       "\n",
       "                                                               Site Name  \\\n",
       "0      Contact Information >>>                        NEW WILSON'S MEATS   \n",
       "1      Contact Information >>>                        NEW WILSON'S MEATS   \n",
       "2      Contact Information >>>                        NEW WILSON'S MEATS   \n",
       "3      Contact Information >>>                        NEW WILSON'S MEATS   \n",
       "4      Contact Information >>>                        NEW WILSON'S MEATS   \n",
       "...                        ...                                       ...   \n",
       "41717  Contact Information >>>                            WESLEY HINZMAN   \n",
       "41718  Contact Information >>>                           UC/VONTZ CENTER   \n",
       "41719  Contact Information >>>            *CHARTLEYTOWNE- 2020 SPECIALS    \n",
       "41720  Contact Information >>>         VASSAR BROTHERS HOSPITAL - BEDBUG   \n",
       "41721  Contact Information >>>  *SARBIN TOWERS APTS  2017 & 2018 BED BUG   \n",
       "\n",
       "                              Site Address    ZIP    Billing Name  \\\n",
       "0         2325 Venango St, Philadelphia PA  19134                   \n",
       "1         2325 Venango St, Philadelphia PA  19134                   \n",
       "2         2325 Venango St, Philadelphia PA  19134                   \n",
       "3         2325 Venango St, Philadelphia PA  19134                   \n",
       "4         2325 Venango St, Philadelphia PA  19134                   \n",
       "...                                    ...    ...             ...   \n",
       "41717  611 GARRETT ST, SOUTH CHARLESTON WV  25309  WESLEY HINZMAN   \n",
       "41718    3109-3119 EDEN AVE, CINCINNATI OH  45219                   \n",
       "41719     410 CHARTLEY RD, REISTERSTOWN MD  21136     WESTERN OPS   \n",
       "41720         45 READE Pl, Poughkeepsie NY  12601                   \n",
       "41721      3132 16TH STREET, WASHINGTON DC  20009                   \n",
       "\n",
       "                            Billing Address  Billing ZIP  \n",
       "0          320 Yorktown Plz, Elkins Park PA        19027  \n",
       "1          320 Yorktown Plz, Elkins Park PA        19027  \n",
       "2          320 Yorktown Plz, Elkins Park PA        19027  \n",
       "3          320 Yorktown Plz, Elkins Park PA        19027  \n",
       "4          320 Yorktown Plz, Elkins Park PA        19027  \n",
       "...                                     ...          ...  \n",
       "41717   611 GARRETT ST, SOUTH CHARLESTON WV        25309  \n",
       "41718   231 ALBERT SABIN WAY, CINCINNATI OH        45267  \n",
       "41719  160 Clubhouse Rd, King Of Prussia PA        19406  \n",
       "41720          28 READE PL, POUGHKEEPSIE NY        12601  \n",
       "41721          9900 MAIN STREET, FAIRFAX VA        22031  \n",
       "\n",
       "[41722 rows x 41 columns]"
      ]
     },
     "execution_count": 42,
     "metadata": {},
     "output_type": "execute_result"
    }
   ],
   "source": [
    "data"
   ]
  },
  {
   "cell_type": "code",
   "execution_count": 43,
   "metadata": {},
   "outputs": [],
   "source": [
    "# find the correlation within the datasets\n",
    "# data.corr()"
   ]
  },
  {
   "cell_type": "code",
   "execution_count": 44,
   "metadata": {},
   "outputs": [
    {
     "data": {
      "text/plain": [
       "33"
      ]
     },
     "execution_count": 44,
     "metadata": {},
     "output_type": "execute_result"
    }
   ],
   "source": [
    "# transform the categorical columns into something we could use in the algorithmns\n",
    "le=preprocessing.LabelEncoder()\n",
    "data['region']=le.fit_transform(list(data['categoryname.1']))\n",
    "len(data['region'].unique())"
   ]
  },
  {
   "cell_type": "code",
   "execution_count": 45,
   "metadata": {},
   "outputs": [
    {
     "data": {
      "text/plain": [
       "0        44\n",
       "1        44\n",
       "2        44\n",
       "3        44\n",
       "4        44\n",
       "         ..\n",
       "41717     0\n",
       "41718    37\n",
       "41719    31\n",
       "41720     3\n",
       "41721    31\n",
       "Name: program, Length: 41722, dtype: int32"
      ]
     },
     "execution_count": 45,
     "metadata": {},
     "output_type": "execute_result"
    }
   ],
   "source": [
    "le2=preprocessing.LabelEncoder()\n",
    "data['program']=le2.fit_transform(list(data['programname']))\n",
    "data['program']"
   ]
  },
  {
   "cell_type": "code",
   "execution_count": 46,
   "metadata": {},
   "outputs": [
    {
     "data": {
      "text/plain": [
       "0        3101\n",
       "1        2230\n",
       "2        2230\n",
       "3        4183\n",
       "4        1432\n",
       "         ... \n",
       "41717    4172\n",
       "41718    3975\n",
       "41719    4025\n",
       "41720     906\n",
       "41721    4152\n",
       "Name: chemical, Length: 41722, dtype: int32"
      ]
     },
     "execution_count": 46,
     "metadata": {},
     "output_type": "execute_result"
    }
   ],
   "source": [
    "le3=preprocessing.LabelEncoder()\n",
    "data['chemical']=le3.fit_transform(list(data['Chemical_Materials_Applied']))\n",
    "data['chemical']"
   ]
  },
  {
   "cell_type": "code",
   "execution_count": 47,
   "metadata": {},
   "outputs": [
    {
     "data": {
      "text/plain": [
       "0        58\n",
       "1        58\n",
       "2        58\n",
       "3        58\n",
       "4        58\n",
       "         ..\n",
       "41717    58\n",
       "41718    58\n",
       "41719    58\n",
       "41720    58\n",
       "41721    58\n",
       "Name: bait, Length: 41722, dtype: int32"
      ]
     },
     "execution_count": 47,
     "metadata": {},
     "output_type": "execute_result"
    }
   ],
   "source": [
    "le4 =preprocessing.LabelEncoder()\n",
    "data['bait']=le4.fit_transform(list(data['Bait_Materials_Applied']))\n",
    "data['bait']\n"
   ]
  },
  {
   "cell_type": "code",
   "execution_count": 48,
   "metadata": {},
   "outputs": [
    {
     "data": {
      "text/plain": [
       "0        332\n",
       "1        332\n",
       "2        332\n",
       "3        287\n",
       "4        128\n",
       "        ... \n",
       "41717    332\n",
       "41718    332\n",
       "41719    332\n",
       "41720    332\n",
       "41721    332\n",
       "Name: equipment, Length: 41722, dtype: int32"
      ]
     },
     "execution_count": 48,
     "metadata": {},
     "output_type": "execute_result"
    }
   ],
   "source": [
    "le5 =preprocessing.LabelEncoder()\n",
    "data['hardware']=le5.fit_transform(list(data['Hardware_Materials_Applied']))\n",
    "data['hardware']\n",
    "le6 =preprocessing.LabelEncoder()\n",
    "data['equipment']=le6.fit_transform(list(data['Equipment_Materials_Applied']))\n",
    "data['equipment']"
   ]
  },
  {
   "cell_type": "code",
   "execution_count": 49,
   "metadata": {},
   "outputs": [],
   "source": [
    "# concat the data into one before clustering\n",
    "d= pd.concat([data['region'],data['program']],axis=1)"
   ]
  },
  {
   "cell_type": "code",
   "execution_count": 50,
   "metadata": {},
   "outputs": [
    {
     "data": {
      "text/html": [
       "<div>\n",
       "<style scoped>\n",
       "    .dataframe tbody tr th:only-of-type {\n",
       "        vertical-align: middle;\n",
       "    }\n",
       "\n",
       "    .dataframe tbody tr th {\n",
       "        vertical-align: top;\n",
       "    }\n",
       "\n",
       "    .dataframe thead th {\n",
       "        text-align: right;\n",
       "    }\n",
       "</style>\n",
       "<table border=\"1\" class=\"dataframe\">\n",
       "  <thead>\n",
       "    <tr style=\"text-align: right;\">\n",
       "      <th></th>\n",
       "      <th>region</th>\n",
       "      <th>program</th>\n",
       "    </tr>\n",
       "  </thead>\n",
       "  <tbody>\n",
       "    <tr>\n",
       "      <th>0</th>\n",
       "      <td>15</td>\n",
       "      <td>44</td>\n",
       "    </tr>\n",
       "    <tr>\n",
       "      <th>1</th>\n",
       "      <td>15</td>\n",
       "      <td>44</td>\n",
       "    </tr>\n",
       "    <tr>\n",
       "      <th>2</th>\n",
       "      <td>15</td>\n",
       "      <td>44</td>\n",
       "    </tr>\n",
       "    <tr>\n",
       "      <th>3</th>\n",
       "      <td>15</td>\n",
       "      <td>44</td>\n",
       "    </tr>\n",
       "    <tr>\n",
       "      <th>4</th>\n",
       "      <td>15</td>\n",
       "      <td>44</td>\n",
       "    </tr>\n",
       "    <tr>\n",
       "      <th>...</th>\n",
       "      <td>...</td>\n",
       "      <td>...</td>\n",
       "    </tr>\n",
       "    <tr>\n",
       "      <th>41717</th>\n",
       "      <td>10</td>\n",
       "      <td>0</td>\n",
       "    </tr>\n",
       "    <tr>\n",
       "      <th>41718</th>\n",
       "      <td>6</td>\n",
       "      <td>37</td>\n",
       "    </tr>\n",
       "    <tr>\n",
       "      <th>41719</th>\n",
       "      <td>15</td>\n",
       "      <td>31</td>\n",
       "    </tr>\n",
       "    <tr>\n",
       "      <th>41720</th>\n",
       "      <td>9</td>\n",
       "      <td>3</td>\n",
       "    </tr>\n",
       "    <tr>\n",
       "      <th>41721</th>\n",
       "      <td>15</td>\n",
       "      <td>31</td>\n",
       "    </tr>\n",
       "  </tbody>\n",
       "</table>\n",
       "<p>41722 rows × 2 columns</p>\n",
       "</div>"
      ],
      "text/plain": [
       "       region  program\n",
       "0          15       44\n",
       "1          15       44\n",
       "2          15       44\n",
       "3          15       44\n",
       "4          15       44\n",
       "...       ...      ...\n",
       "41717      10        0\n",
       "41718       6       37\n",
       "41719      15       31\n",
       "41720       9        3\n",
       "41721      15       31\n",
       "\n",
       "[41722 rows x 2 columns]"
      ]
     },
     "execution_count": 50,
     "metadata": {},
     "output_type": "execute_result"
    }
   ],
   "source": [
    "\n",
    "d"
   ]
  },
  {
   "cell_type": "code",
   "execution_count": 51,
   "metadata": {},
   "outputs": [],
   "source": [
    "# data['programname']"
   ]
  },
  {
   "cell_type": "code",
   "execution_count": 52,
   "metadata": {},
   "outputs": [
    {
     "data": {
      "text/plain": [
       "62"
      ]
     },
     "execution_count": 52,
     "metadata": {},
     "output_type": "execute_result"
    }
   ],
   "source": [
    "len(d['program'].unique())"
   ]
  },
  {
   "cell_type": "code",
   "execution_count": 53,
   "metadata": {},
   "outputs": [
    {
     "data": {
      "text/plain": [
       "36    41.517665\n",
       "44    14.575044\n",
       "42    13.235224\n",
       "45    13.048272\n",
       "33     2.797085\n",
       "        ...    \n",
       "50     0.007190\n",
       "51     0.004794\n",
       "16     0.002397\n",
       "22     0.002397\n",
       "25     0.002397\n",
       "Name: program, Length: 62, dtype: float64"
      ]
     },
     "execution_count": 53,
     "metadata": {},
     "output_type": "execute_result"
    }
   ],
   "source": [
    "d['program'].value_counts()/d.shape[0]*100"
   ]
  },
  {
   "cell_type": "code",
   "execution_count": 54,
   "metadata": {},
   "outputs": [
    {
     "data": {
      "text/plain": [
       "33"
      ]
     },
     "execution_count": 54,
     "metadata": {},
     "output_type": "execute_result"
    }
   ],
   "source": [
    "len(d['region'].unique())"
   ]
  },
  {
   "cell_type": "code",
   "execution_count": 55,
   "metadata": {},
   "outputs": [
    {
     "data": {
      "text/plain": [
       "15    13.235224\n",
       "22    10.610709\n",
       "6      8.237860\n",
       "32     7.967020\n",
       "21     7.523609\n",
       "23     6.358756\n",
       "18     4.609079\n",
       "14     3.786971\n",
       "9      3.739035\n",
       "29     2.943291\n",
       "12     2.789895\n",
       "0      2.710800\n",
       "24     2.432769\n",
       "28     2.315325\n",
       "20     2.200278\n",
       "27     2.140358\n",
       "30     2.063659\n",
       "10     1.852740\n",
       "8      1.838359\n",
       "2      1.675375\n",
       "31     1.339821\n",
       "4      1.258329\n",
       "26     1.174440\n",
       "13     1.162456\n",
       "1      0.812521\n",
       "7      0.747807\n",
       "19     0.704664\n",
       "17     0.529697\n",
       "25     0.491347\n",
       "3      0.266047\n",
       "11     0.210920\n",
       "5      0.174968\n",
       "16     0.095873\n",
       "Name: region, dtype: float64"
      ]
     },
     "execution_count": 55,
     "metadata": {},
     "output_type": "execute_result"
    }
   ],
   "source": [
    "d['region'].value_counts()/d.shape[0]*100"
   ]
  },
  {
   "cell_type": "code",
   "execution_count": 56,
   "metadata": {},
   "outputs": [
    {
     "data": {
      "text/plain": [
       "array([nan, ' ORC', ' GBMOU', ' GBMOU, SNTRM', ' TCGB', ' GBMOU, GBTR',\n",
       "       ' SNTRM, TCGB', ' FLYK, GBMOU', ' RTRP', ' GBLR', ' GBMOU, RTRP',\n",
       "       ' ORC, TCGB', ' FLYK, TCGB', ' GBMOU, TCGB', ' GBMOU, ORC',\n",
       "       ' GBMOU, MTRA', ' GLUBD (Solid)', ' GBMOU, TICT', ' EGLB',\n",
       "       ' MTRA, TCGB', ' FBS, GLUBD (Solid)', ' HTCG3',\n",
       "       ' EGLB, EXCL, TCGB', ' EXCL, TCGB', ' REPCD, TCGB', ' MTRA, TICT',\n",
       "       ' TICT', ' TCAT', ' MTRA, TINCATCS', ' MTRA', ' FBS', ' AlpineTr',\n",
       "       ' GB180', ' AlpineTr, GB180', ' AlpineTr, GBMOU', ' AlpineTr, FBS',\n",
       "       ' GLUBD (Solid), MTRA', ' FLGB, GBMOU', ' GBMOU, GT150GB',\n",
       "       ' GB180, GBMOU', ' GLREP', ' FYET', ' FLYK',\n",
       "       ' AlpineTr, GBMOU, MTRA', ' GBMOU, REPCD', ' REPCD', ' GLEB, RTRP',\n",
       "       ' GT180GB', ' GFYSS, HTCG3, ORC', ' BAITE', ' GBTR', ' GBTR, TREX',\n",
       "       ' GBTR, TCGB', ' AlpineTr, TCGB', ' GLREP, TCGB',\n",
       "       ' GBMOU, MCTR, MTRA', ' GT150GB, TCGB', ' GT150GB, HTCG3',\n",
       "       ' GT150GB', ' FSFL', ' IMM', ' GLEM', ' GLEB', ' FLGB', ' PROT',\n",
       "       ' EGLB, TCGB, TICT', ' TATG', ' ORC, TATG', ' ORC, TCAT',\n",
       "       ' FLGB, TCGB', ' MSRP, TATG', ' B100, MTRA', ' GLREP, MTRA',\n",
       "       ' VGUB', ' BULB', ' GBMOU, GLREP', ' GBMOU, GT180B',\n",
       "       ' GBMOU, GT180GB', ' GB180, GBMOU, GT180GB, VGUB', ' FFB, GBMOU',\n",
       "       ' GB180, GBMOU, GT180GB', ' FLB18S, GBMOU', ' B300',\n",
       "       ' GBMOU, VGUB', ' AlpineTr, MTRA', ' GBLR, GLUBD (Solid)',\n",
       "       ' GT180', ' STLT', ' BAITI, GBMOU', ' EGLB, GBMOU', ' EGLB, TICT',\n",
       "       ' EGLB, GBMOU, MTRA', ' GTK, VGUB', ' TCGB, VGUB', ' FLGB, RTRP',\n",
       "       ' BULB, GBMOU', ' FLGB, GLEB', ' FLGB, GT180GB', ' FLB18S',\n",
       "       ' SPTP', ' GBMOU, SPTP', ' GB180, SPTP', ' MSRP', ' FLGB, ORC',\n",
       "       ' M1X2', ' TREX', ' PUGC', ' TCGB, TICT', ' FLGB, GBMOU, ORC',\n",
       "       ' GT150GB, ORC', ' GBMOU, GT150GB, ORC', ' GLREP, GT180, TCAT',\n",
       "       ' GLREP, TCAT', ' GB180, MTRA', ' TCGB, TREX', ' EXCL, MTRA, TCGB',\n",
       "       ' EXCL', ' GT150GB, GT180GB', ' GBMOU, GT150GB, GT180GB', ' AOSC',\n",
       "       ' GBMOU, GLEB', ' GBMOU, MCTR', ' BAITE, GLEB, MSRP',\n",
       "       ' GB180, GLREP', ' BAITI, MSRP, TCGB', ' OE30', ' SNTRM',\n",
       "       ' GLREP, SNTRM', ' GT150GB, MTRA', ' GBMOU, OPS, TCGB',\n",
       "       ' GBMOU, HTCG3', ' GB180, GBMOU, MTRA', ' GT150GB, SNTRM',\n",
       "       ' TCAT, TCGB', ' KTCH', ' GT150GB, MTRA, TICT', ' GT150GB, TICT',\n",
       "       ' GBMOU, MSRP', ' OPS, TCGB', ' GBMOU, GT150GB, HTCG3', ' OEP',\n",
       "       ' GBMOU, OEP', ' MTRA, ORC', ' GBMOU, ORC, SNTRM',\n",
       "       ' GBMOU, MCTR, SNTRM', ' GBMOU, MTRA, ORC',\n",
       "       ' GLUBD (Solid), MTRA, TCGB', ' GBMOU, GLEB, SNTRM, TCGB',\n",
       "       ' HTCG3, MTRA', ' GBTR, MTRA', ' KTCH, MTRA', ' MSRP, TCGB',\n",
       "       ' GBMOU, MTRA, OE30', ' REPCD, SNTRM', ' GB180, SNTRM',\n",
       "       ' MTRA, PIGW', ' GT150GB, MSRP', ' GB180, GFYSS', ' MTRA, OE30',\n",
       "       ' OE30, PIGW', ' HTCG3, ORC', ' GLEB, TCGB', ' BAITE, BAITP',\n",
       "       ' VGUE', ' PRBS, TCGB', ' GBMOU, GLUBD (Solid), GT150GB', ' GBRD',\n",
       "       ' FLGB, GLUBD (Solid)', ' FFB', ' GLEB, RDSM', ' GLREP, MSRP',\n",
       "       ' GB180, TCGB', ' GT180, TCGB', ' GB180, GT180B, TCGB',\n",
       "       ' GB180, GT180, GT180B, TCGB', ' GB180, TICT', ' TINCATCS',\n",
       "       ' FLGB, HTCG3', ' BAITP', ' GBMOU, GT150GB, REPCD',\n",
       "       ' GT180GB, REPCD, TCGB', ' GBMOU, GT180GB, REPCD', ' FLB18, GBMOU',\n",
       "       ' PIGW', ' BAIT', ' GBTR, GLEB', ' SNTRR', ' GBLR, GBTR',\n",
       "       ' GLEB, RTRP, SNTRR, TREX, VGUB', ' EGLB, RTRP',\n",
       "       ' EGLB, GBMOU, RTRP', ' EGLB, FFB', ' GFYSL',\n",
       "       ' FLGB, GBMOU, GT180GB', ' GBMOU, GT180', ' GLEM, GT180',\n",
       "       ' GBMOU, GT969', ' EGLB, GLEB', ' RDSM',\n",
       "       ' BAITE, GLREP, TICT, TREX', ' GBTR, GLREP', ' GBMOU, GLEB, RTRP',\n",
       "       ' EGLB, TREX', ' GBMOU, RTRP, TCGB', ' SNTRR, TCGB',\n",
       "       ' GBMOU, GT150B', ' GBTR, HTCG3', ' OPS', ' ADDCH', ' PRBS',\n",
       "       ' GB180, GLST', ' GLST', ' GLST, GT150GB', ' GLST, GT180GB',\n",
       "       ' GBMOU, IDLT', ' GBMOU, TREX', ' GLREP, RTRP', ' GLEB, GLREP',\n",
       "       ' B100', ' OE30, ORC', ' GBMOU, GBTR, TCGB',\n",
       "       ' GBMOU, GLUBD (Solid)', ' BLLT', ' BAITI, GB180', ' GBMOU, TCAT',\n",
       "       ' PRBS, TCAT', ' PRBS, TICT', ' GB180, GBMOU, GLREP',\n",
       "       ' GBMOU, GT180GB, PERE', ' DYLT, TCAT', ' GLEB, TREX',\n",
       "       ' GBRD, RTRP', ' RTRP, TREX', ' MTRA, RTRP', ' GLEB, SNTRR',\n",
       "       ' GBMOU, GT180GB, TCGB', ' GLREP, TICT', ' HTCG3, TICT',\n",
       "       ' HTCG3, SNTRM', ' EXCL, GBMOU', ' FFB, FLGB, MSRP',\n",
       "       ' AlpineTr, SPTP', ' FLGB, GLEM', ' GLEM, PUGC', ' GLEM, GT150GB',\n",
       "       ' GLUBD (Solid), RTRP', ' AERC', ' GBMOU, GLEM, GTK',\n",
       "       ' GBMOU, GFYSL', ' GBMOU, GDFS', ' MCTR', ' GBTR, MTRA, RTRP',\n",
       "       ' RTST', ' GB180, GFFL', ' FLB18', ' BAIT, GT180GB, TICT',\n",
       "       ' GLEB, OPS, TCAT', ' GLEB, MTRA', ' GLEB, ORC', ' BAITP, GLREP',\n",
       "       ' GLREP, MTRA, TREX', ' GT180, TCAT', ' FFB, GT180GB',\n",
       "       ' GBMOU, GLEB, MTRA', ' GFYSS', ' VFLJT',\n",
       "       ' EXCL, MSTR, OPS, RTRP, TREX', ' GBMOU, PERE', ' TICT, TREX',\n",
       "       ' PRBS, TINCATCS', ' ENCQ', ' BAITI', ' GLUBD (Solid), SNTRM',\n",
       "       ' GBMOU, GT150GB, TCGB', ' OE30, PUGC', ' OEP, PUGC', ' OE30, OEP',\n",
       "       ' GT180GB, TCGB', ' GT180, GT180GB, WS85FL',\n",
       "       ' GT180, GT180GB, SONL', ' GLREP, GT180GB', ' GB180, GT180GB',\n",
       "       ' AlpineTr, GT180GB', ' BAIT, TCAT', ' BAITE, WSYL', ' WSYL',\n",
       "       ' GBMOU, GENPS(NA X-TICKET)', ' BAITE, TCGB, TICT', ' FYWM',\n",
       "       ' BSENCF, ENCF', ' BAITP, TICT', ' GDFS, TCGB', ' BAITE, TCAT',\n",
       "       ' SPTP, TCGB', ' FLGB, HTCG3, RTRP', ' BULB, FLGB, ORC',\n",
       "       ' ORC, RTRP', ' GT180B', ' BATM, MTRA', ' FYBT', ' BAITE, GBMOU',\n",
       "       ' GLEB, SPTP', ' HTCG3, KATR', ' HTCG3, KMBS', ' BAITI, MTRA',\n",
       "       ' BAITE, TCGB', ' DWEE', ' FLB18S, PUGC', ' BIDN', ' DYLT, TICT',\n",
       "       ' GT180, TICT', ' DYLT, GT180', ' BSPIKES', ' ORC, REPCD', ' PERE',\n",
       "       ' BSENCQ', ' GFFL', ' BSENCF, BSENCQ, ENCF, ENCQ', ' IDLT',\n",
       "       ' GBMOU, GLREP, GT180GB', ' ENCK', ' ENCT', ' BSENCT, ENCT',\n",
       "       ' ENCF', ' BSENCQ, ENCQ', ' EXCL, SNTRM', ' GBMOU, RTRP, TICT',\n",
       "       ' BAITE, GT180B, TCAT, TCTC', ' SAT', ' FLB18S, FLB48S',\n",
       "       ' BSENCT, ENCK', ' GT180GB, RTRP', ' BSENCQ, BSENCT, ENCQ, ENCT'],\n",
       "      dtype=object)"
      ]
     },
     "execution_count": 56,
     "metadata": {},
     "output_type": "execute_result"
    }
   ],
   "source": [
    "data['Equipment_Materials_Applied'].unique()"
   ]
  },
  {
   "cell_type": "code",
   "execution_count": 57,
   "metadata": {},
   "outputs": [
    {
     "data": {
      "text/plain": [
       "333"
      ]
     },
     "execution_count": 57,
     "metadata": {},
     "output_type": "execute_result"
    }
   ],
   "source": [
    "len(data['equipment'].unique())"
   ]
  },
  {
   "cell_type": "markdown",
   "metadata": {},
   "source": [
    "### This part predicts the bait products based on region and program"
   ]
  },
  {
   "cell_type": "code",
   "execution_count": 58,
   "metadata": {},
   "outputs": [
    {
     "data": {
      "text/html": [
       "<div>\n",
       "<style scoped>\n",
       "    .dataframe tbody tr th:only-of-type {\n",
       "        vertical-align: middle;\n",
       "    }\n",
       "\n",
       "    .dataframe tbody tr th {\n",
       "        vertical-align: top;\n",
       "    }\n",
       "\n",
       "    .dataframe thead th {\n",
       "        text-align: right;\n",
       "    }\n",
       "</style>\n",
       "<table border=\"1\" class=\"dataframe\">\n",
       "  <thead>\n",
       "    <tr style=\"text-align: right;\">\n",
       "      <th></th>\n",
       "      <th>categoryname</th>\n",
       "      <th>categoryname.1</th>\n",
       "      <th>Branch</th>\n",
       "      <th>accountid</th>\n",
       "      <th>siteid</th>\n",
       "      <th>programid</th>\n",
       "      <th>programname</th>\n",
       "      <th>saledate</th>\n",
       "      <th>Sale_Value</th>\n",
       "      <th>Annual_Value</th>\n",
       "      <th>...</th>\n",
       "      <th>ZIP</th>\n",
       "      <th>Billing Name</th>\n",
       "      <th>Billing Address</th>\n",
       "      <th>Billing ZIP</th>\n",
       "      <th>region</th>\n",
       "      <th>program</th>\n",
       "      <th>chemical</th>\n",
       "      <th>bait</th>\n",
       "      <th>hardware</th>\n",
       "      <th>equipment</th>\n",
       "    </tr>\n",
       "  </thead>\n",
       "  <tbody>\n",
       "    <tr>\n",
       "      <th>57</th>\n",
       "      <td>85-Northeast Division</td>\n",
       "      <td>499-Beltway Commercial Region</td>\n",
       "      <td>691-PENN JERSEY COMMERCIAL, PA</td>\n",
       "      <td>100445</td>\n",
       "      <td>105513</td>\n",
       "      <td>75341</td>\n",
       "      <td>PC Standard - Weekly 4</td>\n",
       "      <td>2009-08-28</td>\n",
       "      <td>6135.0</td>\n",
       "      <td>5932.8</td>\n",
       "      <td>...</td>\n",
       "      <td>19134</td>\n",
       "      <td></td>\n",
       "      <td>320 Yorktown Plz, Elkins Park PA</td>\n",
       "      <td>19027</td>\n",
       "      <td>15</td>\n",
       "      <td>44</td>\n",
       "      <td>3102</td>\n",
       "      <td>34</td>\n",
       "      <td>27864</td>\n",
       "      <td>128</td>\n",
       "    </tr>\n",
       "    <tr>\n",
       "      <th>74</th>\n",
       "      <td>85-Northeast Division</td>\n",
       "      <td>499-Beltway Commercial Region</td>\n",
       "      <td>691-PENN JERSEY COMMERCIAL, PA</td>\n",
       "      <td>100445</td>\n",
       "      <td>105513</td>\n",
       "      <td>75341</td>\n",
       "      <td>PC Standard - Weekly 4</td>\n",
       "      <td>2009-08-28</td>\n",
       "      <td>6135.0</td>\n",
       "      <td>5932.8</td>\n",
       "      <td>...</td>\n",
       "      <td>19134</td>\n",
       "      <td></td>\n",
       "      <td>320 Yorktown Plz, Elkins Park PA</td>\n",
       "      <td>19027</td>\n",
       "      <td>15</td>\n",
       "      <td>44</td>\n",
       "      <td>3440</td>\n",
       "      <td>34</td>\n",
       "      <td>27840</td>\n",
       "      <td>128</td>\n",
       "    </tr>\n",
       "    <tr>\n",
       "      <th>84</th>\n",
       "      <td>85-Northeast Division</td>\n",
       "      <td>499-Beltway Commercial Region</td>\n",
       "      <td>691-PENN JERSEY COMMERCIAL, PA</td>\n",
       "      <td>100445</td>\n",
       "      <td>105513</td>\n",
       "      <td>75341</td>\n",
       "      <td>PC Standard - Weekly 4</td>\n",
       "      <td>2009-08-28</td>\n",
       "      <td>6135.0</td>\n",
       "      <td>5932.8</td>\n",
       "      <td>...</td>\n",
       "      <td>19134</td>\n",
       "      <td></td>\n",
       "      <td>320 Yorktown Plz, Elkins Park PA</td>\n",
       "      <td>19027</td>\n",
       "      <td>15</td>\n",
       "      <td>44</td>\n",
       "      <td>1694</td>\n",
       "      <td>34</td>\n",
       "      <td>27728</td>\n",
       "      <td>320</td>\n",
       "    </tr>\n",
       "    <tr>\n",
       "      <th>115</th>\n",
       "      <td>85-Northeast Division</td>\n",
       "      <td>499-Beltway Commercial Region</td>\n",
       "      <td>691-PENN JERSEY COMMERCIAL, PA</td>\n",
       "      <td>100445</td>\n",
       "      <td>105513</td>\n",
       "      <td>75341</td>\n",
       "      <td>PC Standard - Weekly 4</td>\n",
       "      <td>2009-08-28</td>\n",
       "      <td>6135.0</td>\n",
       "      <td>5932.8</td>\n",
       "      <td>...</td>\n",
       "      <td>19134</td>\n",
       "      <td></td>\n",
       "      <td>320 Yorktown Plz, Elkins Park PA</td>\n",
       "      <td>19027</td>\n",
       "      <td>15</td>\n",
       "      <td>44</td>\n",
       "      <td>426</td>\n",
       "      <td>34</td>\n",
       "      <td>27719</td>\n",
       "      <td>128</td>\n",
       "    </tr>\n",
       "    <tr>\n",
       "      <th>121</th>\n",
       "      <td>85-Northeast Division</td>\n",
       "      <td>499-Beltway Commercial Region</td>\n",
       "      <td>691-PENN JERSEY COMMERCIAL, PA</td>\n",
       "      <td>100445</td>\n",
       "      <td>105513</td>\n",
       "      <td>75341</td>\n",
       "      <td>PC Standard - Weekly 4</td>\n",
       "      <td>2009-08-28</td>\n",
       "      <td>6135.0</td>\n",
       "      <td>5932.8</td>\n",
       "      <td>...</td>\n",
       "      <td>19134</td>\n",
       "      <td></td>\n",
       "      <td>320 Yorktown Plz, Elkins Park PA</td>\n",
       "      <td>19027</td>\n",
       "      <td>15</td>\n",
       "      <td>44</td>\n",
       "      <td>3681</td>\n",
       "      <td>34</td>\n",
       "      <td>27745</td>\n",
       "      <td>128</td>\n",
       "    </tr>\n",
       "    <tr>\n",
       "      <th>...</th>\n",
       "      <td>...</td>\n",
       "      <td>...</td>\n",
       "      <td>...</td>\n",
       "      <td>...</td>\n",
       "      <td>...</td>\n",
       "      <td>...</td>\n",
       "      <td>...</td>\n",
       "      <td>...</td>\n",
       "      <td>...</td>\n",
       "      <td>...</td>\n",
       "      <td>...</td>\n",
       "      <td>...</td>\n",
       "      <td>...</td>\n",
       "      <td>...</td>\n",
       "      <td>...</td>\n",
       "      <td>...</td>\n",
       "      <td>...</td>\n",
       "      <td>...</td>\n",
       "      <td>...</td>\n",
       "      <td>...</td>\n",
       "      <td>...</td>\n",
       "    </tr>\n",
       "    <tr>\n",
       "      <th>41596</th>\n",
       "      <td>84-South Central Division</td>\n",
       "      <td>899-South Central Commercial Region</td>\n",
       "      <td>677-ST. LOUIS COMM, MO</td>\n",
       "      <td>29305860</td>\n",
       "      <td>7015365</td>\n",
       "      <td>10801591</td>\n",
       "      <td>Wildlife - Odd Job</td>\n",
       "      <td>2020-05-28</td>\n",
       "      <td>350.0</td>\n",
       "      <td>0.0</td>\n",
       "      <td>...</td>\n",
       "      <td>63146</td>\n",
       "      <td>HOLLY HOLTZMANN</td>\n",
       "      <td>1945 CRAIG Rd, Saint Louis MO</td>\n",
       "      <td>63146</td>\n",
       "      <td>32</td>\n",
       "      <td>61</td>\n",
       "      <td>4183</td>\n",
       "      <td>55</td>\n",
       "      <td>13948</td>\n",
       "      <td>332</td>\n",
       "    </tr>\n",
       "    <tr>\n",
       "      <th>41626</th>\n",
       "      <td>84-South Central Division</td>\n",
       "      <td>849-N. Texas/Oklahoma Region</td>\n",
       "      <td>826-DALLAS, TX</td>\n",
       "      <td>29970683</td>\n",
       "      <td>10987935</td>\n",
       "      <td>10826130</td>\n",
       "      <td>Carpenter Ant - Odd Job</td>\n",
       "      <td>2020-06-03</td>\n",
       "      <td>240.0</td>\n",
       "      <td>0.0</td>\n",
       "      <td>...</td>\n",
       "      <td>75056</td>\n",
       "      <td></td>\n",
       "      <td>P O BOX 209212 , AUSTIN TX</td>\n",
       "      <td>78720</td>\n",
       "      <td>29</td>\n",
       "      <td>10</td>\n",
       "      <td>2750</td>\n",
       "      <td>23</td>\n",
       "      <td>13978</td>\n",
       "      <td>332</td>\n",
       "    </tr>\n",
       "    <tr>\n",
       "      <th>41650</th>\n",
       "      <td>85-Northeast Division</td>\n",
       "      <td>449-Virginia Region</td>\n",
       "      <td>660-CENTRAL VIRGINIA COMM</td>\n",
       "      <td>1081309</td>\n",
       "      <td>1085784</td>\n",
       "      <td>10861314</td>\n",
       "      <td>Bed Bug - Odd Job</td>\n",
       "      <td>2020-06-14</td>\n",
       "      <td>291.0</td>\n",
       "      <td>0.0</td>\n",
       "      <td>...</td>\n",
       "      <td>23060</td>\n",
       "      <td></td>\n",
       "      <td>2000 WARE BOTTOM SPRING RD, CHESTER VA</td>\n",
       "      <td>23836</td>\n",
       "      <td>14</td>\n",
       "      <td>3</td>\n",
       "      <td>4183</td>\n",
       "      <td>35</td>\n",
       "      <td>13881</td>\n",
       "      <td>332</td>\n",
       "    </tr>\n",
       "    <tr>\n",
       "      <th>41694</th>\n",
       "      <td>84-South Central Division</td>\n",
       "      <td>409-Tennesee/Alabama Region</td>\n",
       "      <td>106-BIRMINGHAM, AL</td>\n",
       "      <td>29594548</td>\n",
       "      <td>10166799</td>\n",
       "      <td>10932167</td>\n",
       "      <td>Termite Baiting Svc</td>\n",
       "      <td>2020-07-02</td>\n",
       "      <td>1299.0</td>\n",
       "      <td>299.0</td>\n",
       "      <td>...</td>\n",
       "      <td>35210</td>\n",
       "      <td>LEE LODER</td>\n",
       "      <td>PO BOX 13545 , Birmingham AL</td>\n",
       "      <td>35202</td>\n",
       "      <td>12</td>\n",
       "      <td>59</td>\n",
       "      <td>4183</td>\n",
       "      <td>51</td>\n",
       "      <td>13924</td>\n",
       "      <td>332</td>\n",
       "    </tr>\n",
       "    <tr>\n",
       "      <th>41709</th>\n",
       "      <td>82-Midwest Division</td>\n",
       "      <td>339-Midwest Commercial Region</td>\n",
       "      <td>670-CINCINNATI COMM, OH</td>\n",
       "      <td>31668021</td>\n",
       "      <td>10615027</td>\n",
       "      <td>10966472</td>\n",
       "      <td>PC Standard - Odd Job</td>\n",
       "      <td>2020-07-14</td>\n",
       "      <td>80.0</td>\n",
       "      <td>0.0</td>\n",
       "      <td>...</td>\n",
       "      <td>45221</td>\n",
       "      <td></td>\n",
       "      <td>380 COLLEGE DR, CINCINNATI OH</td>\n",
       "      <td>45219</td>\n",
       "      <td>6</td>\n",
       "      <td>37</td>\n",
       "      <td>3975</td>\n",
       "      <td>34</td>\n",
       "      <td>13898</td>\n",
       "      <td>332</td>\n",
       "    </tr>\n",
       "  </tbody>\n",
       "</table>\n",
       "<p>3276 rows × 47 columns</p>\n",
       "</div>"
      ],
      "text/plain": [
       "                    categoryname                       categoryname.1  \\\n",
       "57         85-Northeast Division        499-Beltway Commercial Region   \n",
       "74         85-Northeast Division        499-Beltway Commercial Region   \n",
       "84         85-Northeast Division        499-Beltway Commercial Region   \n",
       "115        85-Northeast Division        499-Beltway Commercial Region   \n",
       "121        85-Northeast Division        499-Beltway Commercial Region   \n",
       "...                          ...                                  ...   \n",
       "41596  84-South Central Division  899-South Central Commercial Region   \n",
       "41626  84-South Central Division         849-N. Texas/Oklahoma Region   \n",
       "41650      85-Northeast Division                  449-Virginia Region   \n",
       "41694  84-South Central Division          409-Tennesee/Alabama Region   \n",
       "41709        82-Midwest Division        339-Midwest Commercial Region   \n",
       "\n",
       "                                Branch  accountid    siteid  programid  \\\n",
       "57      691-PENN JERSEY COMMERCIAL, PA     100445    105513      75341   \n",
       "74      691-PENN JERSEY COMMERCIAL, PA     100445    105513      75341   \n",
       "84      691-PENN JERSEY COMMERCIAL, PA     100445    105513      75341   \n",
       "115     691-PENN JERSEY COMMERCIAL, PA     100445    105513      75341   \n",
       "121     691-PENN JERSEY COMMERCIAL, PA     100445    105513      75341   \n",
       "...                                ...        ...       ...        ...   \n",
       "41596  677-ST. LOUIS COMM, MO            29305860   7015365   10801591   \n",
       "41626   826-DALLAS, TX                   29970683  10987935   10826130   \n",
       "41650        660-CENTRAL VIRGINIA COMM    1081309   1085784   10861314   \n",
       "41694               106-BIRMINGHAM, AL   29594548  10166799   10932167   \n",
       "41709   670-CINCINNATI COMM, OH          31668021  10615027   10966472   \n",
       "\n",
       "                   programname   saledate  Sale_Value  Annual_Value  ...  \\\n",
       "57      PC Standard - Weekly 4 2009-08-28      6135.0        5932.8  ...   \n",
       "74      PC Standard - Weekly 4 2009-08-28      6135.0        5932.8  ...   \n",
       "84      PC Standard - Weekly 4 2009-08-28      6135.0        5932.8  ...   \n",
       "115     PC Standard - Weekly 4 2009-08-28      6135.0        5932.8  ...   \n",
       "121     PC Standard - Weekly 4 2009-08-28      6135.0        5932.8  ...   \n",
       "...                        ...        ...         ...           ...  ...   \n",
       "41596       Wildlife - Odd Job 2020-05-28       350.0           0.0  ...   \n",
       "41626  Carpenter Ant - Odd Job 2020-06-03       240.0           0.0  ...   \n",
       "41650        Bed Bug - Odd Job 2020-06-14       291.0           0.0  ...   \n",
       "41694      Termite Baiting Svc 2020-07-02      1299.0         299.0  ...   \n",
       "41709    PC Standard - Odd Job 2020-07-14        80.0           0.0  ...   \n",
       "\n",
       "         ZIP     Billing Name                         Billing Address  \\\n",
       "57     19134                         320 Yorktown Plz, Elkins Park PA   \n",
       "74     19134                         320 Yorktown Plz, Elkins Park PA   \n",
       "84     19134                         320 Yorktown Plz, Elkins Park PA   \n",
       "115    19134                         320 Yorktown Plz, Elkins Park PA   \n",
       "121    19134                         320 Yorktown Plz, Elkins Park PA   \n",
       "...      ...              ...                                     ...   \n",
       "41596  63146  HOLLY HOLTZMANN           1945 CRAIG Rd, Saint Louis MO   \n",
       "41626  75056                               P O BOX 209212 , AUSTIN TX   \n",
       "41650  23060                   2000 WARE BOTTOM SPRING RD, CHESTER VA   \n",
       "41694  35210        LEE LODER            PO BOX 13545 , Birmingham AL   \n",
       "41709  45221                            380 COLLEGE DR, CINCINNATI OH   \n",
       "\n",
       "       Billing ZIP  region program chemical  bait  hardware  equipment  \n",
       "57           19027      15      44     3102    34     27864        128  \n",
       "74           19027      15      44     3440    34     27840        128  \n",
       "84           19027      15      44     1694    34     27728        320  \n",
       "115          19027      15      44      426    34     27719        128  \n",
       "121          19027      15      44     3681    34     27745        128  \n",
       "...            ...     ...     ...      ...   ...       ...        ...  \n",
       "41596        63146      32      61     4183    55     13948        332  \n",
       "41626        78720      29      10     2750    23     13978        332  \n",
       "41650        23836      14       3     4183    35     13881        332  \n",
       "41694        35202      12      59     4183    51     13924        332  \n",
       "41709        45219       6      37     3975    34     13898        332  \n",
       "\n",
       "[3276 rows x 47 columns]"
      ]
     },
     "execution_count": 58,
     "metadata": {},
     "output_type": "execute_result"
    }
   ],
   "source": [
    "bait_no_null= data.dropna(subset=['Bait_Materials_Applied'])\n",
    "bait_no_null"
   ]
  },
  {
   "cell_type": "code",
   "execution_count": 59,
   "metadata": {},
   "outputs": [
    {
     "data": {
      "text/plain": [
       "57       34\n",
       "74       34\n",
       "84       34\n",
       "115      34\n",
       "121      34\n",
       "         ..\n",
       "41596    55\n",
       "41626    23\n",
       "41650    35\n",
       "41694    51\n",
       "41709    34\n",
       "Name: bait, Length: 3276, dtype: int32"
      ]
     },
     "execution_count": 59,
     "metadata": {},
     "output_type": "execute_result"
    }
   ],
   "source": [
    "bait_no_null['bait']"
   ]
  },
  {
   "cell_type": "code",
   "execution_count": 60,
   "metadata": {},
   "outputs": [
    {
     "data": {
      "text/plain": [
       "Int64Index([   57,    74,    84,   115,   121,   125,   147,   149,   150,\n",
       "              151,\n",
       "            ...\n",
       "            41421, 41432, 41489, 41512, 41591, 41596, 41626, 41650, 41694,\n",
       "            41709],\n",
       "           dtype='int64', length=3276)"
      ]
     },
     "execution_count": 60,
     "metadata": {},
     "output_type": "execute_result"
    }
   ],
   "source": [
    "bait_no_null['bait'].index"
   ]
  },
  {
   "cell_type": "code",
   "execution_count": 61,
   "metadata": {},
   "outputs": [
    {
     "data": {
      "text/html": [
       "<div>\n",
       "<style scoped>\n",
       "    .dataframe tbody tr th:only-of-type {\n",
       "        vertical-align: middle;\n",
       "    }\n",
       "\n",
       "    .dataframe tbody tr th {\n",
       "        vertical-align: top;\n",
       "    }\n",
       "\n",
       "    .dataframe thead th {\n",
       "        text-align: right;\n",
       "    }\n",
       "</style>\n",
       "<table border=\"1\" class=\"dataframe\">\n",
       "  <thead>\n",
       "    <tr style=\"text-align: right;\">\n",
       "      <th></th>\n",
       "      <th>region</th>\n",
       "      <th>program</th>\n",
       "    </tr>\n",
       "  </thead>\n",
       "  <tbody>\n",
       "    <tr>\n",
       "      <th>57</th>\n",
       "      <td>15</td>\n",
       "      <td>44</td>\n",
       "    </tr>\n",
       "    <tr>\n",
       "      <th>74</th>\n",
       "      <td>15</td>\n",
       "      <td>44</td>\n",
       "    </tr>\n",
       "    <tr>\n",
       "      <th>84</th>\n",
       "      <td>15</td>\n",
       "      <td>44</td>\n",
       "    </tr>\n",
       "    <tr>\n",
       "      <th>115</th>\n",
       "      <td>15</td>\n",
       "      <td>44</td>\n",
       "    </tr>\n",
       "    <tr>\n",
       "      <th>121</th>\n",
       "      <td>15</td>\n",
       "      <td>44</td>\n",
       "    </tr>\n",
       "    <tr>\n",
       "      <th>...</th>\n",
       "      <td>...</td>\n",
       "      <td>...</td>\n",
       "    </tr>\n",
       "    <tr>\n",
       "      <th>41596</th>\n",
       "      <td>32</td>\n",
       "      <td>61</td>\n",
       "    </tr>\n",
       "    <tr>\n",
       "      <th>41626</th>\n",
       "      <td>29</td>\n",
       "      <td>10</td>\n",
       "    </tr>\n",
       "    <tr>\n",
       "      <th>41650</th>\n",
       "      <td>14</td>\n",
       "      <td>3</td>\n",
       "    </tr>\n",
       "    <tr>\n",
       "      <th>41694</th>\n",
       "      <td>12</td>\n",
       "      <td>59</td>\n",
       "    </tr>\n",
       "    <tr>\n",
       "      <th>41709</th>\n",
       "      <td>6</td>\n",
       "      <td>37</td>\n",
       "    </tr>\n",
       "  </tbody>\n",
       "</table>\n",
       "<p>3276 rows × 2 columns</p>\n",
       "</div>"
      ],
      "text/plain": [
       "       region  program\n",
       "57         15       44\n",
       "74         15       44\n",
       "84         15       44\n",
       "115        15       44\n",
       "121        15       44\n",
       "...       ...      ...\n",
       "41596      32       61\n",
       "41626      29       10\n",
       "41650      14        3\n",
       "41694      12       59\n",
       "41709       6       37\n",
       "\n",
       "[3276 rows x 2 columns]"
      ]
     },
     "execution_count": 61,
     "metadata": {},
     "output_type": "execute_result"
    }
   ],
   "source": [
    "d.iloc[bait_no_null['bait'].index]"
   ]
  },
  {
   "cell_type": "code",
   "execution_count": 62,
   "metadata": {},
   "outputs": [],
   "source": [
    "# split the data for traning and testing\n",
    "x1_train,x1_test,y1_train,y1_test = train_test_split(d.iloc[bait_no_null['bait'].index],bait_no_null['bait'],test_size=0.2)"
   ]
  },
  {
   "cell_type": "code",
   "execution_count": 63,
   "metadata": {},
   "outputs": [
    {
     "data": {
      "text/html": [
       "<div>\n",
       "<style scoped>\n",
       "    .dataframe tbody tr th:only-of-type {\n",
       "        vertical-align: middle;\n",
       "    }\n",
       "\n",
       "    .dataframe tbody tr th {\n",
       "        vertical-align: top;\n",
       "    }\n",
       "\n",
       "    .dataframe thead th {\n",
       "        text-align: right;\n",
       "    }\n",
       "</style>\n",
       "<table border=\"1\" class=\"dataframe\">\n",
       "  <thead>\n",
       "    <tr style=\"text-align: right;\">\n",
       "      <th></th>\n",
       "      <th>region</th>\n",
       "      <th>program</th>\n",
       "    </tr>\n",
       "  </thead>\n",
       "  <tbody>\n",
       "    <tr>\n",
       "      <th>38107</th>\n",
       "      <td>6</td>\n",
       "      <td>36</td>\n",
       "    </tr>\n",
       "    <tr>\n",
       "      <th>11088</th>\n",
       "      <td>15</td>\n",
       "      <td>44</td>\n",
       "    </tr>\n",
       "    <tr>\n",
       "      <th>9556</th>\n",
       "      <td>14</td>\n",
       "      <td>36</td>\n",
       "    </tr>\n",
       "    <tr>\n",
       "      <th>10659</th>\n",
       "      <td>15</td>\n",
       "      <td>36</td>\n",
       "    </tr>\n",
       "    <tr>\n",
       "      <th>38775</th>\n",
       "      <td>25</td>\n",
       "      <td>36</td>\n",
       "    </tr>\n",
       "    <tr>\n",
       "      <th>...</th>\n",
       "      <td>...</td>\n",
       "      <td>...</td>\n",
       "    </tr>\n",
       "    <tr>\n",
       "      <th>12390</th>\n",
       "      <td>10</td>\n",
       "      <td>19</td>\n",
       "    </tr>\n",
       "    <tr>\n",
       "      <th>6282</th>\n",
       "      <td>1</td>\n",
       "      <td>44</td>\n",
       "    </tr>\n",
       "    <tr>\n",
       "      <th>14836</th>\n",
       "      <td>15</td>\n",
       "      <td>45</td>\n",
       "    </tr>\n",
       "    <tr>\n",
       "      <th>28837</th>\n",
       "      <td>27</td>\n",
       "      <td>36</td>\n",
       "    </tr>\n",
       "    <tr>\n",
       "      <th>31178</th>\n",
       "      <td>32</td>\n",
       "      <td>46</td>\n",
       "    </tr>\n",
       "  </tbody>\n",
       "</table>\n",
       "<p>2620 rows × 2 columns</p>\n",
       "</div>"
      ],
      "text/plain": [
       "       region  program\n",
       "38107       6       36\n",
       "11088      15       44\n",
       "9556       14       36\n",
       "10659      15       36\n",
       "38775      25       36\n",
       "...       ...      ...\n",
       "12390      10       19\n",
       "6282        1       44\n",
       "14836      15       45\n",
       "28837      27       36\n",
       "31178      32       46\n",
       "\n",
       "[2620 rows x 2 columns]"
      ]
     },
     "execution_count": 63,
     "metadata": {},
     "output_type": "execute_result"
    }
   ],
   "source": [
    "x1_train"
   ]
  },
  {
   "cell_type": "code",
   "execution_count": null,
   "metadata": {},
   "outputs": [],
   "source": []
  },
  {
   "cell_type": "code",
   "execution_count": 64,
   "metadata": {},
   "outputs": [],
   "source": [
    "knn=KNeighborsClassifier(n_neighbors=3)"
   ]
  },
  {
   "cell_type": "code",
   "execution_count": 65,
   "metadata": {},
   "outputs": [
    {
     "data": {
      "text/plain": [
       "KNeighborsClassifier(n_neighbors=3)"
      ]
     },
     "execution_count": 65,
     "metadata": {},
     "output_type": "execute_result"
    }
   ],
   "source": [
    "knn.fit(x1_train,y1_train)"
   ]
  },
  {
   "cell_type": "code",
   "execution_count": 66,
   "metadata": {},
   "outputs": [],
   "source": [
    "# knn.predict()"
   ]
  },
  {
   "cell_type": "code",
   "execution_count": 67,
   "metadata": {},
   "outputs": [
    {
     "data": {
      "text/plain": [
       "0.44618320610687023"
      ]
     },
     "execution_count": 67,
     "metadata": {},
     "output_type": "execute_result"
    }
   ],
   "source": [
    "knn.score(x1_train,y1_train)"
   ]
  },
  {
   "cell_type": "code",
   "execution_count": 68,
   "metadata": {},
   "outputs": [
    {
     "data": {
      "text/plain": [
       "0.4070121951219512"
      ]
     },
     "execution_count": 68,
     "metadata": {},
     "output_type": "execute_result"
    }
   ],
   "source": [
    "knn.score(x1_test,y1_test)\n"
   ]
  },
  {
   "cell_type": "code",
   "execution_count": 69,
   "metadata": {},
   "outputs": [
    {
     "name": "stderr",
     "output_type": "stream",
     "text": [
      "<ipython-input-69-a4c684dc07c8>:1: SettingWithCopyWarning: \n",
      "A value is trying to be set on a copy of a slice from a DataFrame.\n",
      "Try using .loc[row_indexer,col_indexer] = value instead\n",
      "\n",
      "See the caveats in the documentation: https://pandas.pydata.org/pandas-docs/stable/user_guide/indexing.html#returning-a-view-versus-a-copy\n",
      "  bait_no_null['bait_predict']= knn.predict(d.iloc[bait_no_null['bait'].index])\n"
     ]
    }
   ],
   "source": [
    "bait_no_null['bait_predict']= knn.predict(d.iloc[bait_no_null['bait'].index])"
   ]
  },
  {
   "cell_type": "code",
   "execution_count": 70,
   "metadata": {},
   "outputs": [
    {
     "data": {
      "text/html": [
       "<div>\n",
       "<style scoped>\n",
       "    .dataframe tbody tr th:only-of-type {\n",
       "        vertical-align: middle;\n",
       "    }\n",
       "\n",
       "    .dataframe tbody tr th {\n",
       "        vertical-align: top;\n",
       "    }\n",
       "\n",
       "    .dataframe thead th {\n",
       "        text-align: right;\n",
       "    }\n",
       "</style>\n",
       "<table border=\"1\" class=\"dataframe\">\n",
       "  <thead>\n",
       "    <tr style=\"text-align: right;\">\n",
       "      <th></th>\n",
       "      <th>categoryname</th>\n",
       "      <th>categoryname.1</th>\n",
       "      <th>Branch</th>\n",
       "      <th>accountid</th>\n",
       "      <th>siteid</th>\n",
       "      <th>programid</th>\n",
       "      <th>programname</th>\n",
       "      <th>saledate</th>\n",
       "      <th>Sale_Value</th>\n",
       "      <th>Annual_Value</th>\n",
       "      <th>...</th>\n",
       "      <th>Billing Name</th>\n",
       "      <th>Billing Address</th>\n",
       "      <th>Billing ZIP</th>\n",
       "      <th>region</th>\n",
       "      <th>program</th>\n",
       "      <th>chemical</th>\n",
       "      <th>bait</th>\n",
       "      <th>hardware</th>\n",
       "      <th>equipment</th>\n",
       "      <th>bait_predict</th>\n",
       "    </tr>\n",
       "  </thead>\n",
       "  <tbody>\n",
       "    <tr>\n",
       "      <th>57</th>\n",
       "      <td>85-Northeast Division</td>\n",
       "      <td>499-Beltway Commercial Region</td>\n",
       "      <td>691-PENN JERSEY COMMERCIAL, PA</td>\n",
       "      <td>100445</td>\n",
       "      <td>105513</td>\n",
       "      <td>75341</td>\n",
       "      <td>PC Standard - Weekly 4</td>\n",
       "      <td>2009-08-28</td>\n",
       "      <td>6135.0</td>\n",
       "      <td>5932.8</td>\n",
       "      <td>...</td>\n",
       "      <td></td>\n",
       "      <td>320 Yorktown Plz, Elkins Park PA</td>\n",
       "      <td>19027</td>\n",
       "      <td>15</td>\n",
       "      <td>44</td>\n",
       "      <td>3102</td>\n",
       "      <td>34</td>\n",
       "      <td>27864</td>\n",
       "      <td>128</td>\n",
       "      <td>14</td>\n",
       "    </tr>\n",
       "    <tr>\n",
       "      <th>74</th>\n",
       "      <td>85-Northeast Division</td>\n",
       "      <td>499-Beltway Commercial Region</td>\n",
       "      <td>691-PENN JERSEY COMMERCIAL, PA</td>\n",
       "      <td>100445</td>\n",
       "      <td>105513</td>\n",
       "      <td>75341</td>\n",
       "      <td>PC Standard - Weekly 4</td>\n",
       "      <td>2009-08-28</td>\n",
       "      <td>6135.0</td>\n",
       "      <td>5932.8</td>\n",
       "      <td>...</td>\n",
       "      <td></td>\n",
       "      <td>320 Yorktown Plz, Elkins Park PA</td>\n",
       "      <td>19027</td>\n",
       "      <td>15</td>\n",
       "      <td>44</td>\n",
       "      <td>3440</td>\n",
       "      <td>34</td>\n",
       "      <td>27840</td>\n",
       "      <td>128</td>\n",
       "      <td>14</td>\n",
       "    </tr>\n",
       "    <tr>\n",
       "      <th>84</th>\n",
       "      <td>85-Northeast Division</td>\n",
       "      <td>499-Beltway Commercial Region</td>\n",
       "      <td>691-PENN JERSEY COMMERCIAL, PA</td>\n",
       "      <td>100445</td>\n",
       "      <td>105513</td>\n",
       "      <td>75341</td>\n",
       "      <td>PC Standard - Weekly 4</td>\n",
       "      <td>2009-08-28</td>\n",
       "      <td>6135.0</td>\n",
       "      <td>5932.8</td>\n",
       "      <td>...</td>\n",
       "      <td></td>\n",
       "      <td>320 Yorktown Plz, Elkins Park PA</td>\n",
       "      <td>19027</td>\n",
       "      <td>15</td>\n",
       "      <td>44</td>\n",
       "      <td>1694</td>\n",
       "      <td>34</td>\n",
       "      <td>27728</td>\n",
       "      <td>320</td>\n",
       "      <td>14</td>\n",
       "    </tr>\n",
       "    <tr>\n",
       "      <th>115</th>\n",
       "      <td>85-Northeast Division</td>\n",
       "      <td>499-Beltway Commercial Region</td>\n",
       "      <td>691-PENN JERSEY COMMERCIAL, PA</td>\n",
       "      <td>100445</td>\n",
       "      <td>105513</td>\n",
       "      <td>75341</td>\n",
       "      <td>PC Standard - Weekly 4</td>\n",
       "      <td>2009-08-28</td>\n",
       "      <td>6135.0</td>\n",
       "      <td>5932.8</td>\n",
       "      <td>...</td>\n",
       "      <td></td>\n",
       "      <td>320 Yorktown Plz, Elkins Park PA</td>\n",
       "      <td>19027</td>\n",
       "      <td>15</td>\n",
       "      <td>44</td>\n",
       "      <td>426</td>\n",
       "      <td>34</td>\n",
       "      <td>27719</td>\n",
       "      <td>128</td>\n",
       "      <td>14</td>\n",
       "    </tr>\n",
       "    <tr>\n",
       "      <th>121</th>\n",
       "      <td>85-Northeast Division</td>\n",
       "      <td>499-Beltway Commercial Region</td>\n",
       "      <td>691-PENN JERSEY COMMERCIAL, PA</td>\n",
       "      <td>100445</td>\n",
       "      <td>105513</td>\n",
       "      <td>75341</td>\n",
       "      <td>PC Standard - Weekly 4</td>\n",
       "      <td>2009-08-28</td>\n",
       "      <td>6135.0</td>\n",
       "      <td>5932.8</td>\n",
       "      <td>...</td>\n",
       "      <td></td>\n",
       "      <td>320 Yorktown Plz, Elkins Park PA</td>\n",
       "      <td>19027</td>\n",
       "      <td>15</td>\n",
       "      <td>44</td>\n",
       "      <td>3681</td>\n",
       "      <td>34</td>\n",
       "      <td>27745</td>\n",
       "      <td>128</td>\n",
       "      <td>14</td>\n",
       "    </tr>\n",
       "    <tr>\n",
       "      <th>...</th>\n",
       "      <td>...</td>\n",
       "      <td>...</td>\n",
       "      <td>...</td>\n",
       "      <td>...</td>\n",
       "      <td>...</td>\n",
       "      <td>...</td>\n",
       "      <td>...</td>\n",
       "      <td>...</td>\n",
       "      <td>...</td>\n",
       "      <td>...</td>\n",
       "      <td>...</td>\n",
       "      <td>...</td>\n",
       "      <td>...</td>\n",
       "      <td>...</td>\n",
       "      <td>...</td>\n",
       "      <td>...</td>\n",
       "      <td>...</td>\n",
       "      <td>...</td>\n",
       "      <td>...</td>\n",
       "      <td>...</td>\n",
       "      <td>...</td>\n",
       "    </tr>\n",
       "    <tr>\n",
       "      <th>41596</th>\n",
       "      <td>84-South Central Division</td>\n",
       "      <td>899-South Central Commercial Region</td>\n",
       "      <td>677-ST. LOUIS COMM, MO</td>\n",
       "      <td>29305860</td>\n",
       "      <td>7015365</td>\n",
       "      <td>10801591</td>\n",
       "      <td>Wildlife - Odd Job</td>\n",
       "      <td>2020-05-28</td>\n",
       "      <td>350.0</td>\n",
       "      <td>0.0</td>\n",
       "      <td>...</td>\n",
       "      <td>HOLLY HOLTZMANN</td>\n",
       "      <td>1945 CRAIG Rd, Saint Louis MO</td>\n",
       "      <td>63146</td>\n",
       "      <td>32</td>\n",
       "      <td>61</td>\n",
       "      <td>4183</td>\n",
       "      <td>55</td>\n",
       "      <td>13948</td>\n",
       "      <td>332</td>\n",
       "      <td>51</td>\n",
       "    </tr>\n",
       "    <tr>\n",
       "      <th>41626</th>\n",
       "      <td>84-South Central Division</td>\n",
       "      <td>849-N. Texas/Oklahoma Region</td>\n",
       "      <td>826-DALLAS, TX</td>\n",
       "      <td>29970683</td>\n",
       "      <td>10987935</td>\n",
       "      <td>10826130</td>\n",
       "      <td>Carpenter Ant - Odd Job</td>\n",
       "      <td>2020-06-03</td>\n",
       "      <td>240.0</td>\n",
       "      <td>0.0</td>\n",
       "      <td>...</td>\n",
       "      <td></td>\n",
       "      <td>P O BOX 209212 , AUSTIN TX</td>\n",
       "      <td>78720</td>\n",
       "      <td>29</td>\n",
       "      <td>10</td>\n",
       "      <td>2750</td>\n",
       "      <td>23</td>\n",
       "      <td>13978</td>\n",
       "      <td>332</td>\n",
       "      <td>31</td>\n",
       "    </tr>\n",
       "    <tr>\n",
       "      <th>41650</th>\n",
       "      <td>85-Northeast Division</td>\n",
       "      <td>449-Virginia Region</td>\n",
       "      <td>660-CENTRAL VIRGINIA COMM</td>\n",
       "      <td>1081309</td>\n",
       "      <td>1085784</td>\n",
       "      <td>10861314</td>\n",
       "      <td>Bed Bug - Odd Job</td>\n",
       "      <td>2020-06-14</td>\n",
       "      <td>291.0</td>\n",
       "      <td>0.0</td>\n",
       "      <td>...</td>\n",
       "      <td></td>\n",
       "      <td>2000 WARE BOTTOM SPRING RD, CHESTER VA</td>\n",
       "      <td>23836</td>\n",
       "      <td>14</td>\n",
       "      <td>3</td>\n",
       "      <td>4183</td>\n",
       "      <td>35</td>\n",
       "      <td>13881</td>\n",
       "      <td>332</td>\n",
       "      <td>6</td>\n",
       "    </tr>\n",
       "    <tr>\n",
       "      <th>41694</th>\n",
       "      <td>84-South Central Division</td>\n",
       "      <td>409-Tennesee/Alabama Region</td>\n",
       "      <td>106-BIRMINGHAM, AL</td>\n",
       "      <td>29594548</td>\n",
       "      <td>10166799</td>\n",
       "      <td>10932167</td>\n",
       "      <td>Termite Baiting Svc</td>\n",
       "      <td>2020-07-02</td>\n",
       "      <td>1299.0</td>\n",
       "      <td>299.0</td>\n",
       "      <td>...</td>\n",
       "      <td>LEE LODER</td>\n",
       "      <td>PO BOX 13545 , Birmingham AL</td>\n",
       "      <td>35202</td>\n",
       "      <td>12</td>\n",
       "      <td>59</td>\n",
       "      <td>4183</td>\n",
       "      <td>51</td>\n",
       "      <td>13924</td>\n",
       "      <td>332</td>\n",
       "      <td>51</td>\n",
       "    </tr>\n",
       "    <tr>\n",
       "      <th>41709</th>\n",
       "      <td>82-Midwest Division</td>\n",
       "      <td>339-Midwest Commercial Region</td>\n",
       "      <td>670-CINCINNATI COMM, OH</td>\n",
       "      <td>31668021</td>\n",
       "      <td>10615027</td>\n",
       "      <td>10966472</td>\n",
       "      <td>PC Standard - Odd Job</td>\n",
       "      <td>2020-07-14</td>\n",
       "      <td>80.0</td>\n",
       "      <td>0.0</td>\n",
       "      <td>...</td>\n",
       "      <td></td>\n",
       "      <td>380 COLLEGE DR, CINCINNATI OH</td>\n",
       "      <td>45219</td>\n",
       "      <td>6</td>\n",
       "      <td>37</td>\n",
       "      <td>3975</td>\n",
       "      <td>34</td>\n",
       "      <td>13898</td>\n",
       "      <td>332</td>\n",
       "      <td>6</td>\n",
       "    </tr>\n",
       "  </tbody>\n",
       "</table>\n",
       "<p>3276 rows × 48 columns</p>\n",
       "</div>"
      ],
      "text/plain": [
       "                    categoryname                       categoryname.1  \\\n",
       "57         85-Northeast Division        499-Beltway Commercial Region   \n",
       "74         85-Northeast Division        499-Beltway Commercial Region   \n",
       "84         85-Northeast Division        499-Beltway Commercial Region   \n",
       "115        85-Northeast Division        499-Beltway Commercial Region   \n",
       "121        85-Northeast Division        499-Beltway Commercial Region   \n",
       "...                          ...                                  ...   \n",
       "41596  84-South Central Division  899-South Central Commercial Region   \n",
       "41626  84-South Central Division         849-N. Texas/Oklahoma Region   \n",
       "41650      85-Northeast Division                  449-Virginia Region   \n",
       "41694  84-South Central Division          409-Tennesee/Alabama Region   \n",
       "41709        82-Midwest Division        339-Midwest Commercial Region   \n",
       "\n",
       "                                Branch  accountid    siteid  programid  \\\n",
       "57      691-PENN JERSEY COMMERCIAL, PA     100445    105513      75341   \n",
       "74      691-PENN JERSEY COMMERCIAL, PA     100445    105513      75341   \n",
       "84      691-PENN JERSEY COMMERCIAL, PA     100445    105513      75341   \n",
       "115     691-PENN JERSEY COMMERCIAL, PA     100445    105513      75341   \n",
       "121     691-PENN JERSEY COMMERCIAL, PA     100445    105513      75341   \n",
       "...                                ...        ...       ...        ...   \n",
       "41596  677-ST. LOUIS COMM, MO            29305860   7015365   10801591   \n",
       "41626   826-DALLAS, TX                   29970683  10987935   10826130   \n",
       "41650        660-CENTRAL VIRGINIA COMM    1081309   1085784   10861314   \n",
       "41694               106-BIRMINGHAM, AL   29594548  10166799   10932167   \n",
       "41709   670-CINCINNATI COMM, OH          31668021  10615027   10966472   \n",
       "\n",
       "                   programname   saledate  Sale_Value  Annual_Value  ...  \\\n",
       "57      PC Standard - Weekly 4 2009-08-28      6135.0        5932.8  ...   \n",
       "74      PC Standard - Weekly 4 2009-08-28      6135.0        5932.8  ...   \n",
       "84      PC Standard - Weekly 4 2009-08-28      6135.0        5932.8  ...   \n",
       "115     PC Standard - Weekly 4 2009-08-28      6135.0        5932.8  ...   \n",
       "121     PC Standard - Weekly 4 2009-08-28      6135.0        5932.8  ...   \n",
       "...                        ...        ...         ...           ...  ...   \n",
       "41596       Wildlife - Odd Job 2020-05-28       350.0           0.0  ...   \n",
       "41626  Carpenter Ant - Odd Job 2020-06-03       240.0           0.0  ...   \n",
       "41650        Bed Bug - Odd Job 2020-06-14       291.0           0.0  ...   \n",
       "41694      Termite Baiting Svc 2020-07-02      1299.0         299.0  ...   \n",
       "41709    PC Standard - Odd Job 2020-07-14        80.0           0.0  ...   \n",
       "\n",
       "          Billing Name                         Billing Address Billing ZIP  \\\n",
       "57                            320 Yorktown Plz, Elkins Park PA       19027   \n",
       "74                            320 Yorktown Plz, Elkins Park PA       19027   \n",
       "84                            320 Yorktown Plz, Elkins Park PA       19027   \n",
       "115                           320 Yorktown Plz, Elkins Park PA       19027   \n",
       "121                           320 Yorktown Plz, Elkins Park PA       19027   \n",
       "...                ...                                     ...         ...   \n",
       "41596  HOLLY HOLTZMANN           1945 CRAIG Rd, Saint Louis MO       63146   \n",
       "41626                               P O BOX 209212 , AUSTIN TX       78720   \n",
       "41650                   2000 WARE BOTTOM SPRING RD, CHESTER VA       23836   \n",
       "41694        LEE LODER            PO BOX 13545 , Birmingham AL       35202   \n",
       "41709                            380 COLLEGE DR, CINCINNATI OH       45219   \n",
       "\n",
       "       region  program chemical bait  hardware  equipment  bait_predict  \n",
       "57         15       44     3102   34     27864        128            14  \n",
       "74         15       44     3440   34     27840        128            14  \n",
       "84         15       44     1694   34     27728        320            14  \n",
       "115        15       44      426   34     27719        128            14  \n",
       "121        15       44     3681   34     27745        128            14  \n",
       "...       ...      ...      ...  ...       ...        ...           ...  \n",
       "41596      32       61     4183   55     13948        332            51  \n",
       "41626      29       10     2750   23     13978        332            31  \n",
       "41650      14        3     4183   35     13881        332             6  \n",
       "41694      12       59     4183   51     13924        332            51  \n",
       "41709       6       37     3975   34     13898        332             6  \n",
       "\n",
       "[3276 rows x 48 columns]"
      ]
     },
     "execution_count": 70,
     "metadata": {},
     "output_type": "execute_result"
    }
   ],
   "source": [
    "bait_no_null"
   ]
  },
  {
   "cell_type": "code",
   "execution_count": 71,
   "metadata": {},
   "outputs": [
    {
     "name": "stderr",
     "output_type": "stream",
     "text": [
      "<ipython-input-71-3bc7d818ed7a>:1: SettingWithCopyWarning: \n",
      "A value is trying to be set on a copy of a slice from a DataFrame.\n",
      "Try using .loc[row_indexer,col_indexer] = value instead\n",
      "\n",
      "See the caveats in the documentation: https://pandas.pydata.org/pandas-docs/stable/user_guide/indexing.html#returning-a-view-versus-a-copy\n",
      "  bait_no_null['bait_result']= le4.inverse_transform(bait_no_null['bait_predict'])\n"
     ]
    }
   ],
   "source": [
    "bait_no_null['bait_result']= le4.inverse_transform(bait_no_null['bait_predict'])"
   ]
  },
  {
   "cell_type": "code",
   "execution_count": 72,
   "metadata": {},
   "outputs": [
    {
     "data": {
      "text/html": [
       "<div>\n",
       "<style scoped>\n",
       "    .dataframe tbody tr th:only-of-type {\n",
       "        vertical-align: middle;\n",
       "    }\n",
       "\n",
       "    .dataframe tbody tr th {\n",
       "        vertical-align: top;\n",
       "    }\n",
       "\n",
       "    .dataframe thead th {\n",
       "        text-align: right;\n",
       "    }\n",
       "</style>\n",
       "<table border=\"1\" class=\"dataframe\">\n",
       "  <thead>\n",
       "    <tr style=\"text-align: right;\">\n",
       "      <th></th>\n",
       "      <th>categoryname</th>\n",
       "      <th>categoryname.1</th>\n",
       "      <th>Branch</th>\n",
       "      <th>accountid</th>\n",
       "      <th>siteid</th>\n",
       "      <th>programid</th>\n",
       "      <th>programname</th>\n",
       "      <th>saledate</th>\n",
       "      <th>Sale_Value</th>\n",
       "      <th>Annual_Value</th>\n",
       "      <th>...</th>\n",
       "      <th>Billing Address</th>\n",
       "      <th>Billing ZIP</th>\n",
       "      <th>region</th>\n",
       "      <th>program</th>\n",
       "      <th>chemical</th>\n",
       "      <th>bait</th>\n",
       "      <th>hardware</th>\n",
       "      <th>equipment</th>\n",
       "      <th>bait_predict</th>\n",
       "      <th>bait_result</th>\n",
       "    </tr>\n",
       "  </thead>\n",
       "  <tbody>\n",
       "    <tr>\n",
       "      <th>57</th>\n",
       "      <td>85-Northeast Division</td>\n",
       "      <td>499-Beltway Commercial Region</td>\n",
       "      <td>691-PENN JERSEY COMMERCIAL, PA</td>\n",
       "      <td>100445</td>\n",
       "      <td>105513</td>\n",
       "      <td>75341</td>\n",
       "      <td>PC Standard - Weekly 4</td>\n",
       "      <td>2009-08-28</td>\n",
       "      <td>6135.0</td>\n",
       "      <td>5932.8</td>\n",
       "      <td>...</td>\n",
       "      <td>320 Yorktown Plz, Elkins Park PA</td>\n",
       "      <td>19027</td>\n",
       "      <td>15</td>\n",
       "      <td>44</td>\n",
       "      <td>3102</td>\n",
       "      <td>34</td>\n",
       "      <td>27864</td>\n",
       "      <td>128</td>\n",
       "      <td>14</td>\n",
       "      <td>ADVIONR</td>\n",
       "    </tr>\n",
       "    <tr>\n",
       "      <th>74</th>\n",
       "      <td>85-Northeast Division</td>\n",
       "      <td>499-Beltway Commercial Region</td>\n",
       "      <td>691-PENN JERSEY COMMERCIAL, PA</td>\n",
       "      <td>100445</td>\n",
       "      <td>105513</td>\n",
       "      <td>75341</td>\n",
       "      <td>PC Standard - Weekly 4</td>\n",
       "      <td>2009-08-28</td>\n",
       "      <td>6135.0</td>\n",
       "      <td>5932.8</td>\n",
       "      <td>...</td>\n",
       "      <td>320 Yorktown Plz, Elkins Park PA</td>\n",
       "      <td>19027</td>\n",
       "      <td>15</td>\n",
       "      <td>44</td>\n",
       "      <td>3440</td>\n",
       "      <td>34</td>\n",
       "      <td>27840</td>\n",
       "      <td>128</td>\n",
       "      <td>14</td>\n",
       "      <td>ADVIONR</td>\n",
       "    </tr>\n",
       "    <tr>\n",
       "      <th>84</th>\n",
       "      <td>85-Northeast Division</td>\n",
       "      <td>499-Beltway Commercial Region</td>\n",
       "      <td>691-PENN JERSEY COMMERCIAL, PA</td>\n",
       "      <td>100445</td>\n",
       "      <td>105513</td>\n",
       "      <td>75341</td>\n",
       "      <td>PC Standard - Weekly 4</td>\n",
       "      <td>2009-08-28</td>\n",
       "      <td>6135.0</td>\n",
       "      <td>5932.8</td>\n",
       "      <td>...</td>\n",
       "      <td>320 Yorktown Plz, Elkins Park PA</td>\n",
       "      <td>19027</td>\n",
       "      <td>15</td>\n",
       "      <td>44</td>\n",
       "      <td>1694</td>\n",
       "      <td>34</td>\n",
       "      <td>27728</td>\n",
       "      <td>320</td>\n",
       "      <td>14</td>\n",
       "      <td>ADVIONR</td>\n",
       "    </tr>\n",
       "    <tr>\n",
       "      <th>115</th>\n",
       "      <td>85-Northeast Division</td>\n",
       "      <td>499-Beltway Commercial Region</td>\n",
       "      <td>691-PENN JERSEY COMMERCIAL, PA</td>\n",
       "      <td>100445</td>\n",
       "      <td>105513</td>\n",
       "      <td>75341</td>\n",
       "      <td>PC Standard - Weekly 4</td>\n",
       "      <td>2009-08-28</td>\n",
       "      <td>6135.0</td>\n",
       "      <td>5932.8</td>\n",
       "      <td>...</td>\n",
       "      <td>320 Yorktown Plz, Elkins Park PA</td>\n",
       "      <td>19027</td>\n",
       "      <td>15</td>\n",
       "      <td>44</td>\n",
       "      <td>426</td>\n",
       "      <td>34</td>\n",
       "      <td>27719</td>\n",
       "      <td>128</td>\n",
       "      <td>14</td>\n",
       "      <td>ADVIONR</td>\n",
       "    </tr>\n",
       "    <tr>\n",
       "      <th>121</th>\n",
       "      <td>85-Northeast Division</td>\n",
       "      <td>499-Beltway Commercial Region</td>\n",
       "      <td>691-PENN JERSEY COMMERCIAL, PA</td>\n",
       "      <td>100445</td>\n",
       "      <td>105513</td>\n",
       "      <td>75341</td>\n",
       "      <td>PC Standard - Weekly 4</td>\n",
       "      <td>2009-08-28</td>\n",
       "      <td>6135.0</td>\n",
       "      <td>5932.8</td>\n",
       "      <td>...</td>\n",
       "      <td>320 Yorktown Plz, Elkins Park PA</td>\n",
       "      <td>19027</td>\n",
       "      <td>15</td>\n",
       "      <td>44</td>\n",
       "      <td>3681</td>\n",
       "      <td>34</td>\n",
       "      <td>27745</td>\n",
       "      <td>128</td>\n",
       "      <td>14</td>\n",
       "      <td>ADVIONR</td>\n",
       "    </tr>\n",
       "    <tr>\n",
       "      <th>...</th>\n",
       "      <td>...</td>\n",
       "      <td>...</td>\n",
       "      <td>...</td>\n",
       "      <td>...</td>\n",
       "      <td>...</td>\n",
       "      <td>...</td>\n",
       "      <td>...</td>\n",
       "      <td>...</td>\n",
       "      <td>...</td>\n",
       "      <td>...</td>\n",
       "      <td>...</td>\n",
       "      <td>...</td>\n",
       "      <td>...</td>\n",
       "      <td>...</td>\n",
       "      <td>...</td>\n",
       "      <td>...</td>\n",
       "      <td>...</td>\n",
       "      <td>...</td>\n",
       "      <td>...</td>\n",
       "      <td>...</td>\n",
       "      <td>...</td>\n",
       "    </tr>\n",
       "    <tr>\n",
       "      <th>41596</th>\n",
       "      <td>84-South Central Division</td>\n",
       "      <td>899-South Central Commercial Region</td>\n",
       "      <td>677-ST. LOUIS COMM, MO</td>\n",
       "      <td>29305860</td>\n",
       "      <td>7015365</td>\n",
       "      <td>10801591</td>\n",
       "      <td>Wildlife - Odd Job</td>\n",
       "      <td>2020-05-28</td>\n",
       "      <td>350.0</td>\n",
       "      <td>0.0</td>\n",
       "      <td>...</td>\n",
       "      <td>1945 CRAIG Rd, Saint Louis MO</td>\n",
       "      <td>63146</td>\n",
       "      <td>32</td>\n",
       "      <td>61</td>\n",
       "      <td>4183</td>\n",
       "      <td>55</td>\n",
       "      <td>13948</td>\n",
       "      <td>332</td>\n",
       "      <td>51</td>\n",
       "      <td>REHD2</td>\n",
       "    </tr>\n",
       "    <tr>\n",
       "      <th>41626</th>\n",
       "      <td>84-South Central Division</td>\n",
       "      <td>849-N. Texas/Oklahoma Region</td>\n",
       "      <td>826-DALLAS, TX</td>\n",
       "      <td>29970683</td>\n",
       "      <td>10987935</td>\n",
       "      <td>10826130</td>\n",
       "      <td>Carpenter Ant - Odd Job</td>\n",
       "      <td>2020-06-03</td>\n",
       "      <td>240.0</td>\n",
       "      <td>0.0</td>\n",
       "      <td>...</td>\n",
       "      <td>P O BOX 209212 , AUSTIN TX</td>\n",
       "      <td>78720</td>\n",
       "      <td>29</td>\n",
       "      <td>10</td>\n",
       "      <td>2750</td>\n",
       "      <td>23</td>\n",
       "      <td>13978</td>\n",
       "      <td>332</td>\n",
       "      <td>31</td>\n",
       "      <td>HADVC (Ounce)</td>\n",
       "    </tr>\n",
       "    <tr>\n",
       "      <th>41650</th>\n",
       "      <td>85-Northeast Division</td>\n",
       "      <td>449-Virginia Region</td>\n",
       "      <td>660-CENTRAL VIRGINIA COMM</td>\n",
       "      <td>1081309</td>\n",
       "      <td>1085784</td>\n",
       "      <td>10861314</td>\n",
       "      <td>Bed Bug - Odd Job</td>\n",
       "      <td>2020-06-14</td>\n",
       "      <td>291.0</td>\n",
       "      <td>0.0</td>\n",
       "      <td>...</td>\n",
       "      <td>2000 WARE BOTTOM SPRING RD, CHESTER VA</td>\n",
       "      <td>23836</td>\n",
       "      <td>14</td>\n",
       "      <td>3</td>\n",
       "      <td>4183</td>\n",
       "      <td>35</td>\n",
       "      <td>13881</td>\n",
       "      <td>332</td>\n",
       "      <td>6</td>\n",
       "      <td>ADVIONANT</td>\n",
       "    </tr>\n",
       "    <tr>\n",
       "      <th>41694</th>\n",
       "      <td>84-South Central Division</td>\n",
       "      <td>409-Tennesee/Alabama Region</td>\n",
       "      <td>106-BIRMINGHAM, AL</td>\n",
       "      <td>29594548</td>\n",
       "      <td>10166799</td>\n",
       "      <td>10932167</td>\n",
       "      <td>Termite Baiting Svc</td>\n",
       "      <td>2020-07-02</td>\n",
       "      <td>1299.0</td>\n",
       "      <td>299.0</td>\n",
       "      <td>...</td>\n",
       "      <td>PO BOX 13545 , Birmingham AL</td>\n",
       "      <td>35202</td>\n",
       "      <td>12</td>\n",
       "      <td>59</td>\n",
       "      <td>4183</td>\n",
       "      <td>51</td>\n",
       "      <td>13924</td>\n",
       "      <td>332</td>\n",
       "      <td>51</td>\n",
       "      <td>REHD2</td>\n",
       "    </tr>\n",
       "    <tr>\n",
       "      <th>41709</th>\n",
       "      <td>82-Midwest Division</td>\n",
       "      <td>339-Midwest Commercial Region</td>\n",
       "      <td>670-CINCINNATI COMM, OH</td>\n",
       "      <td>31668021</td>\n",
       "      <td>10615027</td>\n",
       "      <td>10966472</td>\n",
       "      <td>PC Standard - Odd Job</td>\n",
       "      <td>2020-07-14</td>\n",
       "      <td>80.0</td>\n",
       "      <td>0.0</td>\n",
       "      <td>...</td>\n",
       "      <td>380 COLLEGE DR, CINCINNATI OH</td>\n",
       "      <td>45219</td>\n",
       "      <td>6</td>\n",
       "      <td>37</td>\n",
       "      <td>3975</td>\n",
       "      <td>34</td>\n",
       "      <td>13898</td>\n",
       "      <td>332</td>\n",
       "      <td>6</td>\n",
       "      <td>ADVIONANT</td>\n",
       "    </tr>\n",
       "  </tbody>\n",
       "</table>\n",
       "<p>3276 rows × 49 columns</p>\n",
       "</div>"
      ],
      "text/plain": [
       "                    categoryname                       categoryname.1  \\\n",
       "57         85-Northeast Division        499-Beltway Commercial Region   \n",
       "74         85-Northeast Division        499-Beltway Commercial Region   \n",
       "84         85-Northeast Division        499-Beltway Commercial Region   \n",
       "115        85-Northeast Division        499-Beltway Commercial Region   \n",
       "121        85-Northeast Division        499-Beltway Commercial Region   \n",
       "...                          ...                                  ...   \n",
       "41596  84-South Central Division  899-South Central Commercial Region   \n",
       "41626  84-South Central Division         849-N. Texas/Oklahoma Region   \n",
       "41650      85-Northeast Division                  449-Virginia Region   \n",
       "41694  84-South Central Division          409-Tennesee/Alabama Region   \n",
       "41709        82-Midwest Division        339-Midwest Commercial Region   \n",
       "\n",
       "                                Branch  accountid    siteid  programid  \\\n",
       "57      691-PENN JERSEY COMMERCIAL, PA     100445    105513      75341   \n",
       "74      691-PENN JERSEY COMMERCIAL, PA     100445    105513      75341   \n",
       "84      691-PENN JERSEY COMMERCIAL, PA     100445    105513      75341   \n",
       "115     691-PENN JERSEY COMMERCIAL, PA     100445    105513      75341   \n",
       "121     691-PENN JERSEY COMMERCIAL, PA     100445    105513      75341   \n",
       "...                                ...        ...       ...        ...   \n",
       "41596  677-ST. LOUIS COMM, MO            29305860   7015365   10801591   \n",
       "41626   826-DALLAS, TX                   29970683  10987935   10826130   \n",
       "41650        660-CENTRAL VIRGINIA COMM    1081309   1085784   10861314   \n",
       "41694               106-BIRMINGHAM, AL   29594548  10166799   10932167   \n",
       "41709   670-CINCINNATI COMM, OH          31668021  10615027   10966472   \n",
       "\n",
       "                   programname   saledate  Sale_Value  Annual_Value  ...  \\\n",
       "57      PC Standard - Weekly 4 2009-08-28      6135.0        5932.8  ...   \n",
       "74      PC Standard - Weekly 4 2009-08-28      6135.0        5932.8  ...   \n",
       "84      PC Standard - Weekly 4 2009-08-28      6135.0        5932.8  ...   \n",
       "115     PC Standard - Weekly 4 2009-08-28      6135.0        5932.8  ...   \n",
       "121     PC Standard - Weekly 4 2009-08-28      6135.0        5932.8  ...   \n",
       "...                        ...        ...         ...           ...  ...   \n",
       "41596       Wildlife - Odd Job 2020-05-28       350.0           0.0  ...   \n",
       "41626  Carpenter Ant - Odd Job 2020-06-03       240.0           0.0  ...   \n",
       "41650        Bed Bug - Odd Job 2020-06-14       291.0           0.0  ...   \n",
       "41694      Termite Baiting Svc 2020-07-02      1299.0         299.0  ...   \n",
       "41709    PC Standard - Odd Job 2020-07-14        80.0           0.0  ...   \n",
       "\n",
       "                              Billing Address Billing ZIP region  program  \\\n",
       "57           320 Yorktown Plz, Elkins Park PA       19027     15       44   \n",
       "74           320 Yorktown Plz, Elkins Park PA       19027     15       44   \n",
       "84           320 Yorktown Plz, Elkins Park PA       19027     15       44   \n",
       "115          320 Yorktown Plz, Elkins Park PA       19027     15       44   \n",
       "121          320 Yorktown Plz, Elkins Park PA       19027     15       44   \n",
       "...                                       ...         ...    ...      ...   \n",
       "41596           1945 CRAIG Rd, Saint Louis MO       63146     32       61   \n",
       "41626              P O BOX 209212 , AUSTIN TX       78720     29       10   \n",
       "41650  2000 WARE BOTTOM SPRING RD, CHESTER VA       23836     14        3   \n",
       "41694            PO BOX 13545 , Birmingham AL       35202     12       59   \n",
       "41709           380 COLLEGE DR, CINCINNATI OH       45219      6       37   \n",
       "\n",
       "       chemical bait hardware  equipment  bait_predict     bait_result  \n",
       "57         3102   34    27864        128            14         ADVIONR  \n",
       "74         3440   34    27840        128            14         ADVIONR  \n",
       "84         1694   34    27728        320            14         ADVIONR  \n",
       "115         426   34    27719        128            14         ADVIONR  \n",
       "121        3681   34    27745        128            14         ADVIONR  \n",
       "...         ...  ...      ...        ...           ...             ...  \n",
       "41596      4183   55    13948        332            51           REHD2  \n",
       "41626      2750   23    13978        332            31   HADVC (Ounce)  \n",
       "41650      4183   35    13881        332             6       ADVIONANT  \n",
       "41694      4183   51    13924        332            51           REHD2  \n",
       "41709      3975   34    13898        332             6       ADVIONANT  \n",
       "\n",
       "[3276 rows x 49 columns]"
      ]
     },
     "execution_count": 72,
     "metadata": {},
     "output_type": "execute_result"
    }
   ],
   "source": [
    "bait_no_null"
   ]
  },
  {
   "cell_type": "code",
   "execution_count": 73,
   "metadata": {},
   "outputs": [],
   "source": [
    "Bait_ = bait_no_null[['categoryname.1','programname','bait_result']]"
   ]
  },
  {
   "cell_type": "code",
   "execution_count": 74,
   "metadata": {},
   "outputs": [
    {
     "data": {
      "text/html": [
       "<div>\n",
       "<style scoped>\n",
       "    .dataframe tbody tr th:only-of-type {\n",
       "        vertical-align: middle;\n",
       "    }\n",
       "\n",
       "    .dataframe tbody tr th {\n",
       "        vertical-align: top;\n",
       "    }\n",
       "\n",
       "    .dataframe thead th {\n",
       "        text-align: right;\n",
       "    }\n",
       "</style>\n",
       "<table border=\"1\" class=\"dataframe\">\n",
       "  <thead>\n",
       "    <tr style=\"text-align: right;\">\n",
       "      <th></th>\n",
       "      <th>categoryname.1</th>\n",
       "      <th>programname</th>\n",
       "      <th>bait_result</th>\n",
       "    </tr>\n",
       "  </thead>\n",
       "  <tbody>\n",
       "    <tr>\n",
       "      <th>57</th>\n",
       "      <td>499-Beltway Commercial Region</td>\n",
       "      <td>PC Standard - Weekly 4</td>\n",
       "      <td>ADVIONR</td>\n",
       "    </tr>\n",
       "    <tr>\n",
       "      <th>74</th>\n",
       "      <td>499-Beltway Commercial Region</td>\n",
       "      <td>PC Standard - Weekly 4</td>\n",
       "      <td>ADVIONR</td>\n",
       "    </tr>\n",
       "    <tr>\n",
       "      <th>84</th>\n",
       "      <td>499-Beltway Commercial Region</td>\n",
       "      <td>PC Standard - Weekly 4</td>\n",
       "      <td>ADVIONR</td>\n",
       "    </tr>\n",
       "    <tr>\n",
       "      <th>115</th>\n",
       "      <td>499-Beltway Commercial Region</td>\n",
       "      <td>PC Standard - Weekly 4</td>\n",
       "      <td>ADVIONR</td>\n",
       "    </tr>\n",
       "    <tr>\n",
       "      <th>121</th>\n",
       "      <td>499-Beltway Commercial Region</td>\n",
       "      <td>PC Standard - Weekly 4</td>\n",
       "      <td>ADVIONR</td>\n",
       "    </tr>\n",
       "    <tr>\n",
       "      <th>...</th>\n",
       "      <td>...</td>\n",
       "      <td>...</td>\n",
       "      <td>...</td>\n",
       "    </tr>\n",
       "    <tr>\n",
       "      <th>41596</th>\n",
       "      <td>899-South Central Commercial Region</td>\n",
       "      <td>Wildlife - Odd Job</td>\n",
       "      <td>REHD2</td>\n",
       "    </tr>\n",
       "    <tr>\n",
       "      <th>41626</th>\n",
       "      <td>849-N. Texas/Oklahoma Region</td>\n",
       "      <td>Carpenter Ant - Odd Job</td>\n",
       "      <td>HADVC (Ounce)</td>\n",
       "    </tr>\n",
       "    <tr>\n",
       "      <th>41650</th>\n",
       "      <td>449-Virginia Region</td>\n",
       "      <td>Bed Bug - Odd Job</td>\n",
       "      <td>ADVIONANT</td>\n",
       "    </tr>\n",
       "    <tr>\n",
       "      <th>41694</th>\n",
       "      <td>409-Tennesee/Alabama Region</td>\n",
       "      <td>Termite Baiting Svc</td>\n",
       "      <td>REHD2</td>\n",
       "    </tr>\n",
       "    <tr>\n",
       "      <th>41709</th>\n",
       "      <td>339-Midwest Commercial Region</td>\n",
       "      <td>PC Standard - Odd Job</td>\n",
       "      <td>ADVIONANT</td>\n",
       "    </tr>\n",
       "  </tbody>\n",
       "</table>\n",
       "<p>3276 rows × 3 columns</p>\n",
       "</div>"
      ],
      "text/plain": [
       "                            categoryname.1              programname  \\\n",
       "57           499-Beltway Commercial Region   PC Standard - Weekly 4   \n",
       "74           499-Beltway Commercial Region   PC Standard - Weekly 4   \n",
       "84           499-Beltway Commercial Region   PC Standard - Weekly 4   \n",
       "115          499-Beltway Commercial Region   PC Standard - Weekly 4   \n",
       "121          499-Beltway Commercial Region   PC Standard - Weekly 4   \n",
       "...                                    ...                      ...   \n",
       "41596  899-South Central Commercial Region       Wildlife - Odd Job   \n",
       "41626         849-N. Texas/Oklahoma Region  Carpenter Ant - Odd Job   \n",
       "41650                  449-Virginia Region        Bed Bug - Odd Job   \n",
       "41694          409-Tennesee/Alabama Region      Termite Baiting Svc   \n",
       "41709        339-Midwest Commercial Region    PC Standard - Odd Job   \n",
       "\n",
       "          bait_result  \n",
       "57            ADVIONR  \n",
       "74            ADVIONR  \n",
       "84            ADVIONR  \n",
       "115           ADVIONR  \n",
       "121           ADVIONR  \n",
       "...               ...  \n",
       "41596           REHD2  \n",
       "41626   HADVC (Ounce)  \n",
       "41650       ADVIONANT  \n",
       "41694           REHD2  \n",
       "41709       ADVIONANT  \n",
       "\n",
       "[3276 rows x 3 columns]"
      ]
     },
     "execution_count": 74,
     "metadata": {},
     "output_type": "execute_result"
    }
   ],
   "source": [
    "Bait_"
   ]
  },
  {
   "cell_type": "code",
   "execution_count": 75,
   "metadata": {},
   "outputs": [],
   "source": [
    "# Use the random foresr to predict the results\n",
    "clf= RandomForestClassifier(n_estimators=10)"
   ]
  },
  {
   "cell_type": "code",
   "execution_count": 76,
   "metadata": {},
   "outputs": [
    {
     "data": {
      "text/plain": [
       "RandomForestClassifier(n_estimators=10)"
      ]
     },
     "execution_count": 76,
     "metadata": {},
     "output_type": "execute_result"
    }
   ],
   "source": [
    "clf.fit(x1_train,y1_train)"
   ]
  },
  {
   "cell_type": "code",
   "execution_count": 77,
   "metadata": {},
   "outputs": [
    {
     "data": {
      "text/plain": [
       "0.5923664122137404"
      ]
     },
     "execution_count": 77,
     "metadata": {},
     "output_type": "execute_result"
    }
   ],
   "source": [
    "clf.score(x1_train,y1_train)"
   ]
  },
  {
   "cell_type": "code",
   "execution_count": 78,
   "metadata": {},
   "outputs": [
    {
     "data": {
      "text/plain": [
       "0.5320121951219512"
      ]
     },
     "execution_count": 78,
     "metadata": {},
     "output_type": "execute_result"
    }
   ],
   "source": [
    "clf.score(x1_test,y1_test)"
   ]
  },
  {
   "cell_type": "code",
   "execution_count": 79,
   "metadata": {},
   "outputs": [
    {
     "data": {
      "text/plain": [
       "Index(['categoryname', 'categoryname.1', 'Branch', 'accountid', 'siteid',\n",
       "       'programid', 'programname', 'saledate', 'Sale_Value', 'Annual_Value',\n",
       "       'Cancel_date', 'Program_Sales_Person', 'Program Type', 'eventid', 'WO#',\n",
       "       'eventname', 'completeddate', 'completedamount',\n",
       "       'Chemical_Materials_Applied_Count', 'Product_Materials_Applied_Count',\n",
       "       'Bait_Materials_Applied_Count', 'Hardware_Materials_Applied_Count',\n",
       "       'Equipment_Materials_Applied_Count', 'Service_Materials_Applied_Count',\n",
       "       'Chemical_Materials_Applied', 'Product_Materials_Applied',\n",
       "       'Bait_Materials_Applied', 'Hardware_Materials_Applied',\n",
       "       'Equipment_Materials_Applied', 'service_Materials_Applied',\n",
       "       'Material_Total_price', 'materials_invoiced', 'services_invoiced',\n",
       "       'Total_Invoiced_By_Program', ' ', 'Site Name', 'Site Address', 'ZIP',\n",
       "       'Billing Name', 'Billing Address', 'Billing ZIP', 'region', 'program',\n",
       "       'chemical', 'bait', 'hardware', 'equipment', 'bait_predict',\n",
       "       'bait_result'],\n",
       "      dtype='object')"
      ]
     },
     "execution_count": 79,
     "metadata": {},
     "output_type": "execute_result"
    }
   ],
   "source": [
    "bait_no_null.columns"
   ]
  },
  {
   "cell_type": "code",
   "execution_count": 80,
   "metadata": {},
   "outputs": [],
   "source": [
    "# split the data for traning and testing\n",
    "x4_train,x4_test,y4_train,y4_test = train_test_split(d.iloc[bait_no_null['bait'].index],bait_no_null['Bait_Materials_Applied'],test_size=0.2)"
   ]
  },
  {
   "cell_type": "code",
   "execution_count": 81,
   "metadata": {},
   "outputs": [
    {
     "data": {
      "text/html": [
       "<div>\n",
       "<style scoped>\n",
       "    .dataframe tbody tr th:only-of-type {\n",
       "        vertical-align: middle;\n",
       "    }\n",
       "\n",
       "    .dataframe tbody tr th {\n",
       "        vertical-align: top;\n",
       "    }\n",
       "\n",
       "    .dataframe thead th {\n",
       "        text-align: right;\n",
       "    }\n",
       "</style>\n",
       "<table border=\"1\" class=\"dataframe\">\n",
       "  <thead>\n",
       "    <tr style=\"text-align: right;\">\n",
       "      <th></th>\n",
       "      <th>region</th>\n",
       "      <th>program</th>\n",
       "    </tr>\n",
       "  </thead>\n",
       "  <tbody>\n",
       "    <tr>\n",
       "      <th>1493</th>\n",
       "      <td>15</td>\n",
       "      <td>44</td>\n",
       "    </tr>\n",
       "    <tr>\n",
       "      <th>33353</th>\n",
       "      <td>20</td>\n",
       "      <td>45</td>\n",
       "    </tr>\n",
       "    <tr>\n",
       "      <th>13240</th>\n",
       "      <td>10</td>\n",
       "      <td>36</td>\n",
       "    </tr>\n",
       "    <tr>\n",
       "      <th>13614</th>\n",
       "      <td>28</td>\n",
       "      <td>36</td>\n",
       "    </tr>\n",
       "    <tr>\n",
       "      <th>40444</th>\n",
       "      <td>20</td>\n",
       "      <td>0</td>\n",
       "    </tr>\n",
       "    <tr>\n",
       "      <th>...</th>\n",
       "      <td>...</td>\n",
       "      <td>...</td>\n",
       "    </tr>\n",
       "    <tr>\n",
       "      <th>1714</th>\n",
       "      <td>5</td>\n",
       "      <td>36</td>\n",
       "    </tr>\n",
       "    <tr>\n",
       "      <th>3314</th>\n",
       "      <td>14</td>\n",
       "      <td>45</td>\n",
       "    </tr>\n",
       "    <tr>\n",
       "      <th>4215</th>\n",
       "      <td>14</td>\n",
       "      <td>17</td>\n",
       "    </tr>\n",
       "    <tr>\n",
       "      <th>15768</th>\n",
       "      <td>22</td>\n",
       "      <td>42</td>\n",
       "    </tr>\n",
       "    <tr>\n",
       "      <th>761</th>\n",
       "      <td>15</td>\n",
       "      <td>45</td>\n",
       "    </tr>\n",
       "  </tbody>\n",
       "</table>\n",
       "<p>2620 rows × 2 columns</p>\n",
       "</div>"
      ],
      "text/plain": [
       "       region  program\n",
       "1493       15       44\n",
       "33353      20       45\n",
       "13240      10       36\n",
       "13614      28       36\n",
       "40444      20        0\n",
       "...       ...      ...\n",
       "1714        5       36\n",
       "3314       14       45\n",
       "4215       14       17\n",
       "15768      22       42\n",
       "761        15       45\n",
       "\n",
       "[2620 rows x 2 columns]"
      ]
     },
     "execution_count": 81,
     "metadata": {},
     "output_type": "execute_result"
    }
   ],
   "source": [
    "x4_train"
   ]
  },
  {
   "cell_type": "code",
   "execution_count": 82,
   "metadata": {},
   "outputs": [
    {
     "data": {
      "text/plain": [
       "1493                INTICE10\n",
       "33353              ADVIONANT\n",
       "13240               INTICE10\n",
       "13614               INTICE10\n",
       "40444                 OPTCGB\n",
       "                ...         \n",
       "1714                RESOLV40\n",
       "3314                 ADVIONR\n",
       "4215      ADVIONANT, ADVIONR\n",
       "15768               MAXFCBST\n",
       "761                  ADVIONR\n",
       "Name: Bait_Materials_Applied, Length: 2620, dtype: object"
      ]
     },
     "execution_count": 82,
     "metadata": {},
     "output_type": "execute_result"
    }
   ],
   "source": [
    "y4_train"
   ]
  },
  {
   "cell_type": "code",
   "execution_count": 83,
   "metadata": {},
   "outputs": [],
   "source": [
    "# use the random forest to predict results with y untransfromed\n",
    "clf2=RandomForestClassifier(n_estimators=10)"
   ]
  },
  {
   "cell_type": "code",
   "execution_count": 84,
   "metadata": {},
   "outputs": [
    {
     "data": {
      "text/plain": [
       "RandomForestClassifier(n_estimators=10)"
      ]
     },
     "execution_count": 84,
     "metadata": {},
     "output_type": "execute_result"
    }
   ],
   "source": [
    "clf2.fit(x4_train,y4_train)"
   ]
  },
  {
   "cell_type": "code",
   "execution_count": 85,
   "metadata": {},
   "outputs": [
    {
     "data": {
      "text/plain": [
       "0.5900763358778626"
      ]
     },
     "execution_count": 85,
     "metadata": {},
     "output_type": "execute_result"
    }
   ],
   "source": [
    "clf2.score(x4_train,y4_train)"
   ]
  },
  {
   "cell_type": "code",
   "execution_count": 86,
   "metadata": {},
   "outputs": [
    {
     "data": {
      "text/plain": [
       "0.5548780487804879"
      ]
     },
     "execution_count": 86,
     "metadata": {},
     "output_type": "execute_result"
    }
   ],
   "source": [
    "clf2.score(x4_test,y4_test)"
   ]
  },
  {
   "cell_type": "code",
   "execution_count": 87,
   "metadata": {},
   "outputs": [
    {
     "data": {
      "text/plain": [
       "10"
      ]
     },
     "execution_count": 87,
     "metadata": {},
     "output_type": "execute_result"
    }
   ],
   "source": [
    "clf2.n_estimators"
   ]
  },
  {
   "cell_type": "code",
   "execution_count": 88,
   "metadata": {},
   "outputs": [
    {
     "data": {
      "text/plain": [
       "[DecisionTreeClassifier(max_features='auto', random_state=1098222708),\n",
       " DecisionTreeClassifier(max_features='auto', random_state=411715371),\n",
       " DecisionTreeClassifier(max_features='auto', random_state=1008368185),\n",
       " DecisionTreeClassifier(max_features='auto', random_state=1168898127),\n",
       " DecisionTreeClassifier(max_features='auto', random_state=314507164),\n",
       " DecisionTreeClassifier(max_features='auto', random_state=1702269145),\n",
       " DecisionTreeClassifier(max_features='auto', random_state=2065465841),\n",
       " DecisionTreeClassifier(max_features='auto', random_state=853438301),\n",
       " DecisionTreeClassifier(max_features='auto', random_state=349120411),\n",
       " DecisionTreeClassifier(max_features='auto', random_state=1009515352)]"
      ]
     },
     "execution_count": 88,
     "metadata": {},
     "output_type": "execute_result"
    }
   ],
   "source": [
    "clf2.estimators_"
   ]
  },
  {
   "cell_type": "code",
   "execution_count": 89,
   "metadata": {},
   "outputs": [],
   "source": [
    "# from sklearn import tree\n",
    "# data = tree.export_graphviz(clf2.estimators_[1], out_file= None)\n",
    "# graphviz.Source(data)\n"
   ]
  },
  {
   "cell_type": "code",
   "execution_count": null,
   "metadata": {},
   "outputs": [],
   "source": []
  },
  {
   "cell_type": "markdown",
   "metadata": {},
   "source": [
    "### This part predicts the hardware products based on industry and region"
   ]
  },
  {
   "cell_type": "code",
   "execution_count": 90,
   "metadata": {},
   "outputs": [],
   "source": [
    "# split the data for traning and testing\n",
    "x2_train,x2_test,y2_train,y2_test = train_test_split(d.iloc[:,0:2],data['hardware'],test_size=0.2)"
   ]
  },
  {
   "cell_type": "code",
   "execution_count": 91,
   "metadata": {},
   "outputs": [
    {
     "data": {
      "text/plain": [
       "41722"
      ]
     },
     "execution_count": 91,
     "metadata": {},
     "output_type": "execute_result"
    }
   ],
   "source": [
    "len(data['hardware'].unique())"
   ]
  },
  {
   "cell_type": "code",
   "execution_count": 92,
   "metadata": {},
   "outputs": [
    {
     "data": {
      "text/plain": [
       "1"
      ]
     },
     "execution_count": 92,
     "metadata": {},
     "output_type": "execute_result"
    }
   ],
   "source": [
    "len(data['Hardware_Materials_Applied'].unique())"
   ]
  },
  {
   "cell_type": "code",
   "execution_count": 93,
   "metadata": {},
   "outputs": [
    {
     "data": {
      "text/plain": [
       "41722"
      ]
     },
     "execution_count": 93,
     "metadata": {},
     "output_type": "execute_result"
    }
   ],
   "source": [
    "data['Hardware_Materials_Applied'].isna().sum()"
   ]
  },
  {
   "cell_type": "code",
   "execution_count": 94,
   "metadata": {},
   "outputs": [
    {
     "data": {
      "text/plain": [
       "(41722, 47)"
      ]
     },
     "execution_count": 94,
     "metadata": {},
     "output_type": "execute_result"
    }
   ],
   "source": [
    "data.shape"
   ]
  },
  {
   "cell_type": "code",
   "execution_count": 95,
   "metadata": {},
   "outputs": [
    {
     "data": {
      "text/plain": [
       "array(['PC Standard - Weekly 4', 'PC Standard - Weekly 5',\n",
       "       'PC Standard - Monthly', 'Structural Fum',\n",
       "       'PC Standard - Seasonal', 'PC Standard - Semi-Annual',\n",
       "       'PC Standard - Semi-Monthly', 'PC Standard - EOM 6',\n",
       "       'PC Standard - Quarterly 4', 'Pest Elimination - Monthly',\n",
       "       'Commercial Element - Semi-Monthly', 'PC Standard - EOM 7',\n",
       "       'Commercial Element - Weekly 5', 'Mosquito - Seasonal',\n",
       "       'PC Standard - Trimester', 'Carpenter Ant - Annual',\n",
       "       'Termite Baiting Svc', 'Commercial Gold Medal - Weekly 5',\n",
       "       'Commercial Element - Monthly', 'Fly Trap Svc - Seasonal',\n",
       "       'PC Standard - Daily', 'Birdwork - Monthly',\n",
       "       'Pest Elimination - Weekly 4', 'Drywood Borate Svc',\n",
       "       'Replace Equip - Monthly', 'Carpenter Ant - Monthly',\n",
       "       'OE-30 - Monthly', 'Subterranean Termite',\n",
       "       'Specialty Pest - Seasonal', 'Fly Light Svc - Seasonal',\n",
       "       'Mosquito - Semi-Monthly', 'Bed Bug - Monthly',\n",
       "       'Bed Bug Inspection - Odd Job', 'Bed Bug - Odd Job',\n",
       "       'PC Standard - Quarterly 5', 'Sub Termite/Formosan',\n",
       "       'Drywood Borate Svc - Odd Job', 'PC Special Svcs - Odd Job',\n",
       "       'PC Standard - Odd Job', 'Bed Bug Heat - Odd Job',\n",
       "       'Subterranean Termite - Odd Job', 'Mosquito - Odd Job',\n",
       "       'Pest Elimination - Odd Job', 'Carpenter Ant - Odd Job',\n",
       "       'Wildlife - Odd Job', 'Commercial Element - Odd Job',\n",
       "       'Specialty Pest - Odd Job', 'Birdwork - Odd Job',\n",
       "       'Rodents - Monthly', 'Carpenter Ant - Quarterly 4',\n",
       "       'PC Standard - Every 2 Weeks', 'Commercial Element - EOM 7',\n",
       "       'Bed Bug & Pest Protection - EOM 6',\n",
       "       'Bed Bug & Pest Protection - Monthly', 'Power Spray - Odd Job',\n",
       "       'Commercial Element - EOM 6', 'Replace Equip - Odd Job',\n",
       "       'VitalClean - Odd Job', 'Fire Ant - Odd Job',\n",
       "       'Materials - Odd Job', 'Mosquito & Tick - Seasonal',\n",
       "       'Commercial Element - Quarterly 4'], dtype=object)"
      ]
     },
     "execution_count": 95,
     "metadata": {},
     "output_type": "execute_result"
    }
   ],
   "source": [
    "data['programname'].unique()"
   ]
  },
  {
   "cell_type": "code",
   "execution_count": 96,
   "metadata": {},
   "outputs": [],
   "source": [
    "knn=KNeighborsClassifier(n_neighbors=5)"
   ]
  },
  {
   "cell_type": "code",
   "execution_count": 97,
   "metadata": {},
   "outputs": [
    {
     "data": {
      "text/plain": [
       "KNeighborsClassifier()"
      ]
     },
     "execution_count": 97,
     "metadata": {},
     "output_type": "execute_result"
    }
   ],
   "source": [
    "knn.fit(x2_train,y2_train)"
   ]
  },
  {
   "cell_type": "code",
   "execution_count": 98,
   "metadata": {},
   "outputs": [],
   "source": [
    "# g= data.groupby(['program','region'])['Bait_Materials_Applied'].count()"
   ]
  },
  {
   "cell_type": "code",
   "execution_count": 99,
   "metadata": {},
   "outputs": [
    {
     "data": {
      "text/plain": [
       "0.007669952362405249"
      ]
     },
     "execution_count": 99,
     "metadata": {},
     "output_type": "execute_result"
    }
   ],
   "source": [
    "knn.score(x2_train,y2_train)"
   ]
  },
  {
   "cell_type": "code",
   "execution_count": 100,
   "metadata": {},
   "outputs": [
    {
     "data": {
      "text/plain": [
       "0.0"
      ]
     },
     "execution_count": 100,
     "metadata": {},
     "output_type": "execute_result"
    }
   ],
   "source": [
    "knn.score(x2_test,y2_test)"
   ]
  },
  {
   "cell_type": "markdown",
   "metadata": {},
   "source": [
    "### From the result, we can see that all of the hardware data we have are null. Therefore, it is meaningless to do a prediction."
   ]
  },
  {
   "cell_type": "markdown",
   "metadata": {},
   "source": [
    "### This part predicts the equipment products based on industry and region"
   ]
  },
  {
   "cell_type": "code",
   "execution_count": 101,
   "metadata": {},
   "outputs": [],
   "source": [
    "# data"
   ]
  },
  {
   "cell_type": "code",
   "execution_count": 102,
   "metadata": {},
   "outputs": [
    {
     "data": {
      "text/html": [
       "<div>\n",
       "<style scoped>\n",
       "    .dataframe tbody tr th:only-of-type {\n",
       "        vertical-align: middle;\n",
       "    }\n",
       "\n",
       "    .dataframe tbody tr th {\n",
       "        vertical-align: top;\n",
       "    }\n",
       "\n",
       "    .dataframe thead th {\n",
       "        text-align: right;\n",
       "    }\n",
       "</style>\n",
       "<table border=\"1\" class=\"dataframe\">\n",
       "  <thead>\n",
       "    <tr style=\"text-align: right;\">\n",
       "      <th></th>\n",
       "      <th>categoryname</th>\n",
       "      <th>categoryname.1</th>\n",
       "      <th>Branch</th>\n",
       "      <th>accountid</th>\n",
       "      <th>siteid</th>\n",
       "      <th>programid</th>\n",
       "      <th>programname</th>\n",
       "      <th>saledate</th>\n",
       "      <th>Sale_Value</th>\n",
       "      <th>Annual_Value</th>\n",
       "      <th>...</th>\n",
       "      <th>ZIP</th>\n",
       "      <th>Billing Name</th>\n",
       "      <th>Billing Address</th>\n",
       "      <th>Billing ZIP</th>\n",
       "      <th>region</th>\n",
       "      <th>program</th>\n",
       "      <th>chemical</th>\n",
       "      <th>bait</th>\n",
       "      <th>hardware</th>\n",
       "      <th>equipment</th>\n",
       "    </tr>\n",
       "  </thead>\n",
       "  <tbody>\n",
       "    <tr>\n",
       "      <th>3</th>\n",
       "      <td>85-Northeast Division</td>\n",
       "      <td>499-Beltway Commercial Region</td>\n",
       "      <td>691-PENN JERSEY COMMERCIAL, PA</td>\n",
       "      <td>100445</td>\n",
       "      <td>105513</td>\n",
       "      <td>75341</td>\n",
       "      <td>PC Standard - Weekly 4</td>\n",
       "      <td>2009-08-28</td>\n",
       "      <td>6135.0</td>\n",
       "      <td>5932.8</td>\n",
       "      <td>...</td>\n",
       "      <td>19134</td>\n",
       "      <td></td>\n",
       "      <td>320 Yorktown Plz, Elkins Park PA</td>\n",
       "      <td>19027</td>\n",
       "      <td>15</td>\n",
       "      <td>44</td>\n",
       "      <td>4183</td>\n",
       "      <td>58</td>\n",
       "      <td>27810</td>\n",
       "      <td>287</td>\n",
       "    </tr>\n",
       "    <tr>\n",
       "      <th>4</th>\n",
       "      <td>85-Northeast Division</td>\n",
       "      <td>499-Beltway Commercial Region</td>\n",
       "      <td>691-PENN JERSEY COMMERCIAL, PA</td>\n",
       "      <td>100445</td>\n",
       "      <td>105513</td>\n",
       "      <td>75341</td>\n",
       "      <td>PC Standard - Weekly 4</td>\n",
       "      <td>2009-08-28</td>\n",
       "      <td>6135.0</td>\n",
       "      <td>5932.8</td>\n",
       "      <td>...</td>\n",
       "      <td>19134</td>\n",
       "      <td></td>\n",
       "      <td>320 Yorktown Plz, Elkins Park PA</td>\n",
       "      <td>19027</td>\n",
       "      <td>15</td>\n",
       "      <td>44</td>\n",
       "      <td>1432</td>\n",
       "      <td>58</td>\n",
       "      <td>27811</td>\n",
       "      <td>128</td>\n",
       "    </tr>\n",
       "    <tr>\n",
       "      <th>7</th>\n",
       "      <td>85-Northeast Division</td>\n",
       "      <td>499-Beltway Commercial Region</td>\n",
       "      <td>691-PENN JERSEY COMMERCIAL, PA</td>\n",
       "      <td>100445</td>\n",
       "      <td>105513</td>\n",
       "      <td>75341</td>\n",
       "      <td>PC Standard - Weekly 4</td>\n",
       "      <td>2009-08-28</td>\n",
       "      <td>6135.0</td>\n",
       "      <td>5932.8</td>\n",
       "      <td>...</td>\n",
       "      <td>19134</td>\n",
       "      <td></td>\n",
       "      <td>320 Yorktown Plz, Elkins Park PA</td>\n",
       "      <td>19027</td>\n",
       "      <td>15</td>\n",
       "      <td>44</td>\n",
       "      <td>3154</td>\n",
       "      <td>58</td>\n",
       "      <td>27814</td>\n",
       "      <td>128</td>\n",
       "    </tr>\n",
       "    <tr>\n",
       "      <th>9</th>\n",
       "      <td>85-Northeast Division</td>\n",
       "      <td>499-Beltway Commercial Region</td>\n",
       "      <td>691-PENN JERSEY COMMERCIAL, PA</td>\n",
       "      <td>100445</td>\n",
       "      <td>105513</td>\n",
       "      <td>75341</td>\n",
       "      <td>PC Standard - Weekly 4</td>\n",
       "      <td>2009-08-28</td>\n",
       "      <td>6135.0</td>\n",
       "      <td>5932.8</td>\n",
       "      <td>...</td>\n",
       "      <td>19134</td>\n",
       "      <td></td>\n",
       "      <td>320 Yorktown Plz, Elkins Park PA</td>\n",
       "      <td>19027</td>\n",
       "      <td>15</td>\n",
       "      <td>44</td>\n",
       "      <td>1691</td>\n",
       "      <td>58</td>\n",
       "      <td>27816</td>\n",
       "      <td>128</td>\n",
       "    </tr>\n",
       "    <tr>\n",
       "      <th>10</th>\n",
       "      <td>85-Northeast Division</td>\n",
       "      <td>499-Beltway Commercial Region</td>\n",
       "      <td>691-PENN JERSEY COMMERCIAL, PA</td>\n",
       "      <td>100445</td>\n",
       "      <td>105513</td>\n",
       "      <td>75341</td>\n",
       "      <td>PC Standard - Weekly 4</td>\n",
       "      <td>2009-08-28</td>\n",
       "      <td>6135.0</td>\n",
       "      <td>5932.8</td>\n",
       "      <td>...</td>\n",
       "      <td>19134</td>\n",
       "      <td></td>\n",
       "      <td>320 Yorktown Plz, Elkins Park PA</td>\n",
       "      <td>19027</td>\n",
       "      <td>15</td>\n",
       "      <td>44</td>\n",
       "      <td>3101</td>\n",
       "      <td>58</td>\n",
       "      <td>27817</td>\n",
       "      <td>175</td>\n",
       "    </tr>\n",
       "    <tr>\n",
       "      <th>...</th>\n",
       "      <td>...</td>\n",
       "      <td>...</td>\n",
       "      <td>...</td>\n",
       "      <td>...</td>\n",
       "      <td>...</td>\n",
       "      <td>...</td>\n",
       "      <td>...</td>\n",
       "      <td>...</td>\n",
       "      <td>...</td>\n",
       "      <td>...</td>\n",
       "      <td>...</td>\n",
       "      <td>...</td>\n",
       "      <td>...</td>\n",
       "      <td>...</td>\n",
       "      <td>...</td>\n",
       "      <td>...</td>\n",
       "      <td>...</td>\n",
       "      <td>...</td>\n",
       "      <td>...</td>\n",
       "      <td>...</td>\n",
       "      <td>...</td>\n",
       "    </tr>\n",
       "    <tr>\n",
       "      <th>41685</th>\n",
       "      <td>86-Pacific Division</td>\n",
       "      <td>711-S. California Commercial Region</td>\n",
       "      <td>687-LOS ANGELES COMMERCIAL, CA</td>\n",
       "      <td>27476079</td>\n",
       "      <td>12480436</td>\n",
       "      <td>10912238</td>\n",
       "      <td>PC Standard - Every 2 Weeks</td>\n",
       "      <td>2020-06-01</td>\n",
       "      <td>6695.0</td>\n",
       "      <td>5720.0</td>\n",
       "      <td>...</td>\n",
       "      <td>90022</td>\n",
       "      <td>ANA  RODRIGUEZ</td>\n",
       "      <td>6701 WILSON AVE, LOS ANGELES CA</td>\n",
       "      <td>90001</td>\n",
       "      <td>22</td>\n",
       "      <td>35</td>\n",
       "      <td>3309</td>\n",
       "      <td>58</td>\n",
       "      <td>13915</td>\n",
       "      <td>184</td>\n",
       "    </tr>\n",
       "    <tr>\n",
       "      <th>41700</th>\n",
       "      <td>84-South Central Division</td>\n",
       "      <td>849-N. Texas/Oklahoma Region</td>\n",
       "      <td>826-DALLAS, TX</td>\n",
       "      <td>30170671</td>\n",
       "      <td>10970329</td>\n",
       "      <td>10944086</td>\n",
       "      <td>PC Standard - Odd Job</td>\n",
       "      <td>2020-07-08</td>\n",
       "      <td>155.0</td>\n",
       "      <td>0.0</td>\n",
       "      <td>...</td>\n",
       "      <td>75056</td>\n",
       "      <td></td>\n",
       "      <td>BILLBOX#: 00-(ORKPE)-1004 , AUSTIN TX</td>\n",
       "      <td>78720</td>\n",
       "      <td>29</td>\n",
       "      <td>37</td>\n",
       "      <td>2758</td>\n",
       "      <td>58</td>\n",
       "      <td>13912</td>\n",
       "      <td>287</td>\n",
       "    </tr>\n",
       "    <tr>\n",
       "      <th>41703</th>\n",
       "      <td>82-Midwest Division</td>\n",
       "      <td>579-Indiana/Ohio Region</td>\n",
       "      <td>577-MERRILLVILLE, IN</td>\n",
       "      <td>34237949</td>\n",
       "      <td>12458088</td>\n",
       "      <td>10948230</td>\n",
       "      <td>Commercial Element - Monthly</td>\n",
       "      <td>2020-07-09</td>\n",
       "      <td>2003.0</td>\n",
       "      <td>996.0</td>\n",
       "      <td>...</td>\n",
       "      <td>46410</td>\n",
       "      <td>MELODY KALUBA</td>\n",
       "      <td>2901 83RD PL, MERRILLVILLE IN</td>\n",
       "      <td>46410</td>\n",
       "      <td>20</td>\n",
       "      <td>14</td>\n",
       "      <td>4140</td>\n",
       "      <td>58</td>\n",
       "      <td>13900</td>\n",
       "      <td>317</td>\n",
       "    </tr>\n",
       "    <tr>\n",
       "      <th>41708</th>\n",
       "      <td>86-Pacific Division</td>\n",
       "      <td>749-Pacific Northwest Region</td>\n",
       "      <td>755-SPOKANE, WA</td>\n",
       "      <td>34169874</td>\n",
       "      <td>12382831</td>\n",
       "      <td>10963531</td>\n",
       "      <td>PC Standard - Monthly</td>\n",
       "      <td>2020-07-01</td>\n",
       "      <td>780.0</td>\n",
       "      <td>780.0</td>\n",
       "      <td>...</td>\n",
       "      <td>99003</td>\n",
       "      <td>GINA LICEA</td>\n",
       "      <td>28118 NEWPORT HWY, CHATTAROY WA</td>\n",
       "      <td>99003</td>\n",
       "      <td>24</td>\n",
       "      <td>36</td>\n",
       "      <td>2014</td>\n",
       "      <td>58</td>\n",
       "      <td>13897</td>\n",
       "      <td>3</td>\n",
       "    </tr>\n",
       "    <tr>\n",
       "      <th>41716</th>\n",
       "      <td>82-Midwest Division</td>\n",
       "      <td>389-Kentucky Region</td>\n",
       "      <td>486-CHARLESTON, WV</td>\n",
       "      <td>34340186</td>\n",
       "      <td>12570321</td>\n",
       "      <td>10978579</td>\n",
       "      <td>Bed Bug - Odd Job</td>\n",
       "      <td>2020-07-17</td>\n",
       "      <td>1500.0</td>\n",
       "      <td>0.0</td>\n",
       "      <td>...</td>\n",
       "      <td>25309</td>\n",
       "      <td>WESLEY HINZMAN</td>\n",
       "      <td>611 GARRETT ST, SOUTH CHARLESTON WV</td>\n",
       "      <td>25309</td>\n",
       "      <td>10</td>\n",
       "      <td>3</td>\n",
       "      <td>952</td>\n",
       "      <td>58</td>\n",
       "      <td>13905</td>\n",
       "      <td>42</td>\n",
       "    </tr>\n",
       "  </tbody>\n",
       "</table>\n",
       "<p>15522 rows × 47 columns</p>\n",
       "</div>"
      ],
      "text/plain": [
       "                    categoryname                       categoryname.1  \\\n",
       "3          85-Northeast Division        499-Beltway Commercial Region   \n",
       "4          85-Northeast Division        499-Beltway Commercial Region   \n",
       "7          85-Northeast Division        499-Beltway Commercial Region   \n",
       "9          85-Northeast Division        499-Beltway Commercial Region   \n",
       "10         85-Northeast Division        499-Beltway Commercial Region   \n",
       "...                          ...                                  ...   \n",
       "41685        86-Pacific Division  711-S. California Commercial Region   \n",
       "41700  84-South Central Division         849-N. Texas/Oklahoma Region   \n",
       "41703        82-Midwest Division              579-Indiana/Ohio Region   \n",
       "41708        86-Pacific Division         749-Pacific Northwest Region   \n",
       "41716        82-Midwest Division                  389-Kentucky Region   \n",
       "\n",
       "                               Branch  accountid    siteid  programid  \\\n",
       "3      691-PENN JERSEY COMMERCIAL, PA     100445    105513      75341   \n",
       "4      691-PENN JERSEY COMMERCIAL, PA     100445    105513      75341   \n",
       "7      691-PENN JERSEY COMMERCIAL, PA     100445    105513      75341   \n",
       "9      691-PENN JERSEY COMMERCIAL, PA     100445    105513      75341   \n",
       "10     691-PENN JERSEY COMMERCIAL, PA     100445    105513      75341   \n",
       "...                               ...        ...       ...        ...   \n",
       "41685  687-LOS ANGELES COMMERCIAL, CA   27476079  12480436   10912238   \n",
       "41700  826-DALLAS, TX                   30170671  10970329   10944086   \n",
       "41703            577-MERRILLVILLE, IN   34237949  12458088   10948230   \n",
       "41708  755-SPOKANE, WA                  34169874  12382831   10963531   \n",
       "41716              486-CHARLESTON, WV   34340186  12570321   10978579   \n",
       "\n",
       "                        programname   saledate  Sale_Value  Annual_Value  ...  \\\n",
       "3            PC Standard - Weekly 4 2009-08-28      6135.0        5932.8  ...   \n",
       "4            PC Standard - Weekly 4 2009-08-28      6135.0        5932.8  ...   \n",
       "7            PC Standard - Weekly 4 2009-08-28      6135.0        5932.8  ...   \n",
       "9            PC Standard - Weekly 4 2009-08-28      6135.0        5932.8  ...   \n",
       "10           PC Standard - Weekly 4 2009-08-28      6135.0        5932.8  ...   \n",
       "...                             ...        ...         ...           ...  ...   \n",
       "41685   PC Standard - Every 2 Weeks 2020-06-01      6695.0        5720.0  ...   \n",
       "41700         PC Standard - Odd Job 2020-07-08       155.0           0.0  ...   \n",
       "41703  Commercial Element - Monthly 2020-07-09      2003.0         996.0  ...   \n",
       "41708         PC Standard - Monthly 2020-07-01       780.0         780.0  ...   \n",
       "41716             Bed Bug - Odd Job 2020-07-17      1500.0           0.0  ...   \n",
       "\n",
       "         ZIP    Billing Name                        Billing Address  \\\n",
       "3      19134                       320 Yorktown Plz, Elkins Park PA   \n",
       "4      19134                       320 Yorktown Plz, Elkins Park PA   \n",
       "7      19134                       320 Yorktown Plz, Elkins Park PA   \n",
       "9      19134                       320 Yorktown Plz, Elkins Park PA   \n",
       "10     19134                       320 Yorktown Plz, Elkins Park PA   \n",
       "...      ...             ...                                    ...   \n",
       "41685  90022  ANA  RODRIGUEZ        6701 WILSON AVE, LOS ANGELES CA   \n",
       "41700  75056                  BILLBOX#: 00-(ORKPE)-1004 , AUSTIN TX   \n",
       "41703  46410   MELODY KALUBA          2901 83RD PL, MERRILLVILLE IN   \n",
       "41708  99003      GINA LICEA        28118 NEWPORT HWY, CHATTAROY WA   \n",
       "41716  25309  WESLEY HINZMAN    611 GARRETT ST, SOUTH CHARLESTON WV   \n",
       "\n",
       "       Billing ZIP  region program chemical  bait  hardware  equipment  \n",
       "3            19027      15      44     4183    58     27810        287  \n",
       "4            19027      15      44     1432    58     27811        128  \n",
       "7            19027      15      44     3154    58     27814        128  \n",
       "9            19027      15      44     1691    58     27816        128  \n",
       "10           19027      15      44     3101    58     27817        175  \n",
       "...            ...     ...     ...      ...   ...       ...        ...  \n",
       "41685        90001      22      35     3309    58     13915        184  \n",
       "41700        78720      29      37     2758    58     13912        287  \n",
       "41703        46410      20      14     4140    58     13900        317  \n",
       "41708        99003      24      36     2014    58     13897          3  \n",
       "41716        25309      10       3      952    58     13905         42  \n",
       "\n",
       "[15522 rows x 47 columns]"
      ]
     },
     "execution_count": 102,
     "metadata": {},
     "output_type": "execute_result"
    }
   ],
   "source": [
    "equipment_no_null= data.dropna(subset=['Equipment_Materials_Applied'])\n",
    "equipment_no_null"
   ]
  },
  {
   "cell_type": "code",
   "execution_count": 103,
   "metadata": {},
   "outputs": [
    {
     "data": {
      "text/html": [
       "<div>\n",
       "<style scoped>\n",
       "    .dataframe tbody tr th:only-of-type {\n",
       "        vertical-align: middle;\n",
       "    }\n",
       "\n",
       "    .dataframe tbody tr th {\n",
       "        vertical-align: top;\n",
       "    }\n",
       "\n",
       "    .dataframe thead th {\n",
       "        text-align: right;\n",
       "    }\n",
       "</style>\n",
       "<table border=\"1\" class=\"dataframe\">\n",
       "  <thead>\n",
       "    <tr style=\"text-align: right;\">\n",
       "      <th></th>\n",
       "      <th>region</th>\n",
       "      <th>program</th>\n",
       "    </tr>\n",
       "  </thead>\n",
       "  <tbody>\n",
       "    <tr>\n",
       "      <th>3</th>\n",
       "      <td>15</td>\n",
       "      <td>44</td>\n",
       "    </tr>\n",
       "    <tr>\n",
       "      <th>4</th>\n",
       "      <td>15</td>\n",
       "      <td>44</td>\n",
       "    </tr>\n",
       "    <tr>\n",
       "      <th>7</th>\n",
       "      <td>15</td>\n",
       "      <td>44</td>\n",
       "    </tr>\n",
       "    <tr>\n",
       "      <th>9</th>\n",
       "      <td>15</td>\n",
       "      <td>44</td>\n",
       "    </tr>\n",
       "    <tr>\n",
       "      <th>10</th>\n",
       "      <td>15</td>\n",
       "      <td>44</td>\n",
       "    </tr>\n",
       "    <tr>\n",
       "      <th>...</th>\n",
       "      <td>...</td>\n",
       "      <td>...</td>\n",
       "    </tr>\n",
       "    <tr>\n",
       "      <th>41685</th>\n",
       "      <td>22</td>\n",
       "      <td>35</td>\n",
       "    </tr>\n",
       "    <tr>\n",
       "      <th>41700</th>\n",
       "      <td>29</td>\n",
       "      <td>37</td>\n",
       "    </tr>\n",
       "    <tr>\n",
       "      <th>41703</th>\n",
       "      <td>20</td>\n",
       "      <td>14</td>\n",
       "    </tr>\n",
       "    <tr>\n",
       "      <th>41708</th>\n",
       "      <td>24</td>\n",
       "      <td>36</td>\n",
       "    </tr>\n",
       "    <tr>\n",
       "      <th>41716</th>\n",
       "      <td>10</td>\n",
       "      <td>3</td>\n",
       "    </tr>\n",
       "  </tbody>\n",
       "</table>\n",
       "<p>15522 rows × 2 columns</p>\n",
       "</div>"
      ],
      "text/plain": [
       "       region  program\n",
       "3          15       44\n",
       "4          15       44\n",
       "7          15       44\n",
       "9          15       44\n",
       "10         15       44\n",
       "...       ...      ...\n",
       "41685      22       35\n",
       "41700      29       37\n",
       "41703      20       14\n",
       "41708      24       36\n",
       "41716      10        3\n",
       "\n",
       "[15522 rows x 2 columns]"
      ]
     },
     "execution_count": 103,
     "metadata": {},
     "output_type": "execute_result"
    }
   ],
   "source": [
    "d.iloc[equipment_no_null['bait'].index]"
   ]
  },
  {
   "cell_type": "code",
   "execution_count": 104,
   "metadata": {},
   "outputs": [],
   "source": [
    "# split the data for traning and testing\n",
    "x3_train,x3_test,y3_train,y3_test = train_test_split(d.iloc[equipment_no_null['bait'].index], equipment_no_null['equipment'],test_size=0.2)"
   ]
  },
  {
   "cell_type": "code",
   "execution_count": 105,
   "metadata": {},
   "outputs": [],
   "source": [
    "knn=KNeighborsClassifier(n_neighbors=3)"
   ]
  },
  {
   "cell_type": "code",
   "execution_count": 106,
   "metadata": {},
   "outputs": [
    {
     "data": {
      "text/plain": [
       "KNeighborsClassifier(n_neighbors=3)"
      ]
     },
     "execution_count": 106,
     "metadata": {},
     "output_type": "execute_result"
    }
   ],
   "source": [
    "knn.fit(x3_train,y3_train)"
   ]
  },
  {
   "cell_type": "code",
   "execution_count": 107,
   "metadata": {},
   "outputs": [
    {
     "data": {
      "text/plain": [
       "0.40347910123218167"
      ]
     },
     "execution_count": 107,
     "metadata": {},
     "output_type": "execute_result"
    }
   ],
   "source": [
    "knn.score(x3_train,y3_train)"
   ]
  },
  {
   "cell_type": "code",
   "execution_count": 108,
   "metadata": {},
   "outputs": [
    {
     "data": {
      "text/plain": [
       "0.3855072463768116"
      ]
     },
     "execution_count": 108,
     "metadata": {},
     "output_type": "execute_result"
    }
   ],
   "source": [
    "knn.score(x3_test,y3_test)"
   ]
  },
  {
   "cell_type": "code",
   "execution_count": 109,
   "metadata": {},
   "outputs": [
    {
     "name": "stderr",
     "output_type": "stream",
     "text": [
      "<ipython-input-109-60a34fc690df>:1: SettingWithCopyWarning: \n",
      "A value is trying to be set on a copy of a slice from a DataFrame.\n",
      "Try using .loc[row_indexer,col_indexer] = value instead\n",
      "\n",
      "See the caveats in the documentation: https://pandas.pydata.org/pandas-docs/stable/user_guide/indexing.html#returning-a-view-versus-a-copy\n",
      "  equipment_no_null['equipment_predict']= knn.predict(d.iloc[equipment_no_null['bait'].index])\n"
     ]
    }
   ],
   "source": [
    "equipment_no_null['equipment_predict']= knn.predict(d.iloc[equipment_no_null['bait'].index])"
   ]
  },
  {
   "cell_type": "code",
   "execution_count": 110,
   "metadata": {},
   "outputs": [
    {
     "name": "stderr",
     "output_type": "stream",
     "text": [
      "<ipython-input-110-c33c18c0757a>:1: SettingWithCopyWarning: \n",
      "A value is trying to be set on a copy of a slice from a DataFrame.\n",
      "Try using .loc[row_indexer,col_indexer] = value instead\n",
      "\n",
      "See the caveats in the documentation: https://pandas.pydata.org/pandas-docs/stable/user_guide/indexing.html#returning-a-view-versus-a-copy\n",
      "  equipment_no_null['equipment_result']= le6.inverse_transform(equipment_no_null['equipment_predict'])\n"
     ]
    }
   ],
   "source": [
    "equipment_no_null['equipment_result']= le6.inverse_transform(equipment_no_null['equipment_predict'])"
   ]
  },
  {
   "cell_type": "code",
   "execution_count": 111,
   "metadata": {},
   "outputs": [
    {
     "data": {
      "text/plain": [
       "3         GT150GB, MTRA\n",
       "4         GT150GB, MTRA\n",
       "7         GT150GB, MTRA\n",
       "9         GT150GB, MTRA\n",
       "10        GT150GB, MTRA\n",
       "              ...      \n",
       "41685             GBMOU\n",
       "41700               ORC\n",
       "41703             GBMOU\n",
       "41708             GBMOU\n",
       "41716             GBMOU\n",
       "Name: equipment_result, Length: 15522, dtype: object"
      ]
     },
     "execution_count": 111,
     "metadata": {},
     "output_type": "execute_result"
    }
   ],
   "source": [
    "equipment_no_null['equipment_result']"
   ]
  },
  {
   "cell_type": "code",
   "execution_count": 112,
   "metadata": {},
   "outputs": [],
   "source": [
    "Equipment_ = equipment_no_null[['categoryname.1','programname','equipment_result']]"
   ]
  },
  {
   "cell_type": "code",
   "execution_count": 113,
   "metadata": {},
   "outputs": [
    {
     "data": {
      "text/html": [
       "<div>\n",
       "<style scoped>\n",
       "    .dataframe tbody tr th:only-of-type {\n",
       "        vertical-align: middle;\n",
       "    }\n",
       "\n",
       "    .dataframe tbody tr th {\n",
       "        vertical-align: top;\n",
       "    }\n",
       "\n",
       "    .dataframe thead th {\n",
       "        text-align: right;\n",
       "    }\n",
       "</style>\n",
       "<table border=\"1\" class=\"dataframe\">\n",
       "  <thead>\n",
       "    <tr style=\"text-align: right;\">\n",
       "      <th></th>\n",
       "      <th>categoryname.1</th>\n",
       "      <th>programname</th>\n",
       "      <th>equipment_result</th>\n",
       "    </tr>\n",
       "  </thead>\n",
       "  <tbody>\n",
       "    <tr>\n",
       "      <th>3</th>\n",
       "      <td>499-Beltway Commercial Region</td>\n",
       "      <td>PC Standard - Weekly 4</td>\n",
       "      <td>GT150GB, MTRA</td>\n",
       "    </tr>\n",
       "    <tr>\n",
       "      <th>4</th>\n",
       "      <td>499-Beltway Commercial Region</td>\n",
       "      <td>PC Standard - Weekly 4</td>\n",
       "      <td>GT150GB, MTRA</td>\n",
       "    </tr>\n",
       "    <tr>\n",
       "      <th>7</th>\n",
       "      <td>499-Beltway Commercial Region</td>\n",
       "      <td>PC Standard - Weekly 4</td>\n",
       "      <td>GT150GB, MTRA</td>\n",
       "    </tr>\n",
       "    <tr>\n",
       "      <th>9</th>\n",
       "      <td>499-Beltway Commercial Region</td>\n",
       "      <td>PC Standard - Weekly 4</td>\n",
       "      <td>GT150GB, MTRA</td>\n",
       "    </tr>\n",
       "    <tr>\n",
       "      <th>10</th>\n",
       "      <td>499-Beltway Commercial Region</td>\n",
       "      <td>PC Standard - Weekly 4</td>\n",
       "      <td>GT150GB, MTRA</td>\n",
       "    </tr>\n",
       "    <tr>\n",
       "      <th>...</th>\n",
       "      <td>...</td>\n",
       "      <td>...</td>\n",
       "      <td>...</td>\n",
       "    </tr>\n",
       "    <tr>\n",
       "      <th>41685</th>\n",
       "      <td>711-S. California Commercial Region</td>\n",
       "      <td>PC Standard - Every 2 Weeks</td>\n",
       "      <td>GBMOU</td>\n",
       "    </tr>\n",
       "    <tr>\n",
       "      <th>41700</th>\n",
       "      <td>849-N. Texas/Oklahoma Region</td>\n",
       "      <td>PC Standard - Odd Job</td>\n",
       "      <td>ORC</td>\n",
       "    </tr>\n",
       "    <tr>\n",
       "      <th>41703</th>\n",
       "      <td>579-Indiana/Ohio Region</td>\n",
       "      <td>Commercial Element - Monthly</td>\n",
       "      <td>GBMOU</td>\n",
       "    </tr>\n",
       "    <tr>\n",
       "      <th>41708</th>\n",
       "      <td>749-Pacific Northwest Region</td>\n",
       "      <td>PC Standard - Monthly</td>\n",
       "      <td>GBMOU</td>\n",
       "    </tr>\n",
       "    <tr>\n",
       "      <th>41716</th>\n",
       "      <td>389-Kentucky Region</td>\n",
       "      <td>Bed Bug - Odd Job</td>\n",
       "      <td>GBMOU</td>\n",
       "    </tr>\n",
       "  </tbody>\n",
       "</table>\n",
       "<p>15522 rows × 3 columns</p>\n",
       "</div>"
      ],
      "text/plain": [
       "                            categoryname.1                   programname  \\\n",
       "3            499-Beltway Commercial Region        PC Standard - Weekly 4   \n",
       "4            499-Beltway Commercial Region        PC Standard - Weekly 4   \n",
       "7            499-Beltway Commercial Region        PC Standard - Weekly 4   \n",
       "9            499-Beltway Commercial Region        PC Standard - Weekly 4   \n",
       "10           499-Beltway Commercial Region        PC Standard - Weekly 4   \n",
       "...                                    ...                           ...   \n",
       "41685  711-S. California Commercial Region   PC Standard - Every 2 Weeks   \n",
       "41700         849-N. Texas/Oklahoma Region         PC Standard - Odd Job   \n",
       "41703              579-Indiana/Ohio Region  Commercial Element - Monthly   \n",
       "41708         749-Pacific Northwest Region         PC Standard - Monthly   \n",
       "41716                  389-Kentucky Region             Bed Bug - Odd Job   \n",
       "\n",
       "      equipment_result  \n",
       "3        GT150GB, MTRA  \n",
       "4        GT150GB, MTRA  \n",
       "7        GT150GB, MTRA  \n",
       "9        GT150GB, MTRA  \n",
       "10       GT150GB, MTRA  \n",
       "...                ...  \n",
       "41685            GBMOU  \n",
       "41700              ORC  \n",
       "41703            GBMOU  \n",
       "41708            GBMOU  \n",
       "41716            GBMOU  \n",
       "\n",
       "[15522 rows x 3 columns]"
      ]
     },
     "execution_count": 113,
     "metadata": {},
     "output_type": "execute_result"
    }
   ],
   "source": [
    "Equipment_"
   ]
  },
  {
   "cell_type": "markdown",
   "metadata": {},
   "source": [
    "### Clustering"
   ]
  },
  {
   "cell_type": "code",
   "execution_count": 114,
   "metadata": {},
   "outputs": [
    {
     "data": {
      "text/plain": [
       "<matplotlib.collections.PathCollection at 0x1cf6b8c8>"
      ]
     },
     "execution_count": 114,
     "metadata": {},
     "output_type": "execute_result"
    },
    {
     "data": {
      "image/png": "[encoded data removed]",
      "text/plain": [
       "<Figure size 864x648 with 1 Axes>"
      ]
     },
     "metadata": {
      "needs_background": "light"
     },
     "output_type": "display_data"
    }
   ],
   "source": [
    "# first graph the scatter plot of region vs bait use\n",
    "plt.figure(figsize= (12,9))\n",
    "plt.scatter(data['region'],data['bait'])"
   ]
  },
  {
   "cell_type": "code",
   "execution_count": 115,
   "metadata": {},
   "outputs": [],
   "source": [
    "# declare the model KMeans\n",
    "km = KMeans(n_clusters= 10,random_state = 5)"
   ]
  },
  {
   "cell_type": "code",
   "execution_count": 116,
   "metadata": {},
   "outputs": [],
   "source": [
    "# cluster the data\n",
    "y= km.fit_predict(d.iloc[:, 0:2])"
   ]
  },
  {
   "cell_type": "code",
   "execution_count": 117,
   "metadata": {},
   "outputs": [
    {
     "data": {
      "text/plain": [
       "array([3, 3, 3, ..., 1, 2, 1])"
      ]
     },
     "execution_count": 117,
     "metadata": {},
     "output_type": "execute_result"
    }
   ],
   "source": [
    "y"
   ]
  },
  {
   "cell_type": "code",
   "execution_count": 118,
   "metadata": {},
   "outputs": [
    {
     "data": {
      "text/plain": [
       "<matplotlib.collections.PathCollection at 0x1e5a3fa0>"
      ]
     },
     "execution_count": 118,
     "metadata": {},
     "output_type": "execute_result"
    },
    {
     "data": {
      "image/png": "[encoded data removed]",
      "text/plain": [
       "<Figure size 864x648 with 1 Axes>"
      ]
     },
     "metadata": {
      "needs_background": "light"
     },
     "output_type": "display_data"
    }
   ],
   "source": [
    "# graph the plot again and look at the cluster\n",
    "plt.figure(figsize= (12,9))\n",
    "plt.scatter(data['region'],data['bait'],c=y)"
   ]
  },
  {
   "cell_type": "code",
   "execution_count": 119,
   "metadata": {},
   "outputs": [],
   "source": [
    "r1= pd.Series(km.labels_)"
   ]
  },
  {
   "cell_type": "code",
   "execution_count": 120,
   "metadata": {},
   "outputs": [
    {
     "data": {
      "text/plain": [
       "7    7222\n",
       "5    6774\n",
       "3    6040\n",
       "6    5082\n",
       "0    4793\n",
       "1    3910\n",
       "8    3039\n",
       "9    2304\n",
       "2    1447\n",
       "4    1111\n",
       "dtype: int64"
      ]
     },
     "execution_count": 120,
     "metadata": {},
     "output_type": "execute_result"
    }
   ],
   "source": [
    "r1.value_counts()"
   ]
  },
  {
   "cell_type": "code",
   "execution_count": 121,
   "metadata": {},
   "outputs": [
    {
     "data": {
      "text/plain": [
       "41722"
      ]
     },
     "execution_count": 121,
     "metadata": {},
     "output_type": "execute_result"
    }
   ],
   "source": [
    "r1.value_counts().sum()"
   ]
  },
  {
   "cell_type": "code",
   "execution_count": 122,
   "metadata": {},
   "outputs": [
    {
     "data": {
      "text/plain": [
       "array([3, 1, 6, 0, 7, 9, 4, 5, 2, 8])"
      ]
     },
     "execution_count": 122,
     "metadata": {},
     "output_type": "execute_result"
    }
   ],
   "source": [
    "r1.unique()"
   ]
  },
  {
   "cell_type": "code",
   "execution_count": 123,
   "metadata": {},
   "outputs": [
    {
     "data": {
      "text/plain": [
       "array([3, 3, 3, ..., 1, 2, 1])"
      ]
     },
     "execution_count": 123,
     "metadata": {},
     "output_type": "execute_result"
    }
   ],
   "source": [
    "y"
   ]
  },
  {
   "cell_type": "code",
   "execution_count": 124,
   "metadata": {},
   "outputs": [],
   "source": [
    "center= pd.DataFrame(km.cluster_centers_)"
   ]
  },
  {
   "cell_type": "code",
   "execution_count": null,
   "metadata": {},
   "outputs": [],
   "source": []
  },
  {
   "cell_type": "code",
   "execution_count": 125,
   "metadata": {},
   "outputs": [
    {
     "data": {
      "text/plain": [
       "0    0\n",
       "1    0\n",
       "dtype: int64"
      ]
     },
     "execution_count": 125,
     "metadata": {},
     "output_type": "execute_result"
    }
   ],
   "source": [
    "center.isna().sum()"
   ]
  },
  {
   "cell_type": "code",
   "execution_count": 126,
   "metadata": {},
   "outputs": [
    {
     "data": {
      "text/plain": [
       "(10, 2)"
      ]
     },
     "execution_count": 126,
     "metadata": {},
     "output_type": "execute_result"
    }
   ],
   "source": [
    "center.shape"
   ]
  },
  {
   "cell_type": "code",
   "execution_count": 127,
   "metadata": {},
   "outputs": [],
   "source": [
    "result = pd.concat([center,r1.value_counts()],axis=1 )"
   ]
  },
  {
   "cell_type": "code",
   "execution_count": 128,
   "metadata": {},
   "outputs": [],
   "source": [
    "# result.columns= ['region','program','bait','counts']"
   ]
  },
  {
   "cell_type": "code",
   "execution_count": 129,
   "metadata": {},
   "outputs": [
    {
     "data": {
      "text/html": [
       "<div>\n",
       "<style scoped>\n",
       "    .dataframe tbody tr th:only-of-type {\n",
       "        vertical-align: middle;\n",
       "    }\n",
       "\n",
       "    .dataframe tbody tr th {\n",
       "        vertical-align: top;\n",
       "    }\n",
       "\n",
       "    .dataframe thead th {\n",
       "        text-align: right;\n",
       "    }\n",
       "</style>\n",
       "<table border=\"1\" class=\"dataframe\">\n",
       "  <thead>\n",
       "    <tr style=\"text-align: right;\">\n",
       "      <th></th>\n",
       "      <th>0</th>\n",
       "      <th>1</th>\n",
       "      <th>0</th>\n",
       "    </tr>\n",
       "  </thead>\n",
       "  <tbody>\n",
       "    <tr>\n",
       "      <th>0</th>\n",
       "      <td>29.604840</td>\n",
       "      <td>35.823075</td>\n",
       "      <td>4793</td>\n",
       "    </tr>\n",
       "    <tr>\n",
       "      <th>1</th>\n",
       "      <td>12.524808</td>\n",
       "      <td>35.430179</td>\n",
       "      <td>3910</td>\n",
       "    </tr>\n",
       "    <tr>\n",
       "      <th>2</th>\n",
       "      <td>17.832757</td>\n",
       "      <td>3.442294</td>\n",
       "      <td>1447</td>\n",
       "    </tr>\n",
       "    <tr>\n",
       "      <th>3</th>\n",
       "      <td>14.638516</td>\n",
       "      <td>43.950157</td>\n",
       "      <td>6040</td>\n",
       "    </tr>\n",
       "    <tr>\n",
       "      <th>4</th>\n",
       "      <td>10.282628</td>\n",
       "      <td>17.225023</td>\n",
       "      <td>1111</td>\n",
       "    </tr>\n",
       "    <tr>\n",
       "      <th>5</th>\n",
       "      <td>22.273103</td>\n",
       "      <td>43.744464</td>\n",
       "      <td>6774</td>\n",
       "    </tr>\n",
       "    <tr>\n",
       "      <th>6</th>\n",
       "      <td>4.436442</td>\n",
       "      <td>35.499016</td>\n",
       "      <td>5082</td>\n",
       "    </tr>\n",
       "    <tr>\n",
       "      <th>7</th>\n",
       "      <td>20.991969</td>\n",
       "      <td>35.864996</td>\n",
       "      <td>7222</td>\n",
       "    </tr>\n",
       "    <tr>\n",
       "      <th>8</th>\n",
       "      <td>30.735439</td>\n",
       "      <td>43.598223</td>\n",
       "      <td>3039</td>\n",
       "    </tr>\n",
       "    <tr>\n",
       "      <th>9</th>\n",
       "      <td>5.344469</td>\n",
       "      <td>44.795228</td>\n",
       "      <td>2304</td>\n",
       "    </tr>\n",
       "  </tbody>\n",
       "</table>\n",
       "</div>"
      ],
      "text/plain": [
       "           0          1     0\n",
       "0  29.604840  35.823075  4793\n",
       "1  12.524808  35.430179  3910\n",
       "2  17.832757   3.442294  1447\n",
       "3  14.638516  43.950157  6040\n",
       "4  10.282628  17.225023  1111\n",
       "5  22.273103  43.744464  6774\n",
       "6   4.436442  35.499016  5082\n",
       "7  20.991969  35.864996  7222\n",
       "8  30.735439  43.598223  3039\n",
       "9   5.344469  44.795228  2304"
      ]
     },
     "execution_count": 129,
     "metadata": {},
     "output_type": "execute_result"
    }
   ],
   "source": [
    "result"
   ]
  },
  {
   "cell_type": "code",
   "execution_count": null,
   "metadata": {},
   "outputs": [],
   "source": []
  },
  {
   "cell_type": "code",
   "execution_count": 130,
   "metadata": {},
   "outputs": [
    {
     "data": {
      "text/plain": [
       "0        15\n",
       "1        15\n",
       "2        15\n",
       "3        15\n",
       "4        15\n",
       "         ..\n",
       "41717    10\n",
       "41718     6\n",
       "41719    15\n",
       "41720     9\n",
       "41721    15\n",
       "Name: region, Length: 41722, dtype: int32"
      ]
     },
     "execution_count": 130,
     "metadata": {},
     "output_type": "execute_result"
    }
   ],
   "source": [
    "data['region']"
   ]
  },
  {
   "cell_type": "code",
   "execution_count": 131,
   "metadata": {},
   "outputs": [
    {
     "data": {
      "text/html": [
       "<div>\n",
       "<style scoped>\n",
       "    .dataframe tbody tr th:only-of-type {\n",
       "        vertical-align: middle;\n",
       "    }\n",
       "\n",
       "    .dataframe tbody tr th {\n",
       "        vertical-align: top;\n",
       "    }\n",
       "\n",
       "    .dataframe thead th {\n",
       "        text-align: right;\n",
       "    }\n",
       "</style>\n",
       "<table border=\"1\" class=\"dataframe\">\n",
       "  <thead>\n",
       "    <tr style=\"text-align: right;\">\n",
       "      <th></th>\n",
       "      <th>categoryname</th>\n",
       "      <th>categoryname.1</th>\n",
       "      <th>Branch</th>\n",
       "      <th>accountid</th>\n",
       "      <th>siteid</th>\n",
       "      <th>programid</th>\n",
       "      <th>programname</th>\n",
       "      <th>saledate</th>\n",
       "      <th>Sale_Value</th>\n",
       "      <th>Annual_Value</th>\n",
       "      <th>...</th>\n",
       "      <th>ZIP</th>\n",
       "      <th>Billing Name</th>\n",
       "      <th>Billing Address</th>\n",
       "      <th>Billing ZIP</th>\n",
       "      <th>region</th>\n",
       "      <th>program</th>\n",
       "      <th>chemical</th>\n",
       "      <th>bait</th>\n",
       "      <th>hardware</th>\n",
       "      <th>equipment</th>\n",
       "    </tr>\n",
       "  </thead>\n",
       "  <tbody>\n",
       "    <tr>\n",
       "      <th>14454</th>\n",
       "      <td>82-Midwest Division</td>\n",
       "      <td>579-Indiana/Ohio Region</td>\n",
       "      <td>576-ZIONSVILLE, IN</td>\n",
       "      <td>26767554</td>\n",
       "      <td>4323263</td>\n",
       "      <td>4166163</td>\n",
       "      <td>PC Standard - Semi-Monthly</td>\n",
       "      <td>2012-01-09</td>\n",
       "      <td>2932.5</td>\n",
       "      <td>3438.0</td>\n",
       "      <td>...</td>\n",
       "      <td>46228</td>\n",
       "      <td></td>\n",
       "      <td>5260 MICHIGAN Rd, Indianapolis IN</td>\n",
       "      <td>46228</td>\n",
       "      <td>20</td>\n",
       "      <td>42</td>\n",
       "      <td>865</td>\n",
       "      <td>58</td>\n",
       "      <td>39458</td>\n",
       "      <td>128</td>\n",
       "    </tr>\n",
       "    <tr>\n",
       "      <th>14455</th>\n",
       "      <td>82-Midwest Division</td>\n",
       "      <td>579-Indiana/Ohio Region</td>\n",
       "      <td>576-ZIONSVILLE, IN</td>\n",
       "      <td>26767554</td>\n",
       "      <td>4323263</td>\n",
       "      <td>4166163</td>\n",
       "      <td>PC Standard - Semi-Monthly</td>\n",
       "      <td>2012-01-09</td>\n",
       "      <td>2932.5</td>\n",
       "      <td>3438.0</td>\n",
       "      <td>...</td>\n",
       "      <td>46228</td>\n",
       "      <td></td>\n",
       "      <td>5260 MICHIGAN Rd, Indianapolis IN</td>\n",
       "      <td>46228</td>\n",
       "      <td>20</td>\n",
       "      <td>42</td>\n",
       "      <td>865</td>\n",
       "      <td>58</td>\n",
       "      <td>39451</td>\n",
       "      <td>128</td>\n",
       "    </tr>\n",
       "    <tr>\n",
       "      <th>14456</th>\n",
       "      <td>82-Midwest Division</td>\n",
       "      <td>579-Indiana/Ohio Region</td>\n",
       "      <td>576-ZIONSVILLE, IN</td>\n",
       "      <td>26767554</td>\n",
       "      <td>4323263</td>\n",
       "      <td>4166163</td>\n",
       "      <td>PC Standard - Semi-Monthly</td>\n",
       "      <td>2012-01-09</td>\n",
       "      <td>2932.5</td>\n",
       "      <td>3438.0</td>\n",
       "      <td>...</td>\n",
       "      <td>46228</td>\n",
       "      <td></td>\n",
       "      <td>5260 MICHIGAN Rd, Indianapolis IN</td>\n",
       "      <td>46228</td>\n",
       "      <td>20</td>\n",
       "      <td>42</td>\n",
       "      <td>1697</td>\n",
       "      <td>58</td>\n",
       "      <td>39452</td>\n",
       "      <td>128</td>\n",
       "    </tr>\n",
       "    <tr>\n",
       "      <th>14457</th>\n",
       "      <td>82-Midwest Division</td>\n",
       "      <td>579-Indiana/Ohio Region</td>\n",
       "      <td>576-ZIONSVILLE, IN</td>\n",
       "      <td>26767554</td>\n",
       "      <td>4323263</td>\n",
       "      <td>4166163</td>\n",
       "      <td>PC Standard - Semi-Monthly</td>\n",
       "      <td>2012-01-09</td>\n",
       "      <td>2932.5</td>\n",
       "      <td>3438.0</td>\n",
       "      <td>...</td>\n",
       "      <td>46228</td>\n",
       "      <td></td>\n",
       "      <td>5260 MICHIGAN Rd, Indianapolis IN</td>\n",
       "      <td>46228</td>\n",
       "      <td>20</td>\n",
       "      <td>42</td>\n",
       "      <td>1697</td>\n",
       "      <td>58</td>\n",
       "      <td>39453</td>\n",
       "      <td>128</td>\n",
       "    </tr>\n",
       "    <tr>\n",
       "      <th>14458</th>\n",
       "      <td>82-Midwest Division</td>\n",
       "      <td>579-Indiana/Ohio Region</td>\n",
       "      <td>576-ZIONSVILLE, IN</td>\n",
       "      <td>26767554</td>\n",
       "      <td>4323263</td>\n",
       "      <td>4166163</td>\n",
       "      <td>PC Standard - Semi-Monthly</td>\n",
       "      <td>2012-01-09</td>\n",
       "      <td>2932.5</td>\n",
       "      <td>3438.0</td>\n",
       "      <td>...</td>\n",
       "      <td>46228</td>\n",
       "      <td></td>\n",
       "      <td>5260 MICHIGAN Rd, Indianapolis IN</td>\n",
       "      <td>46228</td>\n",
       "      <td>20</td>\n",
       "      <td>42</td>\n",
       "      <td>1711</td>\n",
       "      <td>58</td>\n",
       "      <td>39454</td>\n",
       "      <td>332</td>\n",
       "    </tr>\n",
       "    <tr>\n",
       "      <th>...</th>\n",
       "      <td>...</td>\n",
       "      <td>...</td>\n",
       "      <td>...</td>\n",
       "      <td>...</td>\n",
       "      <td>...</td>\n",
       "      <td>...</td>\n",
       "      <td>...</td>\n",
       "      <td>...</td>\n",
       "      <td>...</td>\n",
       "      <td>...</td>\n",
       "      <td>...</td>\n",
       "      <td>...</td>\n",
       "      <td>...</td>\n",
       "      <td>...</td>\n",
       "      <td>...</td>\n",
       "      <td>...</td>\n",
       "      <td>...</td>\n",
       "      <td>...</td>\n",
       "      <td>...</td>\n",
       "      <td>...</td>\n",
       "      <td>...</td>\n",
       "    </tr>\n",
       "    <tr>\n",
       "      <th>41686</th>\n",
       "      <td>82-Midwest Division</td>\n",
       "      <td>579-Indiana/Ohio Region</td>\n",
       "      <td>571-FT. WAYNE, IN</td>\n",
       "      <td>32262948</td>\n",
       "      <td>12484262</td>\n",
       "      <td>10914830</td>\n",
       "      <td>Commercial Element - Odd Job</td>\n",
       "      <td>2020-06-30</td>\n",
       "      <td>300.0</td>\n",
       "      <td>0.0</td>\n",
       "      <td>...</td>\n",
       "      <td>46804</td>\n",
       "      <td></td>\n",
       "      <td>5775 COVENTRY LN, FORT WAYNE IN</td>\n",
       "      <td>46804</td>\n",
       "      <td>20</td>\n",
       "      <td>15</td>\n",
       "      <td>4096</td>\n",
       "      <td>58</td>\n",
       "      <td>13916</td>\n",
       "      <td>332</td>\n",
       "    </tr>\n",
       "    <tr>\n",
       "      <th>41692</th>\n",
       "      <td>82-Midwest Division</td>\n",
       "      <td>579-Indiana/Ohio Region</td>\n",
       "      <td>576-ZIONSVILLE, IN</td>\n",
       "      <td>26767555</td>\n",
       "      <td>12496204</td>\n",
       "      <td>10924606</td>\n",
       "      <td>Bed Bug - Odd Job</td>\n",
       "      <td>2020-07-01</td>\n",
       "      <td>575.0</td>\n",
       "      <td>0.0</td>\n",
       "      <td>...</td>\n",
       "      <td>46228</td>\n",
       "      <td></td>\n",
       "      <td>5260 MICHIGAN Rd, Indianapolis IN</td>\n",
       "      <td>46228</td>\n",
       "      <td>20</td>\n",
       "      <td>3</td>\n",
       "      <td>1851</td>\n",
       "      <td>58</td>\n",
       "      <td>13922</td>\n",
       "      <td>332</td>\n",
       "    </tr>\n",
       "    <tr>\n",
       "      <th>41693</th>\n",
       "      <td>82-Midwest Division</td>\n",
       "      <td>579-Indiana/Ohio Region</td>\n",
       "      <td>576-ZIONSVILLE, IN</td>\n",
       "      <td>26767555</td>\n",
       "      <td>12496204</td>\n",
       "      <td>10924606</td>\n",
       "      <td>Bed Bug - Odd Job</td>\n",
       "      <td>2020-07-01</td>\n",
       "      <td>575.0</td>\n",
       "      <td>0.0</td>\n",
       "      <td>...</td>\n",
       "      <td>46228</td>\n",
       "      <td></td>\n",
       "      <td>5260 MICHIGAN Rd, Indianapolis IN</td>\n",
       "      <td>46228</td>\n",
       "      <td>20</td>\n",
       "      <td>3</td>\n",
       "      <td>925</td>\n",
       "      <td>58</td>\n",
       "      <td>13923</td>\n",
       "      <td>332</td>\n",
       "    </tr>\n",
       "    <tr>\n",
       "      <th>41703</th>\n",
       "      <td>82-Midwest Division</td>\n",
       "      <td>579-Indiana/Ohio Region</td>\n",
       "      <td>577-MERRILLVILLE, IN</td>\n",
       "      <td>34237949</td>\n",
       "      <td>12458088</td>\n",
       "      <td>10948230</td>\n",
       "      <td>Commercial Element - Monthly</td>\n",
       "      <td>2020-07-09</td>\n",
       "      <td>2003.0</td>\n",
       "      <td>996.0</td>\n",
       "      <td>...</td>\n",
       "      <td>46410</td>\n",
       "      <td>MELODY KALUBA</td>\n",
       "      <td>2901 83RD PL, MERRILLVILLE IN</td>\n",
       "      <td>46410</td>\n",
       "      <td>20</td>\n",
       "      <td>14</td>\n",
       "      <td>4140</td>\n",
       "      <td>58</td>\n",
       "      <td>13900</td>\n",
       "      <td>317</td>\n",
       "    </tr>\n",
       "    <tr>\n",
       "      <th>41704</th>\n",
       "      <td>82-Midwest Division</td>\n",
       "      <td>579-Indiana/Ohio Region</td>\n",
       "      <td>577-MERRILLVILLE, IN</td>\n",
       "      <td>34237949</td>\n",
       "      <td>12458088</td>\n",
       "      <td>10948230</td>\n",
       "      <td>Commercial Element - Monthly</td>\n",
       "      <td>2020-07-09</td>\n",
       "      <td>2003.0</td>\n",
       "      <td>996.0</td>\n",
       "      <td>...</td>\n",
       "      <td>46410</td>\n",
       "      <td>MELODY KALUBA</td>\n",
       "      <td>2901 83RD PL, MERRILLVILLE IN</td>\n",
       "      <td>46410</td>\n",
       "      <td>20</td>\n",
       "      <td>14</td>\n",
       "      <td>4025</td>\n",
       "      <td>58</td>\n",
       "      <td>13893</td>\n",
       "      <td>332</td>\n",
       "    </tr>\n",
       "  </tbody>\n",
       "</table>\n",
       "<p>918 rows × 47 columns</p>\n",
       "</div>"
      ],
      "text/plain": [
       "              categoryname           categoryname.1                Branch  \\\n",
       "14454  82-Midwest Division  579-Indiana/Ohio Region    576-ZIONSVILLE, IN   \n",
       "14455  82-Midwest Division  579-Indiana/Ohio Region    576-ZIONSVILLE, IN   \n",
       "14456  82-Midwest Division  579-Indiana/Ohio Region    576-ZIONSVILLE, IN   \n",
       "14457  82-Midwest Division  579-Indiana/Ohio Region    576-ZIONSVILLE, IN   \n",
       "14458  82-Midwest Division  579-Indiana/Ohio Region    576-ZIONSVILLE, IN   \n",
       "...                    ...                      ...                   ...   \n",
       "41686  82-Midwest Division  579-Indiana/Ohio Region     571-FT. WAYNE, IN   \n",
       "41692  82-Midwest Division  579-Indiana/Ohio Region    576-ZIONSVILLE, IN   \n",
       "41693  82-Midwest Division  579-Indiana/Ohio Region    576-ZIONSVILLE, IN   \n",
       "41703  82-Midwest Division  579-Indiana/Ohio Region  577-MERRILLVILLE, IN   \n",
       "41704  82-Midwest Division  579-Indiana/Ohio Region  577-MERRILLVILLE, IN   \n",
       "\n",
       "       accountid    siteid  programid                   programname  \\\n",
       "14454   26767554   4323263    4166163    PC Standard - Semi-Monthly   \n",
       "14455   26767554   4323263    4166163    PC Standard - Semi-Monthly   \n",
       "14456   26767554   4323263    4166163    PC Standard - Semi-Monthly   \n",
       "14457   26767554   4323263    4166163    PC Standard - Semi-Monthly   \n",
       "14458   26767554   4323263    4166163    PC Standard - Semi-Monthly   \n",
       "...          ...       ...        ...                           ...   \n",
       "41686   32262948  12484262   10914830  Commercial Element - Odd Job   \n",
       "41692   26767555  12496204   10924606             Bed Bug - Odd Job   \n",
       "41693   26767555  12496204   10924606             Bed Bug - Odd Job   \n",
       "41703   34237949  12458088   10948230  Commercial Element - Monthly   \n",
       "41704   34237949  12458088   10948230  Commercial Element - Monthly   \n",
       "\n",
       "        saledate  Sale_Value  Annual_Value  ...    ZIP   Billing Name  \\\n",
       "14454 2012-01-09      2932.5        3438.0  ...  46228                  \n",
       "14455 2012-01-09      2932.5        3438.0  ...  46228                  \n",
       "14456 2012-01-09      2932.5        3438.0  ...  46228                  \n",
       "14457 2012-01-09      2932.5        3438.0  ...  46228                  \n",
       "14458 2012-01-09      2932.5        3438.0  ...  46228                  \n",
       "...          ...         ...           ...  ...    ...            ...   \n",
       "41686 2020-06-30       300.0           0.0  ...  46804                  \n",
       "41692 2020-07-01       575.0           0.0  ...  46228                  \n",
       "41693 2020-07-01       575.0           0.0  ...  46228                  \n",
       "41703 2020-07-09      2003.0         996.0  ...  46410  MELODY KALUBA   \n",
       "41704 2020-07-09      2003.0         996.0  ...  46410  MELODY KALUBA   \n",
       "\n",
       "                         Billing Address  Billing ZIP  region program  \\\n",
       "14454  5260 MICHIGAN Rd, Indianapolis IN        46228      20      42   \n",
       "14455  5260 MICHIGAN Rd, Indianapolis IN        46228      20      42   \n",
       "14456  5260 MICHIGAN Rd, Indianapolis IN        46228      20      42   \n",
       "14457  5260 MICHIGAN Rd, Indianapolis IN        46228      20      42   \n",
       "14458  5260 MICHIGAN Rd, Indianapolis IN        46228      20      42   \n",
       "...                                  ...          ...     ...     ...   \n",
       "41686    5775 COVENTRY LN, FORT WAYNE IN        46804      20      15   \n",
       "41692  5260 MICHIGAN Rd, Indianapolis IN        46228      20       3   \n",
       "41693  5260 MICHIGAN Rd, Indianapolis IN        46228      20       3   \n",
       "41703      2901 83RD PL, MERRILLVILLE IN        46410      20      14   \n",
       "41704      2901 83RD PL, MERRILLVILLE IN        46410      20      14   \n",
       "\n",
       "      chemical  bait  hardware  equipment  \n",
       "14454      865    58     39458        128  \n",
       "14455      865    58     39451        128  \n",
       "14456     1697    58     39452        128  \n",
       "14457     1697    58     39453        128  \n",
       "14458     1711    58     39454        332  \n",
       "...        ...   ...       ...        ...  \n",
       "41686     4096    58     13916        332  \n",
       "41692     1851    58     13922        332  \n",
       "41693      925    58     13923        332  \n",
       "41703     4140    58     13900        317  \n",
       "41704     4025    58     13893        332  \n",
       "\n",
       "[918 rows x 47 columns]"
      ]
     },
     "execution_count": 131,
     "metadata": {},
     "output_type": "execute_result"
    }
   ],
   "source": [
    "data[data['region'] ==20]"
   ]
  },
  {
   "cell_type": "code",
   "execution_count": 132,
   "metadata": {},
   "outputs": [
    {
     "data": {
      "text/html": [
       "<div>\n",
       "<style scoped>\n",
       "    .dataframe tbody tr th:only-of-type {\n",
       "        vertical-align: middle;\n",
       "    }\n",
       "\n",
       "    .dataframe tbody tr th {\n",
       "        vertical-align: top;\n",
       "    }\n",
       "\n",
       "    .dataframe thead th {\n",
       "        text-align: right;\n",
       "    }\n",
       "</style>\n",
       "<table border=\"1\" class=\"dataframe\">\n",
       "  <thead>\n",
       "    <tr style=\"text-align: right;\">\n",
       "      <th></th>\n",
       "      <th>categoryname</th>\n",
       "      <th>categoryname.1</th>\n",
       "      <th>Branch</th>\n",
       "      <th>accountid</th>\n",
       "      <th>siteid</th>\n",
       "      <th>programid</th>\n",
       "      <th>programname</th>\n",
       "      <th>saledate</th>\n",
       "      <th>Sale_Value</th>\n",
       "      <th>Annual_Value</th>\n",
       "      <th>...</th>\n",
       "      <th>ZIP</th>\n",
       "      <th>Billing Name</th>\n",
       "      <th>Billing Address</th>\n",
       "      <th>Billing ZIP</th>\n",
       "      <th>region</th>\n",
       "      <th>program</th>\n",
       "      <th>chemical</th>\n",
       "      <th>bait</th>\n",
       "      <th>hardware</th>\n",
       "      <th>equipment</th>\n",
       "    </tr>\n",
       "  </thead>\n",
       "  <tbody>\n",
       "    <tr>\n",
       "      <th>19920</th>\n",
       "      <td>82-Midwest Division</td>\n",
       "      <td>519-Illinois Region</td>\n",
       "      <td>520-ALSIP, IL</td>\n",
       "      <td>28156498</td>\n",
       "      <td>5571288</td>\n",
       "      <td>5365366</td>\n",
       "      <td>PC Standard - Monthly</td>\n",
       "      <td>1989-10-27</td>\n",
       "      <td>1181.79</td>\n",
       "      <td>0.0</td>\n",
       "      <td>...</td>\n",
       "      <td>60438</td>\n",
       "      <td></td>\n",
       "      <td>PO BOX 703 , Lansing IL</td>\n",
       "      <td>60438</td>\n",
       "      <td>17</td>\n",
       "      <td>36</td>\n",
       "      <td>44</td>\n",
       "      <td>58</td>\n",
       "      <td>33995</td>\n",
       "      <td>213</td>\n",
       "    </tr>\n",
       "    <tr>\n",
       "      <th>19921</th>\n",
       "      <td>82-Midwest Division</td>\n",
       "      <td>519-Illinois Region</td>\n",
       "      <td>520-ALSIP, IL</td>\n",
       "      <td>28156498</td>\n",
       "      <td>5571288</td>\n",
       "      <td>5365366</td>\n",
       "      <td>PC Standard - Monthly</td>\n",
       "      <td>1989-10-27</td>\n",
       "      <td>1181.79</td>\n",
       "      <td>0.0</td>\n",
       "      <td>...</td>\n",
       "      <td>60438</td>\n",
       "      <td></td>\n",
       "      <td>PO BOX 703 , Lansing IL</td>\n",
       "      <td>60438</td>\n",
       "      <td>17</td>\n",
       "      <td>36</td>\n",
       "      <td>42</td>\n",
       "      <td>58</td>\n",
       "      <td>33996</td>\n",
       "      <td>213</td>\n",
       "    </tr>\n",
       "    <tr>\n",
       "      <th>19922</th>\n",
       "      <td>82-Midwest Division</td>\n",
       "      <td>519-Illinois Region</td>\n",
       "      <td>520-ALSIP, IL</td>\n",
       "      <td>28156498</td>\n",
       "      <td>5571288</td>\n",
       "      <td>5365366</td>\n",
       "      <td>PC Standard - Monthly</td>\n",
       "      <td>1989-10-27</td>\n",
       "      <td>1181.79</td>\n",
       "      <td>0.0</td>\n",
       "      <td>...</td>\n",
       "      <td>60438</td>\n",
       "      <td></td>\n",
       "      <td>PO BOX 703 , Lansing IL</td>\n",
       "      <td>60438</td>\n",
       "      <td>17</td>\n",
       "      <td>36</td>\n",
       "      <td>42</td>\n",
       "      <td>58</td>\n",
       "      <td>34018</td>\n",
       "      <td>213</td>\n",
       "    </tr>\n",
       "    <tr>\n",
       "      <th>19923</th>\n",
       "      <td>82-Midwest Division</td>\n",
       "      <td>519-Illinois Region</td>\n",
       "      <td>520-ALSIP, IL</td>\n",
       "      <td>28156498</td>\n",
       "      <td>5571288</td>\n",
       "      <td>5365366</td>\n",
       "      <td>PC Standard - Monthly</td>\n",
       "      <td>1989-10-27</td>\n",
       "      <td>1181.79</td>\n",
       "      <td>0.0</td>\n",
       "      <td>...</td>\n",
       "      <td>60438</td>\n",
       "      <td></td>\n",
       "      <td>PO BOX 703 , Lansing IL</td>\n",
       "      <td>60438</td>\n",
       "      <td>17</td>\n",
       "      <td>36</td>\n",
       "      <td>3908</td>\n",
       "      <td>58</td>\n",
       "      <td>34020</td>\n",
       "      <td>213</td>\n",
       "    </tr>\n",
       "    <tr>\n",
       "      <th>19924</th>\n",
       "      <td>82-Midwest Division</td>\n",
       "      <td>519-Illinois Region</td>\n",
       "      <td>520-ALSIP, IL</td>\n",
       "      <td>28156498</td>\n",
       "      <td>5571288</td>\n",
       "      <td>5365366</td>\n",
       "      <td>PC Standard - Monthly</td>\n",
       "      <td>1989-10-27</td>\n",
       "      <td>1181.79</td>\n",
       "      <td>0.0</td>\n",
       "      <td>...</td>\n",
       "      <td>60438</td>\n",
       "      <td></td>\n",
       "      <td>PO BOX 703 , Lansing IL</td>\n",
       "      <td>60438</td>\n",
       "      <td>17</td>\n",
       "      <td>36</td>\n",
       "      <td>90</td>\n",
       "      <td>58</td>\n",
       "      <td>34059</td>\n",
       "      <td>213</td>\n",
       "    </tr>\n",
       "    <tr>\n",
       "      <th>...</th>\n",
       "      <td>...</td>\n",
       "      <td>...</td>\n",
       "      <td>...</td>\n",
       "      <td>...</td>\n",
       "      <td>...</td>\n",
       "      <td>...</td>\n",
       "      <td>...</td>\n",
       "      <td>...</td>\n",
       "      <td>...</td>\n",
       "      <td>...</td>\n",
       "      <td>...</td>\n",
       "      <td>...</td>\n",
       "      <td>...</td>\n",
       "      <td>...</td>\n",
       "      <td>...</td>\n",
       "      <td>...</td>\n",
       "      <td>...</td>\n",
       "      <td>...</td>\n",
       "      <td>...</td>\n",
       "      <td>...</td>\n",
       "      <td>...</td>\n",
       "    </tr>\n",
       "    <tr>\n",
       "      <th>37951</th>\n",
       "      <td>82-Midwest Division</td>\n",
       "      <td>519-Illinois Region</td>\n",
       "      <td>518-OAK PARK, IL</td>\n",
       "      <td>32572630</td>\n",
       "      <td>10580233</td>\n",
       "      <td>9457741</td>\n",
       "      <td>PC Standard - Monthly</td>\n",
       "      <td>2018-09-12</td>\n",
       "      <td>1000.00</td>\n",
       "      <td>900.0</td>\n",
       "      <td>...</td>\n",
       "      <td>60623</td>\n",
       "      <td>GREGORZ BABINSKI</td>\n",
       "      <td>381 ELMWOOD AVE, WOOD DALE IL</td>\n",
       "      <td>60191</td>\n",
       "      <td>17</td>\n",
       "      <td>36</td>\n",
       "      <td>3391</td>\n",
       "      <td>58</td>\n",
       "      <td>10832</td>\n",
       "      <td>332</td>\n",
       "    </tr>\n",
       "    <tr>\n",
       "      <th>37952</th>\n",
       "      <td>82-Midwest Division</td>\n",
       "      <td>519-Illinois Region</td>\n",
       "      <td>518-OAK PARK, IL</td>\n",
       "      <td>32572630</td>\n",
       "      <td>10580233</td>\n",
       "      <td>9457741</td>\n",
       "      <td>PC Standard - Monthly</td>\n",
       "      <td>2018-09-12</td>\n",
       "      <td>1000.00</td>\n",
       "      <td>900.0</td>\n",
       "      <td>...</td>\n",
       "      <td>60623</td>\n",
       "      <td>GREGORZ BABINSKI</td>\n",
       "      <td>381 ELMWOOD AVE, WOOD DALE IL</td>\n",
       "      <td>60191</td>\n",
       "      <td>17</td>\n",
       "      <td>36</td>\n",
       "      <td>3391</td>\n",
       "      <td>0</td>\n",
       "      <td>10815</td>\n",
       "      <td>270</td>\n",
       "    </tr>\n",
       "    <tr>\n",
       "      <th>37953</th>\n",
       "      <td>82-Midwest Division</td>\n",
       "      <td>519-Illinois Region</td>\n",
       "      <td>518-OAK PARK, IL</td>\n",
       "      <td>32572630</td>\n",
       "      <td>10580233</td>\n",
       "      <td>9457741</td>\n",
       "      <td>PC Standard - Monthly</td>\n",
       "      <td>2018-09-12</td>\n",
       "      <td>1000.00</td>\n",
       "      <td>900.0</td>\n",
       "      <td>...</td>\n",
       "      <td>60623</td>\n",
       "      <td>GREGORZ BABINSKI</td>\n",
       "      <td>381 ELMWOOD AVE, WOOD DALE IL</td>\n",
       "      <td>60191</td>\n",
       "      <td>17</td>\n",
       "      <td>36</td>\n",
       "      <td>4025</td>\n",
       "      <td>58</td>\n",
       "      <td>10814</td>\n",
       "      <td>332</td>\n",
       "    </tr>\n",
       "    <tr>\n",
       "      <th>37954</th>\n",
       "      <td>82-Midwest Division</td>\n",
       "      <td>519-Illinois Region</td>\n",
       "      <td>518-OAK PARK, IL</td>\n",
       "      <td>32572630</td>\n",
       "      <td>10580233</td>\n",
       "      <td>9457741</td>\n",
       "      <td>PC Standard - Monthly</td>\n",
       "      <td>2018-09-12</td>\n",
       "      <td>1000.00</td>\n",
       "      <td>900.0</td>\n",
       "      <td>...</td>\n",
       "      <td>60623</td>\n",
       "      <td>GREGORZ BABINSKI</td>\n",
       "      <td>381 ELMWOOD AVE, WOOD DALE IL</td>\n",
       "      <td>60191</td>\n",
       "      <td>17</td>\n",
       "      <td>36</td>\n",
       "      <td>1578</td>\n",
       "      <td>0</td>\n",
       "      <td>10813</td>\n",
       "      <td>332</td>\n",
       "    </tr>\n",
       "    <tr>\n",
       "      <th>38879</th>\n",
       "      <td>82-Midwest Division</td>\n",
       "      <td>519-Illinois Region</td>\n",
       "      <td>516-LASALLE, IL</td>\n",
       "      <td>28114419</td>\n",
       "      <td>5720953</td>\n",
       "      <td>9804161</td>\n",
       "      <td>PC Standard - Odd Job</td>\n",
       "      <td>2019-03-28</td>\n",
       "      <td>100.00</td>\n",
       "      <td>0.0</td>\n",
       "      <td>...</td>\n",
       "      <td>61350</td>\n",
       "      <td></td>\n",
       "      <td>505 COLLEGE Ave, Ottawa IL</td>\n",
       "      <td>61350</td>\n",
       "      <td>17</td>\n",
       "      <td>37</td>\n",
       "      <td>3411</td>\n",
       "      <td>6</td>\n",
       "      <td>11110</td>\n",
       "      <td>332</td>\n",
       "    </tr>\n",
       "  </tbody>\n",
       "</table>\n",
       "<p>221 rows × 47 columns</p>\n",
       "</div>"
      ],
      "text/plain": [
       "              categoryname       categoryname.1  \\\n",
       "19920  82-Midwest Division  519-Illinois Region   \n",
       "19921  82-Midwest Division  519-Illinois Region   \n",
       "19922  82-Midwest Division  519-Illinois Region   \n",
       "19923  82-Midwest Division  519-Illinois Region   \n",
       "19924  82-Midwest Division  519-Illinois Region   \n",
       "...                    ...                  ...   \n",
       "37951  82-Midwest Division  519-Illinois Region   \n",
       "37952  82-Midwest Division  519-Illinois Region   \n",
       "37953  82-Midwest Division  519-Illinois Region   \n",
       "37954  82-Midwest Division  519-Illinois Region   \n",
       "38879  82-Midwest Division  519-Illinois Region   \n",
       "\n",
       "                               Branch  accountid    siteid  programid  \\\n",
       "19920  520-ALSIP, IL                    28156498   5571288    5365366   \n",
       "19921  520-ALSIP, IL                    28156498   5571288    5365366   \n",
       "19922  520-ALSIP, IL                    28156498   5571288    5365366   \n",
       "19923  520-ALSIP, IL                    28156498   5571288    5365366   \n",
       "19924  520-ALSIP, IL                    28156498   5571288    5365366   \n",
       "...                               ...        ...       ...        ...   \n",
       "37951                518-OAK PARK, IL   32572630  10580233    9457741   \n",
       "37952                518-OAK PARK, IL   32572630  10580233    9457741   \n",
       "37953                518-OAK PARK, IL   32572630  10580233    9457741   \n",
       "37954                518-OAK PARK, IL   32572630  10580233    9457741   \n",
       "38879  516-LASALLE, IL                  28114419   5720953    9804161   \n",
       "\n",
       "                 programname   saledate  Sale_Value  Annual_Value  ...    ZIP  \\\n",
       "19920  PC Standard - Monthly 1989-10-27     1181.79           0.0  ...  60438   \n",
       "19921  PC Standard - Monthly 1989-10-27     1181.79           0.0  ...  60438   \n",
       "19922  PC Standard - Monthly 1989-10-27     1181.79           0.0  ...  60438   \n",
       "19923  PC Standard - Monthly 1989-10-27     1181.79           0.0  ...  60438   \n",
       "19924  PC Standard - Monthly 1989-10-27     1181.79           0.0  ...  60438   \n",
       "...                      ...        ...         ...           ...  ...    ...   \n",
       "37951  PC Standard - Monthly 2018-09-12     1000.00         900.0  ...  60623   \n",
       "37952  PC Standard - Monthly 2018-09-12     1000.00         900.0  ...  60623   \n",
       "37953  PC Standard - Monthly 2018-09-12     1000.00         900.0  ...  60623   \n",
       "37954  PC Standard - Monthly 2018-09-12     1000.00         900.0  ...  60623   \n",
       "38879  PC Standard - Odd Job 2019-03-28      100.00           0.0  ...  61350   \n",
       "\n",
       "           Billing Name                Billing Address  Billing ZIP  region  \\\n",
       "19920                          PO BOX 703 , Lansing IL        60438      17   \n",
       "19921                          PO BOX 703 , Lansing IL        60438      17   \n",
       "19922                          PO BOX 703 , Lansing IL        60438      17   \n",
       "19923                          PO BOX 703 , Lansing IL        60438      17   \n",
       "19924                          PO BOX 703 , Lansing IL        60438      17   \n",
       "...                 ...                            ...          ...     ...   \n",
       "37951  GREGORZ BABINSKI  381 ELMWOOD AVE, WOOD DALE IL        60191      17   \n",
       "37952  GREGORZ BABINSKI  381 ELMWOOD AVE, WOOD DALE IL        60191      17   \n",
       "37953  GREGORZ BABINSKI  381 ELMWOOD AVE, WOOD DALE IL        60191      17   \n",
       "37954  GREGORZ BABINSKI  381 ELMWOOD AVE, WOOD DALE IL        60191      17   \n",
       "38879                       505 COLLEGE Ave, Ottawa IL        61350      17   \n",
       "\n",
       "      program chemical  bait  hardware  equipment  \n",
       "19920      36       44    58     33995        213  \n",
       "19921      36       42    58     33996        213  \n",
       "19922      36       42    58     34018        213  \n",
       "19923      36     3908    58     34020        213  \n",
       "19924      36       90    58     34059        213  \n",
       "...       ...      ...   ...       ...        ...  \n",
       "37951      36     3391    58     10832        332  \n",
       "37952      36     3391     0     10815        270  \n",
       "37953      36     4025    58     10814        332  \n",
       "37954      36     1578     0     10813        332  \n",
       "38879      37     3411     6     11110        332  \n",
       "\n",
       "[221 rows x 47 columns]"
      ]
     },
     "execution_count": 132,
     "metadata": {},
     "output_type": "execute_result"
    }
   ],
   "source": [
    "data[data['region'] ==17]"
   ]
  },
  {
   "cell_type": "code",
   "execution_count": 133,
   "metadata": {},
   "outputs": [
    {
     "data": {
      "text/plain": [
       "4184"
      ]
     },
     "execution_count": 133,
     "metadata": {},
     "output_type": "execute_result"
    }
   ],
   "source": [
    "len(data['chemical'].unique())"
   ]
  },
  {
   "cell_type": "code",
   "execution_count": 134,
   "metadata": {},
   "outputs": [
    {
     "data": {
      "text/plain": [
       "<matplotlib.collections.PathCollection at 0x1e50a958>"
      ]
     },
     "execution_count": 134,
     "metadata": {},
     "output_type": "execute_result"
    },
    {
     "data": {
      "image/png": "[encoded data removed]",
      "text/plain": [
       "<Figure size 864x648 with 1 Axes>"
      ]
     },
     "metadata": {
      "needs_background": "light"
     },
     "output_type": "display_data"
    }
   ],
   "source": [
    "plt.figure(figsize= (12,9))\n",
    "plt.scatter(data['region'],data['chemical'])"
   ]
  },
  {
   "cell_type": "code",
   "execution_count": 135,
   "metadata": {},
   "outputs": [
    {
     "data": {
      "text/plain": [
       "<matplotlib.collections.PathCollection at 0x1c446e50>"
      ]
     },
     "execution_count": 135,
     "metadata": {},
     "output_type": "execute_result"
    },
    {
     "data": {
      "image/png": "[encoded data removed]",
      "text/plain": [
       "<Figure size 864x648 with 1 Axes>"
      ]
     },
     "metadata": {
      "needs_background": "light"
     },
     "output_type": "display_data"
    }
   ],
   "source": [
    "# graph the plot again and look at the cluster\n",
    "plt.figure(figsize= (12,9))\n",
    "plt.scatter(data['region'],data['chemical'],c=y)"
   ]
  },
  {
   "cell_type": "code",
   "execution_count": 136,
   "metadata": {},
   "outputs": [
    {
     "data": {
      "text/plain": [
       "0        49\n",
       "1        49\n",
       "2        49\n",
       "3        49\n",
       "4        49\n",
       "         ..\n",
       "41717    49\n",
       "41718    49\n",
       "41719    49\n",
       "41720    49\n",
       "41721    49\n",
       "Name: product, Length: 41722, dtype: int32"
      ]
     },
     "execution_count": 136,
     "metadata": {},
     "output_type": "execute_result"
    }
   ],
   "source": [
    "\n",
    "data['product']=le.fit_transform(list(data['Product_Materials_Applied']))\n",
    "data['product']"
   ]
  },
  {
   "cell_type": "code",
   "execution_count": 137,
   "metadata": {},
   "outputs": [
    {
     "data": {
      "text/plain": [
       "0        NaN\n",
       "1        NaN\n",
       "2        NaN\n",
       "3        NaN\n",
       "4        NaN\n",
       "        ... \n",
       "41717    NaN\n",
       "41718    NaN\n",
       "41719    NaN\n",
       "41720    NaN\n",
       "41721    NaN\n",
       "Name: Product_Materials_Applied, Length: 41722, dtype: object"
      ]
     },
     "execution_count": 137,
     "metadata": {},
     "output_type": "execute_result"
    }
   ],
   "source": [
    "data['Product_Materials_Applied']"
   ]
  },
  {
   "cell_type": "code",
   "execution_count": 138,
   "metadata": {},
   "outputs": [
    {
     "data": {
      "text/plain": [
       "<matplotlib.collections.PathCollection at 0x1eb23760>"
      ]
     },
     "execution_count": 138,
     "metadata": {},
     "output_type": "execute_result"
    },
    {
     "data": {
      "image/png": "[encoded data removed]",
      "text/plain": [
       "<Figure size 864x648 with 1 Axes>"
      ]
     },
     "metadata": {
      "needs_background": "light"
     },
     "output_type": "display_data"
    }
   ],
   "source": [
    "plt.figure(figsize= (12,9))\n",
    "plt.scatter(data['region'],data['product'])"
   ]
  },
  {
   "cell_type": "code",
   "execution_count": 139,
   "metadata": {},
   "outputs": [
    {
     "data": {
      "text/plain": [
       "<matplotlib.collections.PathCollection at 0x1eb55a18>"
      ]
     },
     "execution_count": 139,
     "metadata": {},
     "output_type": "execute_result"
    },
    {
     "data": {
      "image/png": "[encoded data removed]",
      "text/plain": [
       "<Figure size 864x648 with 1 Axes>"
      ]
     },
     "metadata": {
      "needs_background": "light"
     },
     "output_type": "display_data"
    }
   ],
   "source": [
    "plt.figure(figsize= (12,9))\n",
    "plt.scatter(data['region'],data['product'],c=y)"
   ]
  },
  {
   "cell_type": "code",
   "execution_count": null,
   "metadata": {},
   "outputs": [],
   "source": []
  }
 ],
 "metadata": {
  "kernelspec": {
   "display_name": "Python 3",
   "language": "python",
   "name": "python3"
  },
  "language_info": {
   "codemirror_mode": {
    "name": "ipython",
    "version": 3
   },
   "file_extension": ".py",
   "mimetype": "text/x-python",
   "name": "python",
   "nbconvert_exporter": "python",
   "pygments_lexer": "ipython3",
   "version": "3.8.1"
  }
 },
 "nbformat": 4,
 "nbformat_minor": 4
}
