{
 "cells": [
  {
   "cell_type": "code",
   "execution_count": 1,
   "metadata": {},
   "outputs": [],
   "source": [
    "# import all the necessary packages\n",
    "import pandas as pd\n",
    "import matplotlib.pyplot as plt\n",
    "import numpy as np\n",
    "import seaborn as sns\n",
    "import xlrd\n",
    "from sklearn.neighbors import KNeighborsClassifier\n",
    "from sklearn.model_selection import train_test_split\n",
    "from sklearn.model_selection import cross_validate\n",
    "from sklearn import preprocessing  \n",
    "from sklearn.linear_model import LogisticRegression\n",
    "%matplotlib inline"
   ]
  },
  {
   "cell_type": "code",
   "execution_count": 4,
   "metadata": {},
   "outputs": [],
   "source": [
    "n = np.array([91,93,82,99,56,78,100,78])"
   ]
  },
  {
   "cell_type": "code",
   "execution_count": 5,
   "metadata": {},
   "outputs": [
    {
     "data": {
      "text/plain": [
       "array([ 91,  93,  82,  99,  56,  78, 100,  78])"
      ]
     },
     "execution_count": 5,
     "metadata": {},
     "output_type": "execute_result"
    }
   ],
   "source": [
    "n"
   ]
  },
  {
   "cell_type": "code",
   "execution_count": 7,
   "metadata": {},
   "outputs": [
    {
     "data": {
      "text/plain": [
       "array([ True,  True, False,  True, False, False,  True, False])"
      ]
     },
     "execution_count": 7,
     "metadata": {},
     "output_type": "execute_result"
    }
   ],
   "source": [
    "n>90"
   ]
  },
  {
   "cell_type": "code",
   "execution_count": 14,
   "metadata": {},
   "outputs": [
    {
     "data": {
      "text/plain": [
       "array([ 91,  93,  99, 100])"
      ]
     },
     "execution_count": 14,
     "metadata": {},
     "output_type": "execute_result"
    }
   ],
   "source": [
    "n[n>90]"
   ]
  },
  {
   "cell_type": "code",
   "execution_count": 2,
   "metadata": {},
   "outputs": [],
   "source": [
    "#load the file data\n",
    "df= pd.read_excel('Rollins data.xlsx',sheet_name='List')"
   ]
  },
  {
   "cell_type": "code",
   "execution_count": 3,
   "metadata": {},
   "outputs": [
    {
     "data": {
      "text/html": [
       "<div>\n",
       "<style scoped>\n",
       "    .dataframe tbody tr th:only-of-type {\n",
       "        vertical-align: middle;\n",
       "    }\n",
       "\n",
       "    .dataframe tbody tr th {\n",
       "        vertical-align: top;\n",
       "    }\n",
       "\n",
       "    .dataframe thead th {\n",
       "        text-align: right;\n",
       "    }\n",
       "</style>\n",
       "<table border=\"1\" class=\"dataframe\">\n",
       "  <thead>\n",
       "    <tr style=\"text-align: right;\">\n",
       "      <th></th>\n",
       "      <th>categoryname</th>\n",
       "      <th>categoryname.1</th>\n",
       "      <th>Branch</th>\n",
       "      <th>accountid</th>\n",
       "      <th>siteid</th>\n",
       "      <th>programid</th>\n",
       "      <th>programname</th>\n",
       "      <th>saledate</th>\n",
       "      <th>Sale_Value</th>\n",
       "      <th>Annual_Value</th>\n",
       "      <th>...</th>\n",
       "      <th>materials_invoiced</th>\n",
       "      <th>services_invoiced</th>\n",
       "      <th>Total_Invoiced_By_Program</th>\n",
       "      <th></th>\n",
       "      <th>Site Name</th>\n",
       "      <th>Site Address</th>\n",
       "      <th>ZIP</th>\n",
       "      <th>Billing Name</th>\n",
       "      <th>Billing Address</th>\n",
       "      <th>Billing ZIP</th>\n",
       "    </tr>\n",
       "  </thead>\n",
       "  <tbody>\n",
       "    <tr>\n",
       "      <th>0</th>\n",
       "      <td>85-Northeast Division</td>\n",
       "      <td>369-New England Region</td>\n",
       "      <td>969-BANGOR SALES/SVC CNTR, ME</td>\n",
       "      <td>1886600</td>\n",
       "      <td>9852078</td>\n",
       "      <td>9014094</td>\n",
       "      <td>Bed Bug Proact - Monthly</td>\n",
       "      <td>2018-03-22</td>\n",
       "      <td>1704.0</td>\n",
       "      <td>1704.0</td>\n",
       "      <td>...</td>\n",
       "      <td>NaN</td>\n",
       "      <td>142.00</td>\n",
       "      <td>3994.46</td>\n",
       "      <td>Contact Information &gt;&gt;&gt;</td>\n",
       "      <td>AROOSTOOK MENTAL HEALTH CENTER</td>\n",
       "      <td>2 AIRPORT DR, PRESQUE ISLE ME</td>\n",
       "      <td>4769</td>\n",
       "      <td>AMHC</td>\n",
       "      <td>PO Box 1018 , Caribou ME</td>\n",
       "      <td>4736</td>\n",
       "    </tr>\n",
       "    <tr>\n",
       "      <th>1</th>\n",
       "      <td>85-Northeast Division</td>\n",
       "      <td>369-New England Region</td>\n",
       "      <td>969-BANGOR SALES/SVC CNTR, ME</td>\n",
       "      <td>1886600</td>\n",
       "      <td>9852078</td>\n",
       "      <td>9014094</td>\n",
       "      <td>Bed Bug Proact - Monthly</td>\n",
       "      <td>2018-03-22</td>\n",
       "      <td>1704.0</td>\n",
       "      <td>1704.0</td>\n",
       "      <td>...</td>\n",
       "      <td>NaN</td>\n",
       "      <td>142.00</td>\n",
       "      <td>3994.46</td>\n",
       "      <td>Contact Information &gt;&gt;&gt;</td>\n",
       "      <td>AROOSTOOK MENTAL HEALTH CENTER</td>\n",
       "      <td>2 AIRPORT DR, PRESQUE ISLE ME</td>\n",
       "      <td>4769</td>\n",
       "      <td>AMHC</td>\n",
       "      <td>PO Box 1018 , Caribou ME</td>\n",
       "      <td>4736</td>\n",
       "    </tr>\n",
       "    <tr>\n",
       "      <th>2</th>\n",
       "      <td>85-Northeast Division</td>\n",
       "      <td>369-New England Region</td>\n",
       "      <td>969-BANGOR SALES/SVC CNTR, ME</td>\n",
       "      <td>1886600</td>\n",
       "      <td>9852078</td>\n",
       "      <td>9014094</td>\n",
       "      <td>Bed Bug Proact - Monthly</td>\n",
       "      <td>2018-03-22</td>\n",
       "      <td>1704.0</td>\n",
       "      <td>1704.0</td>\n",
       "      <td>...</td>\n",
       "      <td>NaN</td>\n",
       "      <td>142.00</td>\n",
       "      <td>3994.46</td>\n",
       "      <td>Contact Information &gt;&gt;&gt;</td>\n",
       "      <td>AROOSTOOK MENTAL HEALTH CENTER</td>\n",
       "      <td>2 AIRPORT DR, PRESQUE ISLE ME</td>\n",
       "      <td>4769</td>\n",
       "      <td>AMHC</td>\n",
       "      <td>PO Box 1018 , Caribou ME</td>\n",
       "      <td>4736</td>\n",
       "    </tr>\n",
       "    <tr>\n",
       "      <th>3</th>\n",
       "      <td>85-Northeast Division</td>\n",
       "      <td>369-New England Region</td>\n",
       "      <td>969-BANGOR SALES/SVC CNTR, ME</td>\n",
       "      <td>1886600</td>\n",
       "      <td>9852078</td>\n",
       "      <td>9014094</td>\n",
       "      <td>Bed Bug Proact - Monthly</td>\n",
       "      <td>2018-03-22</td>\n",
       "      <td>1704.0</td>\n",
       "      <td>1704.0</td>\n",
       "      <td>...</td>\n",
       "      <td>NaN</td>\n",
       "      <td>142.00</td>\n",
       "      <td>3994.46</td>\n",
       "      <td>Contact Information &gt;&gt;&gt;</td>\n",
       "      <td>AROOSTOOK MENTAL HEALTH CENTER</td>\n",
       "      <td>2 AIRPORT DR, PRESQUE ISLE ME</td>\n",
       "      <td>4769</td>\n",
       "      <td>AMHC</td>\n",
       "      <td>PO Box 1018 , Caribou ME</td>\n",
       "      <td>4736</td>\n",
       "    </tr>\n",
       "    <tr>\n",
       "      <th>4</th>\n",
       "      <td>85-Northeast Division</td>\n",
       "      <td>369-New England Region</td>\n",
       "      <td>969-BANGOR SALES/SVC CNTR, ME</td>\n",
       "      <td>1886600</td>\n",
       "      <td>9852078</td>\n",
       "      <td>9014094</td>\n",
       "      <td>Bed Bug Proact - Monthly</td>\n",
       "      <td>2018-03-22</td>\n",
       "      <td>1704.0</td>\n",
       "      <td>1704.0</td>\n",
       "      <td>...</td>\n",
       "      <td>NaN</td>\n",
       "      <td>142.00</td>\n",
       "      <td>3994.46</td>\n",
       "      <td>Contact Information &gt;&gt;&gt;</td>\n",
       "      <td>AROOSTOOK MENTAL HEALTH CENTER</td>\n",
       "      <td>2 AIRPORT DR, PRESQUE ISLE ME</td>\n",
       "      <td>4769</td>\n",
       "      <td>AMHC</td>\n",
       "      <td>PO Box 1018 , Caribou ME</td>\n",
       "      <td>4736</td>\n",
       "    </tr>\n",
       "    <tr>\n",
       "      <th>...</th>\n",
       "      <td>...</td>\n",
       "      <td>...</td>\n",
       "      <td>...</td>\n",
       "      <td>...</td>\n",
       "      <td>...</td>\n",
       "      <td>...</td>\n",
       "      <td>...</td>\n",
       "      <td>...</td>\n",
       "      <td>...</td>\n",
       "      <td>...</td>\n",
       "      <td>...</td>\n",
       "      <td>...</td>\n",
       "      <td>...</td>\n",
       "      <td>...</td>\n",
       "      <td>...</td>\n",
       "      <td>...</td>\n",
       "      <td>...</td>\n",
       "      <td>...</td>\n",
       "      <td>...</td>\n",
       "      <td>...</td>\n",
       "      <td>...</td>\n",
       "    </tr>\n",
       "    <tr>\n",
       "      <th>2263</th>\n",
       "      <td>81-Southeast Division</td>\n",
       "      <td>149-N. Florida Region</td>\n",
       "      <td>232-PENSACOLA, FL</td>\n",
       "      <td>33909338</td>\n",
       "      <td>12093964</td>\n",
       "      <td>10642007</td>\n",
       "      <td>Bed Bug Proact - Monthly</td>\n",
       "      <td>2020-04-02</td>\n",
       "      <td>1080.0</td>\n",
       "      <td>1080.0</td>\n",
       "      <td>...</td>\n",
       "      <td>NaN</td>\n",
       "      <td>90.00</td>\n",
       "      <td>360.00</td>\n",
       "      <td>Contact Information &gt;&gt;&gt;</td>\n",
       "      <td>MONA LISA HOTEL</td>\n",
       "      <td>4950  MOBILE  HIGHWAY, PENSACOLA  FL</td>\n",
       "      <td>32505</td>\n",
       "      <td></td>\n",
       "      <td>4950  MOBILE  HIGHWAY, PENSACOLA  FL</td>\n",
       "      <td>32505</td>\n",
       "    </tr>\n",
       "    <tr>\n",
       "      <th>2264</th>\n",
       "      <td>81-Southeast Division</td>\n",
       "      <td>149-N. Florida Region</td>\n",
       "      <td>232-PENSACOLA, FL</td>\n",
       "      <td>33909338</td>\n",
       "      <td>12093964</td>\n",
       "      <td>10642007</td>\n",
       "      <td>Bed Bug Proact - Monthly</td>\n",
       "      <td>2020-04-02</td>\n",
       "      <td>1080.0</td>\n",
       "      <td>1080.0</td>\n",
       "      <td>...</td>\n",
       "      <td>NaN</td>\n",
       "      <td>90.00</td>\n",
       "      <td>360.00</td>\n",
       "      <td>Contact Information &gt;&gt;&gt;</td>\n",
       "      <td>MONA LISA HOTEL</td>\n",
       "      <td>4950  MOBILE  HIGHWAY, PENSACOLA  FL</td>\n",
       "      <td>32505</td>\n",
       "      <td></td>\n",
       "      <td>4950  MOBILE  HIGHWAY, PENSACOLA  FL</td>\n",
       "      <td>32505</td>\n",
       "    </tr>\n",
       "    <tr>\n",
       "      <th>2265</th>\n",
       "      <td>86-Pacific Division</td>\n",
       "      <td>829-Colorado Region</td>\n",
       "      <td>892-GRAND JUNCTION, CO</td>\n",
       "      <td>33737882</td>\n",
       "      <td>11898315</td>\n",
       "      <td>10726377</td>\n",
       "      <td>Bed Bug Proact - Semi-Annual</td>\n",
       "      <td>2020-05-01</td>\n",
       "      <td>3060.0</td>\n",
       "      <td>3060.0</td>\n",
       "      <td>...</td>\n",
       "      <td>NaN</td>\n",
       "      <td>1530.00</td>\n",
       "      <td>1530.00</td>\n",
       "      <td>Contact Information &gt;&gt;&gt;</td>\n",
       "      <td>BRETTELBERG CONDOS</td>\n",
       "      <td>1546 PO. BOX  , GLENWOOD SPRINGS CO</td>\n",
       "      <td>81602</td>\n",
       "      <td></td>\n",
       "      <td>1546 PO. BOX  , GLENWOOD SPRINGS CO</td>\n",
       "      <td>81602</td>\n",
       "    </tr>\n",
       "    <tr>\n",
       "      <th>2266</th>\n",
       "      <td>86-Pacific Division</td>\n",
       "      <td>829-Colorado Region</td>\n",
       "      <td>884-DURANGO, CO</td>\n",
       "      <td>34193685</td>\n",
       "      <td>12409315</td>\n",
       "      <td>10889860</td>\n",
       "      <td>Bed Bug Proact - Monthly</td>\n",
       "      <td>2020-06-22</td>\n",
       "      <td>21590.0</td>\n",
       "      <td>21590.0</td>\n",
       "      <td>...</td>\n",
       "      <td>NaN</td>\n",
       "      <td>899.58</td>\n",
       "      <td>1799.16</td>\n",
       "      <td>Contact Information &gt;&gt;&gt;</td>\n",
       "      <td>.. ..</td>\n",
       "      <td>191 PAGOSA ST, PAGOSA SPRINGS CO</td>\n",
       "      <td>81147</td>\n",
       "      <td>.. ..</td>\n",
       "      <td>191 PAGOSA ST, PAGOSA SPRINGS CO</td>\n",
       "      <td>81147</td>\n",
       "    </tr>\n",
       "    <tr>\n",
       "      <th>2267</th>\n",
       "      <td>86-Pacific Division</td>\n",
       "      <td>829-Colorado Region</td>\n",
       "      <td>884-DURANGO, CO</td>\n",
       "      <td>34193685</td>\n",
       "      <td>12409315</td>\n",
       "      <td>10889860</td>\n",
       "      <td>Bed Bug Proact - Monthly</td>\n",
       "      <td>2020-06-22</td>\n",
       "      <td>21590.0</td>\n",
       "      <td>21590.0</td>\n",
       "      <td>...</td>\n",
       "      <td>NaN</td>\n",
       "      <td>899.58</td>\n",
       "      <td>1799.16</td>\n",
       "      <td>Contact Information &gt;&gt;&gt;</td>\n",
       "      <td>.. ..</td>\n",
       "      <td>191 PAGOSA ST, PAGOSA SPRINGS CO</td>\n",
       "      <td>81147</td>\n",
       "      <td>.. ..</td>\n",
       "      <td>191 PAGOSA ST, PAGOSA SPRINGS CO</td>\n",
       "      <td>81147</td>\n",
       "    </tr>\n",
       "  </tbody>\n",
       "</table>\n",
       "<p>2268 rows × 41 columns</p>\n",
       "</div>"
      ],
      "text/plain": [
       "               categoryname          categoryname.1  \\\n",
       "0     85-Northeast Division  369-New England Region   \n",
       "1     85-Northeast Division  369-New England Region   \n",
       "2     85-Northeast Division  369-New England Region   \n",
       "3     85-Northeast Division  369-New England Region   \n",
       "4     85-Northeast Division  369-New England Region   \n",
       "...                     ...                     ...   \n",
       "2263  81-Southeast Division   149-N. Florida Region   \n",
       "2264  81-Southeast Division   149-N. Florida Region   \n",
       "2265    86-Pacific Division     829-Colorado Region   \n",
       "2266    86-Pacific Division     829-Colorado Region   \n",
       "2267    86-Pacific Division     829-Colorado Region   \n",
       "\n",
       "                              Branch  accountid    siteid  programid  \\\n",
       "0     969-BANGOR SALES/SVC CNTR, ME     1886600   9852078    9014094   \n",
       "1     969-BANGOR SALES/SVC CNTR, ME     1886600   9852078    9014094   \n",
       "2     969-BANGOR SALES/SVC CNTR, ME     1886600   9852078    9014094   \n",
       "3     969-BANGOR SALES/SVC CNTR, ME     1886600   9852078    9014094   \n",
       "4     969-BANGOR SALES/SVC CNTR, ME     1886600   9852078    9014094   \n",
       "...                              ...        ...       ...        ...   \n",
       "2263               232-PENSACOLA, FL   33909338  12093964   10642007   \n",
       "2264               232-PENSACOLA, FL   33909338  12093964   10642007   \n",
       "2265    892-GRAND JUNCTION, CO         33737882  11898315   10726377   \n",
       "2266       884-DURANGO, CO             34193685  12409315   10889860   \n",
       "2267       884-DURANGO, CO             34193685  12409315   10889860   \n",
       "\n",
       "                       programname   saledate  Sale_Value  Annual_Value  ...  \\\n",
       "0         Bed Bug Proact - Monthly 2018-03-22      1704.0        1704.0  ...   \n",
       "1         Bed Bug Proact - Monthly 2018-03-22      1704.0        1704.0  ...   \n",
       "2         Bed Bug Proact - Monthly 2018-03-22      1704.0        1704.0  ...   \n",
       "3         Bed Bug Proact - Monthly 2018-03-22      1704.0        1704.0  ...   \n",
       "4         Bed Bug Proact - Monthly 2018-03-22      1704.0        1704.0  ...   \n",
       "...                            ...        ...         ...           ...  ...   \n",
       "2263      Bed Bug Proact - Monthly 2020-04-02      1080.0        1080.0  ...   \n",
       "2264      Bed Bug Proact - Monthly 2020-04-02      1080.0        1080.0  ...   \n",
       "2265  Bed Bug Proact - Semi-Annual 2020-05-01      3060.0        3060.0  ...   \n",
       "2266      Bed Bug Proact - Monthly 2020-06-22     21590.0       21590.0  ...   \n",
       "2267      Bed Bug Proact - Monthly 2020-06-22     21590.0       21590.0  ...   \n",
       "\n",
       "     materials_invoiced services_invoiced Total_Invoiced_By_Program  \\\n",
       "0                   NaN            142.00                   3994.46   \n",
       "1                   NaN            142.00                   3994.46   \n",
       "2                   NaN            142.00                   3994.46   \n",
       "3                   NaN            142.00                   3994.46   \n",
       "4                   NaN            142.00                   3994.46   \n",
       "...                 ...               ...                       ...   \n",
       "2263                NaN             90.00                    360.00   \n",
       "2264                NaN             90.00                    360.00   \n",
       "2265                NaN           1530.00                   1530.00   \n",
       "2266                NaN            899.58                   1799.16   \n",
       "2267                NaN            899.58                   1799.16   \n",
       "\n",
       "                                                    Site Name  \\\n",
       "0     Contact Information >>>  AROOSTOOK MENTAL HEALTH CENTER   \n",
       "1     Contact Information >>>  AROOSTOOK MENTAL HEALTH CENTER   \n",
       "2     Contact Information >>>  AROOSTOOK MENTAL HEALTH CENTER   \n",
       "3     Contact Information >>>  AROOSTOOK MENTAL HEALTH CENTER   \n",
       "4     Contact Information >>>  AROOSTOOK MENTAL HEALTH CENTER   \n",
       "...                       ...                             ...   \n",
       "2263  Contact Information >>>                MONA LISA HOTEL    \n",
       "2264  Contact Information >>>                MONA LISA HOTEL    \n",
       "2265  Contact Information >>>              BRETTELBERG CONDOS   \n",
       "2266  Contact Information >>>                           .. ..   \n",
       "2267  Contact Information >>>                           .. ..   \n",
       "\n",
       "                              Site Address    ZIP  Billing Name  \\\n",
       "0            2 AIRPORT DR, PRESQUE ISLE ME   4769          AMHC   \n",
       "1            2 AIRPORT DR, PRESQUE ISLE ME   4769          AMHC   \n",
       "2            2 AIRPORT DR, PRESQUE ISLE ME   4769          AMHC   \n",
       "3            2 AIRPORT DR, PRESQUE ISLE ME   4769          AMHC   \n",
       "4            2 AIRPORT DR, PRESQUE ISLE ME   4769          AMHC   \n",
       "...                                    ...    ...           ...   \n",
       "2263  4950  MOBILE  HIGHWAY, PENSACOLA  FL  32505                 \n",
       "2264  4950  MOBILE  HIGHWAY, PENSACOLA  FL  32505                 \n",
       "2265   1546 PO. BOX  , GLENWOOD SPRINGS CO  81602                 \n",
       "2266      191 PAGOSA ST, PAGOSA SPRINGS CO  81147         .. ..   \n",
       "2267      191 PAGOSA ST, PAGOSA SPRINGS CO  81147         .. ..   \n",
       "\n",
       "                           Billing Address  Billing ZIP  \n",
       "0                 PO Box 1018 , Caribou ME         4736  \n",
       "1                 PO Box 1018 , Caribou ME         4736  \n",
       "2                 PO Box 1018 , Caribou ME         4736  \n",
       "3                 PO Box 1018 , Caribou ME         4736  \n",
       "4                 PO Box 1018 , Caribou ME         4736  \n",
       "...                                    ...          ...  \n",
       "2263  4950  MOBILE  HIGHWAY, PENSACOLA  FL        32505  \n",
       "2264  4950  MOBILE  HIGHWAY, PENSACOLA  FL        32505  \n",
       "2265   1546 PO. BOX  , GLENWOOD SPRINGS CO        81602  \n",
       "2266      191 PAGOSA ST, PAGOSA SPRINGS CO        81147  \n",
       "2267      191 PAGOSA ST, PAGOSA SPRINGS CO        81147  \n",
       "\n",
       "[2268 rows x 41 columns]"
      ]
     },
     "execution_count": 3,
     "metadata": {},
     "output_type": "execute_result"
    }
   ],
   "source": [
    "df"
   ]
  },
  {
   "cell_type": "code",
   "execution_count": 4,
   "metadata": {},
   "outputs": [
    {
     "data": {
      "text/plain": [
       "111"
      ]
     },
     "execution_count": 4,
     "metadata": {},
     "output_type": "execute_result"
    }
   ],
   "source": [
    "len(df.siteid.unique())"
   ]
  },
  {
   "cell_type": "code",
   "execution_count": 5,
   "metadata": {},
   "outputs": [
    {
     "data": {
      "text/plain": [
       "Index(['categoryname', 'categoryname.1', 'Branch', 'accountid', 'siteid',\n",
       "       'programid', 'programname', 'saledate', 'Sale_Value', 'Annual_Value',\n",
       "       'Cancel_date', 'Program_Sales_Person', 'Program Type', 'eventid', 'WO#',\n",
       "       'eventname', 'completeddate', 'completedamount',\n",
       "       'Chemical_Materials_Applied_Count', 'Product_Materials_Applied_Count',\n",
       "       'Bait_Materials_Applied_Count', 'Hardware_Materials_Applied_Count',\n",
       "       'Equipment_Materials_Applied_Count', 'Service_Materials_Applied_Count',\n",
       "       'Chemical_Materials_Applied', 'Product_Materials_Applied',\n",
       "       'Bait_Materials_Applied', 'Hardware_Materials_Applied',\n",
       "       'Equipment_Materials_Applied', 'service_Materials_Applied',\n",
       "       'Material_Total_price', 'materials_invoiced', 'services_invoiced',\n",
       "       'Total_Invoiced_By_Program', ' ', 'Site Name', 'Site Address', 'ZIP',\n",
       "       'Billing Name', 'Billing Address', 'Billing ZIP'],\n",
       "      dtype='object')"
      ]
     },
     "execution_count": 5,
     "metadata": {},
     "output_type": "execute_result"
    }
   ],
   "source": [
    "# get basic info about the dataframe\n",
    "df.columns"
   ]
  },
  {
   "cell_type": "code",
   "execution_count": 6,
   "metadata": {},
   "outputs": [
    {
     "data": {
      "text/html": [
       "<div>\n",
       "<style scoped>\n",
       "    .dataframe tbody tr th:only-of-type {\n",
       "        vertical-align: middle;\n",
       "    }\n",
       "\n",
       "    .dataframe tbody tr th {\n",
       "        vertical-align: top;\n",
       "    }\n",
       "\n",
       "    .dataframe thead th {\n",
       "        text-align: right;\n",
       "    }\n",
       "</style>\n",
       "<table border=\"1\" class=\"dataframe\">\n",
       "  <thead>\n",
       "    <tr style=\"text-align: right;\">\n",
       "      <th></th>\n",
       "      <th>categoryname</th>\n",
       "      <th>categoryname.1</th>\n",
       "      <th>Branch</th>\n",
       "      <th>siteid</th>\n",
       "      <th>programid</th>\n",
       "      <th>programname</th>\n",
       "      <th>Program Type</th>\n",
       "      <th>eventid</th>\n",
       "      <th>WO#</th>\n",
       "      <th>eventname</th>\n",
       "      <th>Site Name</th>\n",
       "      <th>Site Address</th>\n",
       "      <th>ZIP</th>\n",
       "    </tr>\n",
       "  </thead>\n",
       "  <tbody>\n",
       "    <tr>\n",
       "      <th>0</th>\n",
       "      <td>85-Northeast Division</td>\n",
       "      <td>369-New England Region</td>\n",
       "      <td>969-BANGOR SALES/SVC CNTR, ME</td>\n",
       "      <td>9852078</td>\n",
       "      <td>9014094</td>\n",
       "      <td>Bed Bug Proact - Monthly</td>\n",
       "      <td>PC</td>\n",
       "      <td>23285075</td>\n",
       "      <td>172192860</td>\n",
       "      <td>PC 1st Service</td>\n",
       "      <td>AROOSTOOK MENTAL HEALTH CENTER</td>\n",
       "      <td>2 AIRPORT DR, PRESQUE ISLE ME</td>\n",
       "      <td>4769</td>\n",
       "    </tr>\n",
       "    <tr>\n",
       "      <th>1</th>\n",
       "      <td>85-Northeast Division</td>\n",
       "      <td>369-New England Region</td>\n",
       "      <td>969-BANGOR SALES/SVC CNTR, ME</td>\n",
       "      <td>9852078</td>\n",
       "      <td>9014094</td>\n",
       "      <td>Bed Bug Proact - Monthly</td>\n",
       "      <td>PC</td>\n",
       "      <td>23285076</td>\n",
       "      <td>172192862</td>\n",
       "      <td>PC Standard</td>\n",
       "      <td>AROOSTOOK MENTAL HEALTH CENTER</td>\n",
       "      <td>2 AIRPORT DR, PRESQUE ISLE ME</td>\n",
       "      <td>4769</td>\n",
       "    </tr>\n",
       "    <tr>\n",
       "      <th>2</th>\n",
       "      <td>85-Northeast Division</td>\n",
       "      <td>369-New England Region</td>\n",
       "      <td>969-BANGOR SALES/SVC CNTR, ME</td>\n",
       "      <td>9852078</td>\n",
       "      <td>9014094</td>\n",
       "      <td>Bed Bug Proact - Monthly</td>\n",
       "      <td>PC</td>\n",
       "      <td>23285076</td>\n",
       "      <td>172192863</td>\n",
       "      <td>PC Standard</td>\n",
       "      <td>AROOSTOOK MENTAL HEALTH CENTER</td>\n",
       "      <td>2 AIRPORT DR, PRESQUE ISLE ME</td>\n",
       "      <td>4769</td>\n",
       "    </tr>\n",
       "    <tr>\n",
       "      <th>3</th>\n",
       "      <td>85-Northeast Division</td>\n",
       "      <td>369-New England Region</td>\n",
       "      <td>969-BANGOR SALES/SVC CNTR, ME</td>\n",
       "      <td>9852078</td>\n",
       "      <td>9014094</td>\n",
       "      <td>Bed Bug Proact - Monthly</td>\n",
       "      <td>PC</td>\n",
       "      <td>23285076</td>\n",
       "      <td>172192864</td>\n",
       "      <td>PC Standard</td>\n",
       "      <td>AROOSTOOK MENTAL HEALTH CENTER</td>\n",
       "      <td>2 AIRPORT DR, PRESQUE ISLE ME</td>\n",
       "      <td>4769</td>\n",
       "    </tr>\n",
       "    <tr>\n",
       "      <th>4</th>\n",
       "      <td>85-Northeast Division</td>\n",
       "      <td>369-New England Region</td>\n",
       "      <td>969-BANGOR SALES/SVC CNTR, ME</td>\n",
       "      <td>9852078</td>\n",
       "      <td>9014094</td>\n",
       "      <td>Bed Bug Proact - Monthly</td>\n",
       "      <td>PC</td>\n",
       "      <td>23285076</td>\n",
       "      <td>172192865</td>\n",
       "      <td>PC Standard</td>\n",
       "      <td>AROOSTOOK MENTAL HEALTH CENTER</td>\n",
       "      <td>2 AIRPORT DR, PRESQUE ISLE ME</td>\n",
       "      <td>4769</td>\n",
       "    </tr>\n",
       "    <tr>\n",
       "      <th>...</th>\n",
       "      <td>...</td>\n",
       "      <td>...</td>\n",
       "      <td>...</td>\n",
       "      <td>...</td>\n",
       "      <td>...</td>\n",
       "      <td>...</td>\n",
       "      <td>...</td>\n",
       "      <td>...</td>\n",
       "      <td>...</td>\n",
       "      <td>...</td>\n",
       "      <td>...</td>\n",
       "      <td>...</td>\n",
       "      <td>...</td>\n",
       "    </tr>\n",
       "    <tr>\n",
       "      <th>2263</th>\n",
       "      <td>81-Southeast Division</td>\n",
       "      <td>149-N. Florida Region</td>\n",
       "      <td>232-PENSACOLA, FL</td>\n",
       "      <td>12093964</td>\n",
       "      <td>10642007</td>\n",
       "      <td>Bed Bug Proact - Monthly</td>\n",
       "      <td>PC</td>\n",
       "      <td>28937333</td>\n",
       "      <td>200063681</td>\n",
       "      <td>PC Standard</td>\n",
       "      <td>MONA LISA HOTEL</td>\n",
       "      <td>4950  MOBILE  HIGHWAY, PENSACOLA  FL</td>\n",
       "      <td>32505</td>\n",
       "    </tr>\n",
       "    <tr>\n",
       "      <th>2264</th>\n",
       "      <td>81-Southeast Division</td>\n",
       "      <td>149-N. Florida Region</td>\n",
       "      <td>232-PENSACOLA, FL</td>\n",
       "      <td>12093964</td>\n",
       "      <td>10642007</td>\n",
       "      <td>Bed Bug Proact - Monthly</td>\n",
       "      <td>PC</td>\n",
       "      <td>28937333</td>\n",
       "      <td>200063682</td>\n",
       "      <td>PC Standard</td>\n",
       "      <td>MONA LISA HOTEL</td>\n",
       "      <td>4950  MOBILE  HIGHWAY, PENSACOLA  FL</td>\n",
       "      <td>32505</td>\n",
       "    </tr>\n",
       "    <tr>\n",
       "      <th>2265</th>\n",
       "      <td>86-Pacific Division</td>\n",
       "      <td>829-Colorado Region</td>\n",
       "      <td>892-GRAND JUNCTION, CO</td>\n",
       "      <td>11898315</td>\n",
       "      <td>10726377</td>\n",
       "      <td>Bed Bug Proact - Semi-Annual</td>\n",
       "      <td>PC</td>\n",
       "      <td>29233835</td>\n",
       "      <td>201290561</td>\n",
       "      <td>PC 1st Service</td>\n",
       "      <td>BRETTELBERG CONDOS</td>\n",
       "      <td>1546 PO. BOX  , GLENWOOD SPRINGS CO</td>\n",
       "      <td>81602</td>\n",
       "    </tr>\n",
       "    <tr>\n",
       "      <th>2266</th>\n",
       "      <td>86-Pacific Division</td>\n",
       "      <td>829-Colorado Region</td>\n",
       "      <td>884-DURANGO, CO</td>\n",
       "      <td>12409315</td>\n",
       "      <td>10889860</td>\n",
       "      <td>Bed Bug Proact - Monthly</td>\n",
       "      <td>PC</td>\n",
       "      <td>29795370</td>\n",
       "      <td>203626475</td>\n",
       "      <td>PC 1st Service</td>\n",
       "      <td>.. ..</td>\n",
       "      <td>191 PAGOSA ST, PAGOSA SPRINGS CO</td>\n",
       "      <td>81147</td>\n",
       "    </tr>\n",
       "    <tr>\n",
       "      <th>2267</th>\n",
       "      <td>86-Pacific Division</td>\n",
       "      <td>829-Colorado Region</td>\n",
       "      <td>884-DURANGO, CO</td>\n",
       "      <td>12409315</td>\n",
       "      <td>10889860</td>\n",
       "      <td>Bed Bug Proact - Monthly</td>\n",
       "      <td>PC</td>\n",
       "      <td>29795371</td>\n",
       "      <td>203635127</td>\n",
       "      <td>PC Standard</td>\n",
       "      <td>.. ..</td>\n",
       "      <td>191 PAGOSA ST, PAGOSA SPRINGS CO</td>\n",
       "      <td>81147</td>\n",
       "    </tr>\n",
       "  </tbody>\n",
       "</table>\n",
       "<p>2268 rows × 13 columns</p>\n",
       "</div>"
      ],
      "text/plain": [
       "               categoryname          categoryname.1  \\\n",
       "0     85-Northeast Division  369-New England Region   \n",
       "1     85-Northeast Division  369-New England Region   \n",
       "2     85-Northeast Division  369-New England Region   \n",
       "3     85-Northeast Division  369-New England Region   \n",
       "4     85-Northeast Division  369-New England Region   \n",
       "...                     ...                     ...   \n",
       "2263  81-Southeast Division   149-N. Florida Region   \n",
       "2264  81-Southeast Division   149-N. Florida Region   \n",
       "2265    86-Pacific Division     829-Colorado Region   \n",
       "2266    86-Pacific Division     829-Colorado Region   \n",
       "2267    86-Pacific Division     829-Colorado Region   \n",
       "\n",
       "                              Branch    siteid  programid  \\\n",
       "0     969-BANGOR SALES/SVC CNTR, ME    9852078    9014094   \n",
       "1     969-BANGOR SALES/SVC CNTR, ME    9852078    9014094   \n",
       "2     969-BANGOR SALES/SVC CNTR, ME    9852078    9014094   \n",
       "3     969-BANGOR SALES/SVC CNTR, ME    9852078    9014094   \n",
       "4     969-BANGOR SALES/SVC CNTR, ME    9852078    9014094   \n",
       "...                              ...       ...        ...   \n",
       "2263               232-PENSACOLA, FL  12093964   10642007   \n",
       "2264               232-PENSACOLA, FL  12093964   10642007   \n",
       "2265    892-GRAND JUNCTION, CO        11898315   10726377   \n",
       "2266       884-DURANGO, CO            12409315   10889860   \n",
       "2267       884-DURANGO, CO            12409315   10889860   \n",
       "\n",
       "                       programname Program Type   eventid        WO#  \\\n",
       "0         Bed Bug Proact - Monthly           PC  23285075  172192860   \n",
       "1         Bed Bug Proact - Monthly           PC  23285076  172192862   \n",
       "2         Bed Bug Proact - Monthly           PC  23285076  172192863   \n",
       "3         Bed Bug Proact - Monthly           PC  23285076  172192864   \n",
       "4         Bed Bug Proact - Monthly           PC  23285076  172192865   \n",
       "...                            ...          ...       ...        ...   \n",
       "2263      Bed Bug Proact - Monthly           PC  28937333  200063681   \n",
       "2264      Bed Bug Proact - Monthly           PC  28937333  200063682   \n",
       "2265  Bed Bug Proact - Semi-Annual           PC  29233835  201290561   \n",
       "2266      Bed Bug Proact - Monthly           PC  29795370  203626475   \n",
       "2267      Bed Bug Proact - Monthly           PC  29795371  203635127   \n",
       "\n",
       "           eventname                       Site Name  \\\n",
       "0     PC 1st Service  AROOSTOOK MENTAL HEALTH CENTER   \n",
       "1        PC Standard  AROOSTOOK MENTAL HEALTH CENTER   \n",
       "2        PC Standard  AROOSTOOK MENTAL HEALTH CENTER   \n",
       "3        PC Standard  AROOSTOOK MENTAL HEALTH CENTER   \n",
       "4        PC Standard  AROOSTOOK MENTAL HEALTH CENTER   \n",
       "...              ...                             ...   \n",
       "2263     PC Standard                MONA LISA HOTEL    \n",
       "2264     PC Standard                MONA LISA HOTEL    \n",
       "2265  PC 1st Service              BRETTELBERG CONDOS   \n",
       "2266  PC 1st Service                           .. ..   \n",
       "2267     PC Standard                           .. ..   \n",
       "\n",
       "                              Site Address    ZIP  \n",
       "0            2 AIRPORT DR, PRESQUE ISLE ME   4769  \n",
       "1            2 AIRPORT DR, PRESQUE ISLE ME   4769  \n",
       "2            2 AIRPORT DR, PRESQUE ISLE ME   4769  \n",
       "3            2 AIRPORT DR, PRESQUE ISLE ME   4769  \n",
       "4            2 AIRPORT DR, PRESQUE ISLE ME   4769  \n",
       "...                                    ...    ...  \n",
       "2263  4950  MOBILE  HIGHWAY, PENSACOLA  FL  32505  \n",
       "2264  4950  MOBILE  HIGHWAY, PENSACOLA  FL  32505  \n",
       "2265   1546 PO. BOX  , GLENWOOD SPRINGS CO  81602  \n",
       "2266      191 PAGOSA ST, PAGOSA SPRINGS CO  81147  \n",
       "2267      191 PAGOSA ST, PAGOSA SPRINGS CO  81147  \n",
       "\n",
       "[2268 rows x 13 columns]"
      ]
     },
     "execution_count": 6,
     "metadata": {},
     "output_type": "execute_result"
    }
   ],
   "source": [
    "# some basic features we will use to predict the materials\n",
    "x=df[['categoryname','categoryname.1','Branch','siteid','programid','programname','Program Type',\n",
    "      'eventid', 'WO#','eventname', 'Site Name', 'Site Address', 'ZIP']]\n",
    "x"
   ]
  },
  {
   "cell_type": "code",
   "execution_count": 7,
   "metadata": {},
   "outputs": [
    {
     "data": {
      "text/plain": [
       "350"
      ]
     },
     "execution_count": 7,
     "metadata": {},
     "output_type": "execute_result"
    }
   ],
   "source": [
    "len(df.Chemical_Materials_Applied.unique())"
   ]
  },
  {
   "cell_type": "code",
   "execution_count": 8,
   "metadata": {},
   "outputs": [],
   "source": [
    "# extract the target columns for chemicals\n",
    "chemicals = df[\"Chemical_Materials_Applied\"]"
   ]
  },
  {
   "cell_type": "code",
   "execution_count": 9,
   "metadata": {},
   "outputs": [],
   "source": [
    "# extract the target columns for products\n",
    "product = df['Product_Materials_Applied']"
   ]
  },
  {
   "cell_type": "code",
   "execution_count": 10,
   "metadata": {},
   "outputs": [
    {
     "data": {
      "text/plain": [
       "pandas.core.series.Series"
      ]
     },
     "execution_count": 10,
     "metadata": {},
     "output_type": "execute_result"
    }
   ],
   "source": [
    "type(product)"
   ]
  },
  {
   "cell_type": "code",
   "execution_count": 11,
   "metadata": {},
   "outputs": [],
   "source": [
    "# extract the target columns for bait\n",
    "bait=df['Bait_Materials_Applied']"
   ]
  },
  {
   "cell_type": "code",
   "execution_count": 12,
   "metadata": {},
   "outputs": [],
   "source": [
    "# extract the target columns for hardware\n",
    "hardware=df['Hardware_Materials_Applied']"
   ]
  },
  {
   "cell_type": "code",
   "execution_count": 13,
   "metadata": {},
   "outputs": [],
   "source": [
    "# extract the target columns for equipment\n",
    "equipment=df['Equipment_Materials_Applied']"
   ]
  },
  {
   "cell_type": "code",
   "execution_count": 14,
   "metadata": {},
   "outputs": [],
   "source": [
    "# extract the target columns for service\n",
    "service=df['service_Materials_Applied']"
   ]
  },
  {
   "cell_type": "code",
   "execution_count": 15,
   "metadata": {},
   "outputs": [
    {
     "data": {
      "text/plain": [
       "array([' (C)STEFS, (C)TRANM11', ' (C)TRANM11', ' CID, PHN (Liquid Ounce)',\n",
       "       ' PHN (Liquid Ounce)', ' (C)STEFS, PHN (Liquid Ounce)',\n",
       "       ' DDT (Dust Gram), PHN (Liquid Ounce)', ' TALPRO',\n",
       "       ' ADFCB, CID, PHN (Liquid Ounce)', ' TRANSGHP',\n",
       "       ' (C)STEFS, TRANSGHP', ' EXCITER, PHN (Liquid Ounce)',\n",
       "       ' EXCITER, TEMPRID', ' EXCITER, PT565+XLO, TEMPRID',\n",
       "       ' PATROL, TALSTPL', ' EXCITER, TEMPFX', ' ALPWSG, EXCITER',\n",
       "       ' TEMPFX', ' ALPWSG', ' ADFCB, TEMPFX', ' ADFCB, VENDPLUS',\n",
       "       ' TEMPFX, VENDPLUS', ' (C)STEFS, CID, TEMPFX', ' ALPF&amp;B',\n",
       "       ' ACBG, TEMPFX, VENDPLUS', ' ACBG, CID, PHN (Liquid Ounce)',\n",
       "       ' CID, GECEG (Granular Ounce), PHN (Liquid Ounce), TALPRO',\n",
       "       ' ACGB (Gram), PT565+XLO, TEMPRID', ' (C)TRANM11, CID',\n",
       "       ' ADFCB, EXCITER, PT565+XLO, TEMPRID, VENDPLUS',\n",
       "       ' EXCITER, TEMPFX, VENDPLUS', ' (C)STEFS, ALPWSG, CID, EXCITER',\n",
       "       ' CKCSCRC, EXCITER', ' (C)CYK, TEMPFX, VENDPLUS',\n",
       "       ' ADFCB, PHN (Liquid Ounce)', ' (C)STEFS, CID, EXCITER, TEMPFX',\n",
       "       ' TMPSCU1', ' ADIG, TMPSCU1', ' ONSLFC',\n",
       "       ' ADFCB, TEMPFX, VENDPLUS', ' ADFCB, ALPWSG',\n",
       "       ' CID, EXCITER, PHN (Liquid Ounce)', ' ADFCB, TEKPRO, TEMPRID',\n",
       "       ' ADFCB, EXCITER, TEMPRID', ' CID, TRANSGHP', ' PT565+XLO, TEMPFX',\n",
       "       ' ADFCB, CID, TEMPFX', ' PHN (Liquid Ounce), VENDPLUS',\n",
       "       ' DDT (Dust Gram), PHN (Liquid Ounce), PT565+XLO',\n",
       "       ' CID, PHN (Liquid Ounce), PT565+XLO', ' CKCSCRC',\n",
       "       ' (C)MFSH, PT565+XLO, TRANSGHP', ' TEKPRO, TEMPRID',\n",
       "       ' ALPINEFLY, TEMPRID', ' (C)CYK, TEMPFX', ' ADFCB, PATROL',\n",
       "       ' ADFCB, EXCITER, PHN (Liquid Ounce)', ' ADFCB, EXCITER, TEMPFX',\n",
       "       ' (C)CYK', ' CID', ' ACGB (Gram), TEMPFX',\n",
       "       ' PHN (Liquid Ounce), PT565+XLO', ' (C)STEFS, CID, TRANSGHP',\n",
       "       ' (C)STEFS, CID, PHN (Liquid Ounce)', ' ALPWSG, TEKPRO',\n",
       "       ' ALPINEFLY', ' CID, TEMPFX', ' CID, EXCITER, TEMPRID',\n",
       "       ' PHANTOMII', ' PATROL', ' ADFCB', ' ALPF&amp;B, TEMPFX',\n",
       "       ' ADFCB, CID, PHN (Liquid Ounce), VENDPLUS',\n",
       "       ' CID, MQAB, PHN (Liquid Ounce)', ' EXCITER, TRANSGHP', ' EXCITER',\n",
       "       ' FINALAWB, TALSTPL, TEMPFX', ' (C)STEFS', ' ALPINEFLY, EZONE',\n",
       "       ' (C)STEFS, TEMPFX', ' ALPINEFLY, PHN (Liquid Ounce)',\n",
       "       ' TALPRO, TALSTPL', ' ADFCB, PT565+XLO, TEMPFX',\n",
       "       ' CID, EXCITER, PHN (Liquid Ounce), TEMPRID',\n",
       "       ' (C)TRANM11, ADFCB, CID', ' ADFCB, PHANTOMII',\n",
       "       ' (C)TRANM11, MFMRK, PT565+XLO',\n",
       "       ' (C)STEFS, ACGB (Gram), ADFCB, ALPWSG, CID, EXCITER',\n",
       "       ' ADIG, GECEG (Granular Ounce), TALSTPL',\n",
       "       ' (C)STEFS, CID, EXCITER, TRANSGHP', ' PHN (Liquid Ounce), TEMPFX',\n",
       "       ' ADFCB, EXCITER, TEMPFX, VENDPLUS', ' (C)STEFS, ALPWSG, CID',\n",
       "       ' ALP (Gram), PHN (Liquid Ounce)', ' CID, PT565+XLO, TMPSCU1',\n",
       "       ' ADFCB, ONSLFC', ' ADFCB, ALPWSG, PT565+XLO', ' (C)CYK, CID',\n",
       "       ' ADFCB, PHN (Liquid Ounce), PT565+XLO', ' DSIFL',\n",
       "       ' ADFCB, CID, EXCITER, PHN (Liquid Ounce), VENDPLUS',\n",
       "       ' EXCITER, PHN (Liquid Ounce), PT565+XLO, VENDPLUS',\n",
       "       ' ADFCB, PT565+XLO, TALPRO, VENDPLUS', ' VENDPLUS',\n",
       "       ' ADIG, TALSTPL', ' CID, EXCITER, TEMPFX',\n",
       "       ' PT565+XLO, TEMPFX, VENDPLUS',\n",
       "       ' DDT (Dust Gram), PT565+XLO, TEMPFX',\n",
       "       ' EXCITER, PHN (Liquid Ounce), PT565+XLO, TEMPFX', ' TALSTPL',\n",
       "       ' CID, CKCSCRC, EXCITER', ' ALPF&amp;B, TEMPRID', ' TEMPRID',\n",
       "       ' (C)STEFS, ALPF&amp;B, CID', ' (C)STEFS, BEDLAM, CID',\n",
       "       ' GBEDL (Seconds), PHANTOMII', ' (C)STEFS, BEDLAM',\n",
       "       ' (C)STEFS, (C)TRANM11, CID',\n",
       "       ' (C)MFSH, (C)STEFS, CID, PHN (Liquid Ounce), PR2625',\n",
       "       ' MFMRK, PHN (Liquid Ounce), PR2625, TEMPFX',\n",
       "       ' (C)STEFS, PR2625, TEMPFX',\n",
       "       ' ALPF&amp;B, EPA, PHN (Liquid Ounce)',\n",
       "       ' (C)STEFS, EXCITER, TEMPFX', ' (C)STEFS, ONSLFC',\n",
       "       ' (C)STEFS, ALPWSG', ' (C)CYK, PHN (Liquid Ounce)',\n",
       "       ' (C)STEFS, MFMRK, ONSLFC', ' FINALAWB, ONSLFC',\n",
       "       ' (C)STEFS, ALPF&amp;B', nan,\n",
       "       ' (C)STEFS, MICRC CS 3.0, PT565+XLO, TRANSGHP',\n",
       "       ' BEDLAM, TRANSGHP', ' CID, PHN (Liquid Ounce), TEKPRO',\n",
       "       ' PT565+XLO, TEKPRO, TMPSCU1', ' (C)MFSH',\n",
       "       ' ALPF&amp;B, PATROL, VENDPLUS',\n",
       "       ' CID, PHN (Liquid Ounce), VENDPLUS',\n",
       "       ' PHN (Liquid Ounce), TEKPRO', ' PHN (Liquid Ounce), TRANSGHP',\n",
       "       ' ALPF&amp;B, ALPWSG', ' ALPWSG, CID, PT565+XLO',\n",
       "       ' ALPF&amp;B, CID, PHN (Liquid Ounce)', ' FINALAWB',\n",
       "       ' DDT (Dust Gram), PHANTOMII', ' CID, TEMPRID', ' TEMPFX, TERMNY',\n",
       "       ' CONWLUM, ONSLFC', ' CONWLUM, TALPRO', ' PHANTOMII, TRANSGHP',\n",
       "       ' GDDUST', ' DDT (Dust Gram)', ' (C)ESSD', ' CONWLUM',\n",
       "       ' BEDLAM, CID, PHN (Liquid Ounce)', ' ONSLFC, PT565+XLO',\n",
       "       ' FINALAWB, TRANSGHP', ' (C)STEFS, PT565+XLO',\n",
       "       ' (C)STEFS, PHN (Liquid Ounce), PT565+XLO', ' PT565+XLO',\n",
       "       ' TRDIBULK', ' DDT (Dust Gram), TRANSGHP',\n",
       "       ' DDT (Dust Gram), TEMPFX',\n",
       "       ' DDT (Dust Gram), EXCITER, PHN (Liquid Ounce), TEMPRID',\n",
       "       ' DDT (Dust Gram), TEMPRID', ' ALP (Gram), TALPRO',\n",
       "       ' (C)MFSH, ADFCB, TEMPRID',\n",
       "       ' (C)GICOG, (C)MFSH, ADFCB, ONS.05 (Ounce)',\n",
       "       ' (C)MFSH, ADFCB, ONSLFC', ' FUSE, TEMPRID',\n",
       "       ' ONS.05 (Ounce), PHANTOMII, TEKPRO', ' FUSE, TEMPFX', ' MQAB',\n",
       "       ' ALPWSG, PATROL', ' TALPRO, TERMSC',\n",
       "       ' CB, GTEMP025, TALPRO, TEKPRO', ' CB, TEKPRO, TMPSCU1',\n",
       "       ' ALPWSG, PR2625, TEKPRO', ' ALPWSG, TALPRO, TEKPRO',\n",
       "       ' ALPWSG, CB', ' CB', ' CONWLUM, TEMPRID', ' CONWLUM, TALSTPL',\n",
       "       ' CONWLUM, PHN (Liquid Ounce)', ' CONWLUM, TEMPFX',\n",
       "       ' CB, PHN (Liquid Ounce)', ' CONWLUM, TERMSC',\n",
       "       ' (C)STEFS, ALPF&amp;B, CID, TEMPFX', ' ACGB (Gram), CID, TEMPFX',\n",
       "       ' (C)STEFS, ADFCB, CID, TEMPFX', ' ACBG, CID, TEMPFX',\n",
       "       ' (C)STEFS, DDT (Dust Gram), TRANSGHP', ' (C)STEFS, EXCITER',\n",
       "       ' ADFCB, TERMSC, TRANSGHP', ' CID, PHN (Liquid Ounce), TEMPFX',\n",
       "       ' (C)CYK, ADFCB, ALP (Gram), TEMPFX', ' ADFCB, TRANSGHP',\n",
       "       ' ADFCB, CID, TEMPRID', ' (C)TRANM11, PT565+XLO',\n",
       "       ' ADFCB, CID, EXCITER, TEMPFX, VENDPLUS',\n",
       "       ' (C)MFSH, (C)STEFS, ALPF&amp;B, CID, EXCITER, PT565+XLO, TEMPFX',\n",
       "       ' ADFCB, EXCITER, PT565+XLO, TEMPFX, VENDPLUS',\n",
       "       ' ADFCB, TRANSGHP, VENDPLUS', ' GTEMP025, MQAB',\n",
       "       ' CID, TEMPFX, VENDPLUS',\n",
       "       ' PHN (Liquid Ounce), PT565+XLO, VENDPLUS',\n",
       "       ' ADFCB, TALPRO, TEMPFX', ' GALPD, PHN (Liquid Ounce)',\n",
       "       ' ALPWSG, DDT (Dust Gram)',\n",
       "       ' ADFCB, CID, PHN (Liquid Ounce), TEMPFX, VENDPLUS',\n",
       "       ' ADFCB, TEMPFX, VEND', ' (C)TRANM11, CID, EXCITER',\n",
       "       ' (C)STEFS, (C)TRANM11, EXCITER',\n",
       "       ' (C)STEFS, EXCITER, PHN (Liquid Ounce)', ' (C)TRANM11, EXCITER',\n",
       "       ' (C)STEFS, CID, EXCITER, ONSLFC, TEKPRO',\n",
       "       ' ALPWSG, EXCITER, NYGU', ' ALPF&amp;B, FINALAWB', ' ONSL',\n",
       "       ' (C)CYK, (C)STEFS', ' (C)STEFS, ActAER, GA', ' TEKPRO, TEMPFX',\n",
       "       ' (C)GICOG, TRANSGHP', ' TMPU (Gallon)',\n",
       "       ' ACGB (Gram), CID, PHN (Liquid Ounce)', ' ALPF&amp;B, TMPSCU1',\n",
       "       ' EXCITER, ONSLFC, PIC ', ' MQAB, TALPRO', ' MQAB, TEMPFX',\n",
       "       ' ALPWSG, MQAB, TMPSCU1', ' MQAB, TMPSCU1',\n",
       "       ' ALPF&amp;B, TEMPFX, WASPFZII', ' ALPWSG, MQAB',\n",
       "       ' ADFCB, ALPWSG, GPS, TEKPRO, VEND',\n",
       "       ' ADFCB, CID, PHN (Liquid Ounce), TRANSGHP',\n",
       "       ' ADFCB, CID, ONSLFC, PHN (Liquid Ounce), TEKPRO',\n",
       "       ' TEKPRO, TRANSGHP', ' ADFCB, ALPWSG, TEKPRO',\n",
       "       ' EXCITER, MQAB, TEMPFX',\n",
       "       ' ADFCB, ALPWSG, CID, PHN (Liquid Ounce)',\n",
       "       ' ADFCB, ALPWSG, PHN (Liquid Ounce), TEKPRO, TRANSGHP',\n",
       "       ' ALPWSG, MQAB, TEKPRO', ' MQAB, PHN (Liquid Ounce)',\n",
       "       ' ADIG, TALPRO', ' ADIG, TEMPFX',\n",
       "       ' CID, ONSLFC, PHN (Liquid Ounce)', ' CID, ONSLFC',\n",
       "       ' ADFCB, ALPWSG, MFMRK', ' (C)STEFS, ALPWSG, EXCITER',\n",
       "       ' (C)STEFS, EXCITER, ONSLFC',\n",
       "       ' (C)STEFS, ALPF&amp;B, EXCITER, TEMPFX',\n",
       "       ' ALPF&amp;B, EXCITER, TEMPFX', ' ALPWSG, CID, NYGU, ONSLFC',\n",
       "       ' ALPWSG, EXCITER, NYGU, TEMPFX', ' EXCITER, PR2625',\n",
       "       ' ALPWSG, CID, NYGU, TEMPFX', ' ALPWSG, CID, EXCITER',\n",
       "       ' DDT (Dust Gram), PHANTOMII, TEMPRID',\n",
       "       ' FINALAWB, MGIB (Granular Ounce), ONSL, PHN (Liquid Ounce), TEKPRO',\n",
       "       ' FUSE, MGIB (Granular Ounce), ONSL',\n",
       "       ' PHN (Liquid Ounce), TALPRO', ' ONSL, TEKPRO', ' ONSL, TALPRO',\n",
       "       ' DDT (Dust Gram), PHANTOMII, TEKPRO, TEMPRID',\n",
       "       ' ALPF&amp;B, PHANTOMII, TEMPFX', ' FUSE, ONSL, TEKPRO',\n",
       "       ' TALPRO, TEMPFX',\n",
       "       ' MGIB (Granular Ounce), ONSL, PHN (Liquid Ounce)',\n",
       "       ' FUSE, MGIB (Granular Ounce)', ' ADFCB, FUSE, ONSL',\n",
       "       ' CID, ONSLFC, TALPRO',\n",
       "       ' (C)STEFS, DDT (Dust Gram), EXCITER, ONSL',\n",
       "       ' (C)STEFS, DDT (Dust Gram), EXCITER, PHN (Liquid Ounce)',\n",
       "       ' CID, EPA, TEMPFX', ' MFMRK, PHN (Liquid Ounce)',\n",
       "       ' CID, MFMRK, TEMPFX', ' ALPF&amp;B, CID, EXCITER, TALPRO, TEMPFX',\n",
       "       ' DDT (Dust Gram), EXCITER, TEMPFX', ' CID, NYGU, TEMPFX',\n",
       "       ' ALPWSG, CID', ' ALPWSG, PR2625', ' ALPWSG, NYGU',\n",
       "       ' ALPWSG, MFMRK', ' FINALAWB, MFMRK, ONSLFC', ' (C)STEFS, TANDM',\n",
       "       ' ALPF&amp;B, TALPRO', ' CID, TMPSCU1', ' BEDLAM',\n",
       "       ' ALPF&amp;B, BEDLAM', ' GBEDL (Seconds)', ' BEDLAM, CID',\n",
       "       ' BEDLAM, DDT (Dust Gram)', ' ALPF&amp;B, BEDLAM, CID',\n",
       "       ' (C)STEFS, ALPF&amp;B, BEDLAM', ' TALPRO, TRANSGHP',\n",
       "       ' CID, PHANTOMII, PHN (Liquid Ounce)',\n",
       "       ' (C)STEFS, DDT (Dust Gram), TEMPFX',\n",
       "       ' PHANTOMII, PHN (Liquid Ounce)',\n",
       "       ' CID, PHN (Liquid Ounce), TALPRO', ' CONWLUM, PATROL',\n",
       "       ' ALPWSG, VENDPLUS', ' ADFCB, ALPWSG, VENDPLUS', ' MAG, TEMPFX',\n",
       "       ' PHN (Liquid Ounce), TRANSGHP, TRDIBULK', ' ALPWSG, TALPRO',\n",
       "       ' CID, TALPRO, TRANSGHP', ' (C)STEFS, ALPWSG, DDT (Dust Gram)',\n",
       "       ' (C)STEFS, ALPF&amp;B, ALPWSG', ' FUSE', ' ALPWSG, TALSTPL',\n",
       "       ' FINALAWB, PT565+XLO', ' GDDUST, TANDM', ' EXP .25',\n",
       "       ' FUSE, PHN (Liquid Ounce)', ' PHANTOMII, TEKPRO, TEMPFX',\n",
       "       ' FUSE, ONSL', ' (C)STEFS, EPA',\n",
       "       ' (C)STEFS, ALPF&amp;B, DDT (Dust Gram), GBEDL (Seconds), PHANTOMII, TEMPFX',\n",
       "       ' (C)STEFS, ALPF&amp;B, BEDLAM, CID, TEMPFX',\n",
       "       ' ALPF&amp;B, BEDLAM, CID, TEMPFX',\n",
       "       ' (C)GICOG, ALPF&amp;B, BACTIN, BEDLAM, CID, TEMPFX',\n",
       "       ' ALPF&amp;B, CID, EXCITER, GBEDL (Seconds), PHANTOMII, TEMPFX',\n",
       "       ' (C)STEFS, ALPF&amp;B, CID, GBEDL (Seconds), PHANTOMII, TEMPFX',\n",
       "       ' ALPF&amp;B, BEDLAM, TEMPFX', ' BEDLAM, MFABG, TALSTPL, TEMPFX',\n",
       "       ' DSIFL, FINALAWB, TALSTPL', ' DSIFL, GTEMP025, TalXTRA',\n",
       "       ' BEDLAM, TEMPFX, TTRIOG', ' BEDLAM, OPTAG, PATROL, TEMPFX',\n",
       "       ' BEDLAM, EXCITER, PATROL, TEMPFX', ' TMPSCU1, TRANSGHP',\n",
       "       ' IFFL (Each)', ' (C)CYK, DDT (Dust Gram), PHN (Liquid Ounce)',\n",
       "       ' ALPD, DDT (Dust Gram)', ' ADFCB, TEKPRO, TEMPFX',\n",
       "       ' TALSTPL, TEMPFX', ' ADFCB, PHN (Liquid Ounce), TALPRO',\n",
       "       ' ADIG, PHN (Liquid Ounce), TEKPRO', ' TALSTPL, TEKPRO, TEMPFX',\n",
       "       ' (C)STEFS, BEDLAM, CID, PHN (Liquid Ounce), TEMPFX',\n",
       "       ' (C)STEFS, BEDLAM, CID, TEMPFX', ' (C)STEFS, TEMPFX, VENDPLUS',\n",
       "       ' (C)STEFS, EPA, ONSLFC, PR2625', ' CONWLUM, TALPRO, TRANSGHP',\n",
       "       ' CONWLUM, DDT (Dust Gram), TALPRO, TALSTPL, TRANSGHP',\n",
       "       ' ALPF&amp;B, DDT (Dust Gram), TRANSGHP', ' TEMPFX, TRDIBULK',\n",
       "       ' ALPF&amp;B, CID, TEMPFX', ' BACTIN, PHN (Liquid Ounce)',\n",
       "       ' PTFEN', ' ONSLFC, TALPRO', ' PATROL, PHN (Liquid Ounce)'],\n",
       "      dtype=object)"
      ]
     },
     "execution_count": 15,
     "metadata": {},
     "output_type": "execute_result"
    }
   ],
   "source": [
    "chemicals.unique()"
   ]
  },
  {
   "cell_type": "code",
   "execution_count": 16,
   "metadata": {},
   "outputs": [
    {
     "data": {
      "text/plain": [
       "array([nan, ' SCM', ' IM', ' TRAGL'], dtype=object)"
      ]
     },
     "execution_count": 16,
     "metadata": {},
     "output_type": "execute_result"
    }
   ],
   "source": [
    "# get unique values for product\n",
    "product.unique()"
   ]
  },
  {
   "cell_type": "code",
   "execution_count": 17,
   "metadata": {},
   "outputs": [
    {
     "data": {
      "text/plain": [
       "array([nan, ' ADVIONR', ' ADVIONANT', ' INTICEG', ' AGCAB (Ounce)',\n",
       "       ' INTIC (Granular)  ', ' MFIMPRCHGEL', ' OPTCGB', ' MAXFCBST',\n",
       "       ' INTICE10', ' ADVIONR, INTIC (Granular)  '], dtype=object)"
      ]
     },
     "execution_count": 17,
     "metadata": {},
     "output_type": "execute_result"
    }
   ],
   "source": [
    "# get unique values for bait\n",
    "bait.unique()"
   ]
  },
  {
   "cell_type": "code",
   "execution_count": 18,
   "metadata": {},
   "outputs": [
    {
     "data": {
      "text/plain": [
       "array([nan])"
      ]
     },
     "execution_count": 18,
     "metadata": {},
     "output_type": "execute_result"
    }
   ],
   "source": [
    "# get unique values for hardware\n",
    "hardware.unique()"
   ]
  },
  {
   "cell_type": "code",
   "execution_count": 19,
   "metadata": {},
   "outputs": [
    {
     "data": {
      "text/plain": [
       "array([nan, ' ORC', ' TREX', ' ENCT', ' GB180', ' GT180GB', ' BSENCQ',\n",
       "       ' BSENCF, ENCT', ' MTRA', ' GBMOU', ' MSRP', ' TCGB', ' REPCD',\n",
       "       ' GLREP', ' GBTR'], dtype=object)"
      ]
     },
     "execution_count": 19,
     "metadata": {},
     "output_type": "execute_result"
    }
   ],
   "source": [
    "# get unique values for equipment\n",
    "equipment.unique()"
   ]
  },
  {
   "cell_type": "code",
   "execution_count": 20,
   "metadata": {},
   "outputs": [
    {
     "data": {
      "text/plain": [
       "array([nan])"
      ]
     },
     "execution_count": 20,
     "metadata": {},
     "output_type": "execute_result"
    }
   ],
   "source": [
    "# get unique values for service\n",
    "service.unique()"
   ]
  },
  {
   "cell_type": "code",
   "execution_count": 21,
   "metadata": {},
   "outputs": [
    {
     "data": {
      "text/html": [
       "<div>\n",
       "<style scoped>\n",
       "    .dataframe tbody tr th:only-of-type {\n",
       "        vertical-align: middle;\n",
       "    }\n",
       "\n",
       "    .dataframe tbody tr th {\n",
       "        vertical-align: top;\n",
       "    }\n",
       "\n",
       "    .dataframe thead th {\n",
       "        text-align: right;\n",
       "    }\n",
       "</style>\n",
       "<table border=\"1\" class=\"dataframe\">\n",
       "  <thead>\n",
       "    <tr style=\"text-align: right;\">\n",
       "      <th></th>\n",
       "      <th>categoryname</th>\n",
       "      <th>categoryname.1</th>\n",
       "      <th>Branch</th>\n",
       "      <th>siteid</th>\n",
       "      <th>programid</th>\n",
       "      <th>programname</th>\n",
       "      <th>Program Type</th>\n",
       "      <th>eventid</th>\n",
       "      <th>WO#</th>\n",
       "      <th>eventname</th>\n",
       "      <th>Site Name</th>\n",
       "      <th>Site Address</th>\n",
       "      <th>ZIP</th>\n",
       "    </tr>\n",
       "  </thead>\n",
       "  <tbody>\n",
       "    <tr>\n",
       "      <th>0</th>\n",
       "      <td>85-Northeast Division</td>\n",
       "      <td>369-New England Region</td>\n",
       "      <td>969-BANGOR SALES/SVC CNTR, ME</td>\n",
       "      <td>9852078</td>\n",
       "      <td>9014094</td>\n",
       "      <td>Bed Bug Proact - Monthly</td>\n",
       "      <td>PC</td>\n",
       "      <td>23285075</td>\n",
       "      <td>172192860</td>\n",
       "      <td>PC 1st Service</td>\n",
       "      <td>AROOSTOOK MENTAL HEALTH CENTER</td>\n",
       "      <td>2 AIRPORT DR, PRESQUE ISLE ME</td>\n",
       "      <td>4769</td>\n",
       "    </tr>\n",
       "    <tr>\n",
       "      <th>1</th>\n",
       "      <td>85-Northeast Division</td>\n",
       "      <td>369-New England Region</td>\n",
       "      <td>969-BANGOR SALES/SVC CNTR, ME</td>\n",
       "      <td>9852078</td>\n",
       "      <td>9014094</td>\n",
       "      <td>Bed Bug Proact - Monthly</td>\n",
       "      <td>PC</td>\n",
       "      <td>23285076</td>\n",
       "      <td>172192862</td>\n",
       "      <td>PC Standard</td>\n",
       "      <td>AROOSTOOK MENTAL HEALTH CENTER</td>\n",
       "      <td>2 AIRPORT DR, PRESQUE ISLE ME</td>\n",
       "      <td>4769</td>\n",
       "    </tr>\n",
       "    <tr>\n",
       "      <th>2</th>\n",
       "      <td>85-Northeast Division</td>\n",
       "      <td>369-New England Region</td>\n",
       "      <td>969-BANGOR SALES/SVC CNTR, ME</td>\n",
       "      <td>9852078</td>\n",
       "      <td>9014094</td>\n",
       "      <td>Bed Bug Proact - Monthly</td>\n",
       "      <td>PC</td>\n",
       "      <td>23285076</td>\n",
       "      <td>172192863</td>\n",
       "      <td>PC Standard</td>\n",
       "      <td>AROOSTOOK MENTAL HEALTH CENTER</td>\n",
       "      <td>2 AIRPORT DR, PRESQUE ISLE ME</td>\n",
       "      <td>4769</td>\n",
       "    </tr>\n",
       "    <tr>\n",
       "      <th>3</th>\n",
       "      <td>85-Northeast Division</td>\n",
       "      <td>369-New England Region</td>\n",
       "      <td>969-BANGOR SALES/SVC CNTR, ME</td>\n",
       "      <td>9852078</td>\n",
       "      <td>9014094</td>\n",
       "      <td>Bed Bug Proact - Monthly</td>\n",
       "      <td>PC</td>\n",
       "      <td>23285076</td>\n",
       "      <td>172192864</td>\n",
       "      <td>PC Standard</td>\n",
       "      <td>AROOSTOOK MENTAL HEALTH CENTER</td>\n",
       "      <td>2 AIRPORT DR, PRESQUE ISLE ME</td>\n",
       "      <td>4769</td>\n",
       "    </tr>\n",
       "    <tr>\n",
       "      <th>4</th>\n",
       "      <td>85-Northeast Division</td>\n",
       "      <td>369-New England Region</td>\n",
       "      <td>969-BANGOR SALES/SVC CNTR, ME</td>\n",
       "      <td>9852078</td>\n",
       "      <td>9014094</td>\n",
       "      <td>Bed Bug Proact - Monthly</td>\n",
       "      <td>PC</td>\n",
       "      <td>23285076</td>\n",
       "      <td>172192865</td>\n",
       "      <td>PC Standard</td>\n",
       "      <td>AROOSTOOK MENTAL HEALTH CENTER</td>\n",
       "      <td>2 AIRPORT DR, PRESQUE ISLE ME</td>\n",
       "      <td>4769</td>\n",
       "    </tr>\n",
       "    <tr>\n",
       "      <th>...</th>\n",
       "      <td>...</td>\n",
       "      <td>...</td>\n",
       "      <td>...</td>\n",
       "      <td>...</td>\n",
       "      <td>...</td>\n",
       "      <td>...</td>\n",
       "      <td>...</td>\n",
       "      <td>...</td>\n",
       "      <td>...</td>\n",
       "      <td>...</td>\n",
       "      <td>...</td>\n",
       "      <td>...</td>\n",
       "      <td>...</td>\n",
       "    </tr>\n",
       "    <tr>\n",
       "      <th>2263</th>\n",
       "      <td>81-Southeast Division</td>\n",
       "      <td>149-N. Florida Region</td>\n",
       "      <td>232-PENSACOLA, FL</td>\n",
       "      <td>12093964</td>\n",
       "      <td>10642007</td>\n",
       "      <td>Bed Bug Proact - Monthly</td>\n",
       "      <td>PC</td>\n",
       "      <td>28937333</td>\n",
       "      <td>200063681</td>\n",
       "      <td>PC Standard</td>\n",
       "      <td>MONA LISA HOTEL</td>\n",
       "      <td>4950  MOBILE  HIGHWAY, PENSACOLA  FL</td>\n",
       "      <td>32505</td>\n",
       "    </tr>\n",
       "    <tr>\n",
       "      <th>2264</th>\n",
       "      <td>81-Southeast Division</td>\n",
       "      <td>149-N. Florida Region</td>\n",
       "      <td>232-PENSACOLA, FL</td>\n",
       "      <td>12093964</td>\n",
       "      <td>10642007</td>\n",
       "      <td>Bed Bug Proact - Monthly</td>\n",
       "      <td>PC</td>\n",
       "      <td>28937333</td>\n",
       "      <td>200063682</td>\n",
       "      <td>PC Standard</td>\n",
       "      <td>MONA LISA HOTEL</td>\n",
       "      <td>4950  MOBILE  HIGHWAY, PENSACOLA  FL</td>\n",
       "      <td>32505</td>\n",
       "    </tr>\n",
       "    <tr>\n",
       "      <th>2265</th>\n",
       "      <td>86-Pacific Division</td>\n",
       "      <td>829-Colorado Region</td>\n",
       "      <td>892-GRAND JUNCTION, CO</td>\n",
       "      <td>11898315</td>\n",
       "      <td>10726377</td>\n",
       "      <td>Bed Bug Proact - Semi-Annual</td>\n",
       "      <td>PC</td>\n",
       "      <td>29233835</td>\n",
       "      <td>201290561</td>\n",
       "      <td>PC 1st Service</td>\n",
       "      <td>BRETTELBERG CONDOS</td>\n",
       "      <td>1546 PO. BOX  , GLENWOOD SPRINGS CO</td>\n",
       "      <td>81602</td>\n",
       "    </tr>\n",
       "    <tr>\n",
       "      <th>2266</th>\n",
       "      <td>86-Pacific Division</td>\n",
       "      <td>829-Colorado Region</td>\n",
       "      <td>884-DURANGO, CO</td>\n",
       "      <td>12409315</td>\n",
       "      <td>10889860</td>\n",
       "      <td>Bed Bug Proact - Monthly</td>\n",
       "      <td>PC</td>\n",
       "      <td>29795370</td>\n",
       "      <td>203626475</td>\n",
       "      <td>PC 1st Service</td>\n",
       "      <td>.. ..</td>\n",
       "      <td>191 PAGOSA ST, PAGOSA SPRINGS CO</td>\n",
       "      <td>81147</td>\n",
       "    </tr>\n",
       "    <tr>\n",
       "      <th>2267</th>\n",
       "      <td>86-Pacific Division</td>\n",
       "      <td>829-Colorado Region</td>\n",
       "      <td>884-DURANGO, CO</td>\n",
       "      <td>12409315</td>\n",
       "      <td>10889860</td>\n",
       "      <td>Bed Bug Proact - Monthly</td>\n",
       "      <td>PC</td>\n",
       "      <td>29795371</td>\n",
       "      <td>203635127</td>\n",
       "      <td>PC Standard</td>\n",
       "      <td>.. ..</td>\n",
       "      <td>191 PAGOSA ST, PAGOSA SPRINGS CO</td>\n",
       "      <td>81147</td>\n",
       "    </tr>\n",
       "  </tbody>\n",
       "</table>\n",
       "<p>2268 rows × 13 columns</p>\n",
       "</div>"
      ],
      "text/plain": [
       "               categoryname          categoryname.1  \\\n",
       "0     85-Northeast Division  369-New England Region   \n",
       "1     85-Northeast Division  369-New England Region   \n",
       "2     85-Northeast Division  369-New England Region   \n",
       "3     85-Northeast Division  369-New England Region   \n",
       "4     85-Northeast Division  369-New England Region   \n",
       "...                     ...                     ...   \n",
       "2263  81-Southeast Division   149-N. Florida Region   \n",
       "2264  81-Southeast Division   149-N. Florida Region   \n",
       "2265    86-Pacific Division     829-Colorado Region   \n",
       "2266    86-Pacific Division     829-Colorado Region   \n",
       "2267    86-Pacific Division     829-Colorado Region   \n",
       "\n",
       "                              Branch    siteid  programid  \\\n",
       "0     969-BANGOR SALES/SVC CNTR, ME    9852078    9014094   \n",
       "1     969-BANGOR SALES/SVC CNTR, ME    9852078    9014094   \n",
       "2     969-BANGOR SALES/SVC CNTR, ME    9852078    9014094   \n",
       "3     969-BANGOR SALES/SVC CNTR, ME    9852078    9014094   \n",
       "4     969-BANGOR SALES/SVC CNTR, ME    9852078    9014094   \n",
       "...                              ...       ...        ...   \n",
       "2263               232-PENSACOLA, FL  12093964   10642007   \n",
       "2264               232-PENSACOLA, FL  12093964   10642007   \n",
       "2265    892-GRAND JUNCTION, CO        11898315   10726377   \n",
       "2266       884-DURANGO, CO            12409315   10889860   \n",
       "2267       884-DURANGO, CO            12409315   10889860   \n",
       "\n",
       "                       programname Program Type   eventid        WO#  \\\n",
       "0         Bed Bug Proact - Monthly           PC  23285075  172192860   \n",
       "1         Bed Bug Proact - Monthly           PC  23285076  172192862   \n",
       "2         Bed Bug Proact - Monthly           PC  23285076  172192863   \n",
       "3         Bed Bug Proact - Monthly           PC  23285076  172192864   \n",
       "4         Bed Bug Proact - Monthly           PC  23285076  172192865   \n",
       "...                            ...          ...       ...        ...   \n",
       "2263      Bed Bug Proact - Monthly           PC  28937333  200063681   \n",
       "2264      Bed Bug Proact - Monthly           PC  28937333  200063682   \n",
       "2265  Bed Bug Proact - Semi-Annual           PC  29233835  201290561   \n",
       "2266      Bed Bug Proact - Monthly           PC  29795370  203626475   \n",
       "2267      Bed Bug Proact - Monthly           PC  29795371  203635127   \n",
       "\n",
       "           eventname                       Site Name  \\\n",
       "0     PC 1st Service  AROOSTOOK MENTAL HEALTH CENTER   \n",
       "1        PC Standard  AROOSTOOK MENTAL HEALTH CENTER   \n",
       "2        PC Standard  AROOSTOOK MENTAL HEALTH CENTER   \n",
       "3        PC Standard  AROOSTOOK MENTAL HEALTH CENTER   \n",
       "4        PC Standard  AROOSTOOK MENTAL HEALTH CENTER   \n",
       "...              ...                             ...   \n",
       "2263     PC Standard                MONA LISA HOTEL    \n",
       "2264     PC Standard                MONA LISA HOTEL    \n",
       "2265  PC 1st Service              BRETTELBERG CONDOS   \n",
       "2266  PC 1st Service                           .. ..   \n",
       "2267     PC Standard                           .. ..   \n",
       "\n",
       "                              Site Address    ZIP  \n",
       "0            2 AIRPORT DR, PRESQUE ISLE ME   4769  \n",
       "1            2 AIRPORT DR, PRESQUE ISLE ME   4769  \n",
       "2            2 AIRPORT DR, PRESQUE ISLE ME   4769  \n",
       "3            2 AIRPORT DR, PRESQUE ISLE ME   4769  \n",
       "4            2 AIRPORT DR, PRESQUE ISLE ME   4769  \n",
       "...                                    ...    ...  \n",
       "2263  4950  MOBILE  HIGHWAY, PENSACOLA  FL  32505  \n",
       "2264  4950  MOBILE  HIGHWAY, PENSACOLA  FL  32505  \n",
       "2265   1546 PO. BOX  , GLENWOOD SPRINGS CO  81602  \n",
       "2266      191 PAGOSA ST, PAGOSA SPRINGS CO  81147  \n",
       "2267      191 PAGOSA ST, PAGOSA SPRINGS CO  81147  \n",
       "\n",
       "[2268 rows x 13 columns]"
      ]
     },
     "execution_count": 21,
     "metadata": {},
     "output_type": "execute_result"
    }
   ],
   "source": [
    "x"
   ]
  },
  {
   "cell_type": "code",
   "execution_count": 22,
   "metadata": {},
   "outputs": [
    {
     "name": "stdout",
     "output_type": "stream",
     "text": [
      "<class 'pandas.core.frame.DataFrame'>\n",
      "RangeIndex: 2268 entries, 0 to 2267\n",
      "Data columns (total 41 columns):\n",
      " #   Column                             Non-Null Count  Dtype         \n",
      "---  ------                             --------------  -----         \n",
      " 0   categoryname                       2268 non-null   object        \n",
      " 1   categoryname.1                     2268 non-null   object        \n",
      " 2   Branch                             2268 non-null   object        \n",
      " 3   accountid                          2268 non-null   int64         \n",
      " 4   siteid                             2268 non-null   int64         \n",
      " 5   programid                          2268 non-null   int64         \n",
      " 6   programname                        2268 non-null   object        \n",
      " 7   saledate                           2268 non-null   datetime64[ns]\n",
      " 8   Sale_Value                         2268 non-null   float64       \n",
      " 9   Annual_Value                       2268 non-null   float64       \n",
      " 10  Cancel_date                        2268 non-null   object        \n",
      " 11  Program_Sales_Person               2268 non-null   object        \n",
      " 12  Program Type                       2268 non-null   object        \n",
      " 13  eventid                            2268 non-null   int64         \n",
      " 14  WO#                                2268 non-null   int64         \n",
      " 15  eventname                          2268 non-null   object        \n",
      " 16  completeddate                      2268 non-null   datetime64[ns]\n",
      " 17  completedamount                    2268 non-null   float64       \n",
      " 18  Chemical_Materials_Applied_Count   2245 non-null   float64       \n",
      " 19  Product_Materials_Applied_Count    5 non-null      float64       \n",
      " 20  Bait_Materials_Applied_Count       50 non-null     float64       \n",
      " 21  Hardware_Materials_Applied_Count   0 non-null      float64       \n",
      " 22  Equipment_Materials_Applied_Count  91 non-null     float64       \n",
      " 23  Service_Materials_Applied_Count    0 non-null      float64       \n",
      " 24  Chemical_Materials_Applied         2245 non-null   object        \n",
      " 25  Product_Materials_Applied          5 non-null      object        \n",
      " 26  Bait_Materials_Applied             50 non-null     object        \n",
      " 27  Hardware_Materials_Applied         0 non-null      float64       \n",
      " 28  Equipment_Materials_Applied        91 non-null     object        \n",
      " 29  service_Materials_Applied          0 non-null      float64       \n",
      " 30  Material_Total_price               2268 non-null   int64         \n",
      " 31  materials_invoiced                 0 non-null      float64       \n",
      " 32  services_invoiced                  1530 non-null   float64       \n",
      " 33  Total_Invoiced_By_Program          2268 non-null   float64       \n",
      " 34                                     2268 non-null   object        \n",
      " 35  Site Name                          2268 non-null   object        \n",
      " 36  Site Address                       2268 non-null   object        \n",
      " 37  ZIP                                2268 non-null   int64         \n",
      " 38  Billing Name                       2268 non-null   object        \n",
      " 39  Billing Address                    2268 non-null   object        \n",
      " 40  Billing ZIP                        2268 non-null   int64         \n",
      "dtypes: datetime64[ns](2), float64(14), int64(8), object(17)\n",
      "memory usage: 575.9+ KB\n"
     ]
    }
   ],
   "source": [
    "df.info()"
   ]
  },
  {
   "cell_type": "code",
   "execution_count": 23,
   "metadata": {},
   "outputs": [
    {
     "name": "stdout",
     "output_type": "stream",
     "text": [
      "<class 'pandas.core.frame.DataFrame'>\n",
      "RangeIndex: 2268 entries, 0 to 2267\n",
      "Data columns (total 13 columns):\n",
      " #   Column          Non-Null Count  Dtype \n",
      "---  ------          --------------  ----- \n",
      " 0   categoryname    2268 non-null   object\n",
      " 1   categoryname.1  2268 non-null   object\n",
      " 2   Branch          2268 non-null   object\n",
      " 3   siteid          2268 non-null   int64 \n",
      " 4   programid       2268 non-null   int64 \n",
      " 5   programname     2268 non-null   object\n",
      " 6   Program Type    2268 non-null   object\n",
      " 7   eventid         2268 non-null   int64 \n",
      " 8   WO#             2268 non-null   int64 \n",
      " 9   eventname       2268 non-null   object\n",
      " 10  Site Name       2268 non-null   object\n",
      " 11  Site Address    2268 non-null   object\n",
      " 12  ZIP             2268 non-null   int64 \n",
      "dtypes: int64(5), object(8)\n",
      "memory usage: 159.5+ KB\n"
     ]
    }
   ],
   "source": [
    "x.info()"
   ]
  },
  {
   "cell_type": "code",
   "execution_count": 24,
   "metadata": {},
   "outputs": [
    {
     "data": {
      "text/html": [
       "<div>\n",
       "<style scoped>\n",
       "    .dataframe tbody tr th:only-of-type {\n",
       "        vertical-align: middle;\n",
       "    }\n",
       "\n",
       "    .dataframe tbody tr th {\n",
       "        vertical-align: top;\n",
       "    }\n",
       "\n",
       "    .dataframe thead th {\n",
       "        text-align: right;\n",
       "    }\n",
       "</style>\n",
       "<table border=\"1\" class=\"dataframe\">\n",
       "  <thead>\n",
       "    <tr style=\"text-align: right;\">\n",
       "      <th></th>\n",
       "      <th>categoryname</th>\n",
       "      <th>categoryname.1</th>\n",
       "      <th>Branch</th>\n",
       "    </tr>\n",
       "  </thead>\n",
       "  <tbody>\n",
       "    <tr>\n",
       "      <th>0</th>\n",
       "      <td>85-Northeast Division</td>\n",
       "      <td>369-New England Region</td>\n",
       "      <td>969-BANGOR SALES/SVC CNTR, ME</td>\n",
       "    </tr>\n",
       "    <tr>\n",
       "      <th>1</th>\n",
       "      <td>85-Northeast Division</td>\n",
       "      <td>369-New England Region</td>\n",
       "      <td>969-BANGOR SALES/SVC CNTR, ME</td>\n",
       "    </tr>\n",
       "    <tr>\n",
       "      <th>2</th>\n",
       "      <td>85-Northeast Division</td>\n",
       "      <td>369-New England Region</td>\n",
       "      <td>969-BANGOR SALES/SVC CNTR, ME</td>\n",
       "    </tr>\n",
       "    <tr>\n",
       "      <th>3</th>\n",
       "      <td>85-Northeast Division</td>\n",
       "      <td>369-New England Region</td>\n",
       "      <td>969-BANGOR SALES/SVC CNTR, ME</td>\n",
       "    </tr>\n",
       "    <tr>\n",
       "      <th>4</th>\n",
       "      <td>85-Northeast Division</td>\n",
       "      <td>369-New England Region</td>\n",
       "      <td>969-BANGOR SALES/SVC CNTR, ME</td>\n",
       "    </tr>\n",
       "    <tr>\n",
       "      <th>...</th>\n",
       "      <td>...</td>\n",
       "      <td>...</td>\n",
       "      <td>...</td>\n",
       "    </tr>\n",
       "    <tr>\n",
       "      <th>2263</th>\n",
       "      <td>81-Southeast Division</td>\n",
       "      <td>149-N. Florida Region</td>\n",
       "      <td>232-PENSACOLA, FL</td>\n",
       "    </tr>\n",
       "    <tr>\n",
       "      <th>2264</th>\n",
       "      <td>81-Southeast Division</td>\n",
       "      <td>149-N. Florida Region</td>\n",
       "      <td>232-PENSACOLA, FL</td>\n",
       "    </tr>\n",
       "    <tr>\n",
       "      <th>2265</th>\n",
       "      <td>86-Pacific Division</td>\n",
       "      <td>829-Colorado Region</td>\n",
       "      <td>892-GRAND JUNCTION, CO</td>\n",
       "    </tr>\n",
       "    <tr>\n",
       "      <th>2266</th>\n",
       "      <td>86-Pacific Division</td>\n",
       "      <td>829-Colorado Region</td>\n",
       "      <td>884-DURANGO, CO</td>\n",
       "    </tr>\n",
       "    <tr>\n",
       "      <th>2267</th>\n",
       "      <td>86-Pacific Division</td>\n",
       "      <td>829-Colorado Region</td>\n",
       "      <td>884-DURANGO, CO</td>\n",
       "    </tr>\n",
       "  </tbody>\n",
       "</table>\n",
       "<p>2268 rows × 3 columns</p>\n",
       "</div>"
      ],
      "text/plain": [
       "               categoryname          categoryname.1  \\\n",
       "0     85-Northeast Division  369-New England Region   \n",
       "1     85-Northeast Division  369-New England Region   \n",
       "2     85-Northeast Division  369-New England Region   \n",
       "3     85-Northeast Division  369-New England Region   \n",
       "4     85-Northeast Division  369-New England Region   \n",
       "...                     ...                     ...   \n",
       "2263  81-Southeast Division   149-N. Florida Region   \n",
       "2264  81-Southeast Division   149-N. Florida Region   \n",
       "2265    86-Pacific Division     829-Colorado Region   \n",
       "2266    86-Pacific Division     829-Colorado Region   \n",
       "2267    86-Pacific Division     829-Colorado Region   \n",
       "\n",
       "                              Branch  \n",
       "0     969-BANGOR SALES/SVC CNTR, ME   \n",
       "1     969-BANGOR SALES/SVC CNTR, ME   \n",
       "2     969-BANGOR SALES/SVC CNTR, ME   \n",
       "3     969-BANGOR SALES/SVC CNTR, ME   \n",
       "4     969-BANGOR SALES/SVC CNTR, ME   \n",
       "...                              ...  \n",
       "2263               232-PENSACOLA, FL  \n",
       "2264               232-PENSACOLA, FL  \n",
       "2265    892-GRAND JUNCTION, CO        \n",
       "2266       884-DURANGO, CO            \n",
       "2267       884-DURANGO, CO            \n",
       "\n",
       "[2268 rows x 3 columns]"
      ]
     },
     "execution_count": 24,
     "metadata": {},
     "output_type": "execute_result"
    }
   ],
   "source": [
    "x.iloc[:,0:3]"
   ]
  },
  {
   "cell_type": "code",
   "execution_count": 25,
   "metadata": {},
   "outputs": [
    {
     "data": {
      "text/plain": [
       "2268"
      ]
     },
     "execution_count": 25,
     "metadata": {},
     "output_type": "execute_result"
    }
   ],
   "source": [
    "len(df['siteid'])"
   ]
  },
  {
   "cell_type": "code",
   "execution_count": 26,
   "metadata": {},
   "outputs": [
    {
     "data": {
      "text/html": [
       "<div>\n",
       "<style scoped>\n",
       "    .dataframe tbody tr th:only-of-type {\n",
       "        vertical-align: middle;\n",
       "    }\n",
       "\n",
       "    .dataframe tbody tr th {\n",
       "        vertical-align: top;\n",
       "    }\n",
       "\n",
       "    .dataframe thead th {\n",
       "        text-align: right;\n",
       "    }\n",
       "</style>\n",
       "<table border=\"1\" class=\"dataframe\">\n",
       "  <thead>\n",
       "    <tr style=\"text-align: right;\">\n",
       "      <th></th>\n",
       "      <th>categoryname</th>\n",
       "      <th>categoryname.1</th>\n",
       "      <th>Branch</th>\n",
       "      <th>programname</th>\n",
       "      <th>Program Type</th>\n",
       "      <th>eventname</th>\n",
       "      <th>Site Name</th>\n",
       "      <th>Site Address</th>\n",
       "    </tr>\n",
       "  </thead>\n",
       "  <tbody>\n",
       "    <tr>\n",
       "      <th>0</th>\n",
       "      <td>85-Northeast Division</td>\n",
       "      <td>369-New England Region</td>\n",
       "      <td>969-BANGOR SALES/SVC CNTR, ME</td>\n",
       "      <td>Bed Bug Proact - Monthly</td>\n",
       "      <td>PC</td>\n",
       "      <td>PC 1st Service</td>\n",
       "      <td>AROOSTOOK MENTAL HEALTH CENTER</td>\n",
       "      <td>2 AIRPORT DR, PRESQUE ISLE ME</td>\n",
       "    </tr>\n",
       "    <tr>\n",
       "      <th>1</th>\n",
       "      <td>85-Northeast Division</td>\n",
       "      <td>369-New England Region</td>\n",
       "      <td>969-BANGOR SALES/SVC CNTR, ME</td>\n",
       "      <td>Bed Bug Proact - Monthly</td>\n",
       "      <td>PC</td>\n",
       "      <td>PC Standard</td>\n",
       "      <td>AROOSTOOK MENTAL HEALTH CENTER</td>\n",
       "      <td>2 AIRPORT DR, PRESQUE ISLE ME</td>\n",
       "    </tr>\n",
       "    <tr>\n",
       "      <th>2</th>\n",
       "      <td>85-Northeast Division</td>\n",
       "      <td>369-New England Region</td>\n",
       "      <td>969-BANGOR SALES/SVC CNTR, ME</td>\n",
       "      <td>Bed Bug Proact - Monthly</td>\n",
       "      <td>PC</td>\n",
       "      <td>PC Standard</td>\n",
       "      <td>AROOSTOOK MENTAL HEALTH CENTER</td>\n",
       "      <td>2 AIRPORT DR, PRESQUE ISLE ME</td>\n",
       "    </tr>\n",
       "    <tr>\n",
       "      <th>3</th>\n",
       "      <td>85-Northeast Division</td>\n",
       "      <td>369-New England Region</td>\n",
       "      <td>969-BANGOR SALES/SVC CNTR, ME</td>\n",
       "      <td>Bed Bug Proact - Monthly</td>\n",
       "      <td>PC</td>\n",
       "      <td>PC Standard</td>\n",
       "      <td>AROOSTOOK MENTAL HEALTH CENTER</td>\n",
       "      <td>2 AIRPORT DR, PRESQUE ISLE ME</td>\n",
       "    </tr>\n",
       "    <tr>\n",
       "      <th>4</th>\n",
       "      <td>85-Northeast Division</td>\n",
       "      <td>369-New England Region</td>\n",
       "      <td>969-BANGOR SALES/SVC CNTR, ME</td>\n",
       "      <td>Bed Bug Proact - Monthly</td>\n",
       "      <td>PC</td>\n",
       "      <td>PC Standard</td>\n",
       "      <td>AROOSTOOK MENTAL HEALTH CENTER</td>\n",
       "      <td>2 AIRPORT DR, PRESQUE ISLE ME</td>\n",
       "    </tr>\n",
       "    <tr>\n",
       "      <th>...</th>\n",
       "      <td>...</td>\n",
       "      <td>...</td>\n",
       "      <td>...</td>\n",
       "      <td>...</td>\n",
       "      <td>...</td>\n",
       "      <td>...</td>\n",
       "      <td>...</td>\n",
       "      <td>...</td>\n",
       "    </tr>\n",
       "    <tr>\n",
       "      <th>2263</th>\n",
       "      <td>81-Southeast Division</td>\n",
       "      <td>149-N. Florida Region</td>\n",
       "      <td>232-PENSACOLA, FL</td>\n",
       "      <td>Bed Bug Proact - Monthly</td>\n",
       "      <td>PC</td>\n",
       "      <td>PC Standard</td>\n",
       "      <td>MONA LISA HOTEL</td>\n",
       "      <td>4950  MOBILE  HIGHWAY, PENSACOLA  FL</td>\n",
       "    </tr>\n",
       "    <tr>\n",
       "      <th>2264</th>\n",
       "      <td>81-Southeast Division</td>\n",
       "      <td>149-N. Florida Region</td>\n",
       "      <td>232-PENSACOLA, FL</td>\n",
       "      <td>Bed Bug Proact - Monthly</td>\n",
       "      <td>PC</td>\n",
       "      <td>PC Standard</td>\n",
       "      <td>MONA LISA HOTEL</td>\n",
       "      <td>4950  MOBILE  HIGHWAY, PENSACOLA  FL</td>\n",
       "    </tr>\n",
       "    <tr>\n",
       "      <th>2265</th>\n",
       "      <td>86-Pacific Division</td>\n",
       "      <td>829-Colorado Region</td>\n",
       "      <td>892-GRAND JUNCTION, CO</td>\n",
       "      <td>Bed Bug Proact - Semi-Annual</td>\n",
       "      <td>PC</td>\n",
       "      <td>PC 1st Service</td>\n",
       "      <td>BRETTELBERG CONDOS</td>\n",
       "      <td>1546 PO. BOX  , GLENWOOD SPRINGS CO</td>\n",
       "    </tr>\n",
       "    <tr>\n",
       "      <th>2266</th>\n",
       "      <td>86-Pacific Division</td>\n",
       "      <td>829-Colorado Region</td>\n",
       "      <td>884-DURANGO, CO</td>\n",
       "      <td>Bed Bug Proact - Monthly</td>\n",
       "      <td>PC</td>\n",
       "      <td>PC 1st Service</td>\n",
       "      <td>.. ..</td>\n",
       "      <td>191 PAGOSA ST, PAGOSA SPRINGS CO</td>\n",
       "    </tr>\n",
       "    <tr>\n",
       "      <th>2267</th>\n",
       "      <td>86-Pacific Division</td>\n",
       "      <td>829-Colorado Region</td>\n",
       "      <td>884-DURANGO, CO</td>\n",
       "      <td>Bed Bug Proact - Monthly</td>\n",
       "      <td>PC</td>\n",
       "      <td>PC Standard</td>\n",
       "      <td>.. ..</td>\n",
       "      <td>191 PAGOSA ST, PAGOSA SPRINGS CO</td>\n",
       "    </tr>\n",
       "  </tbody>\n",
       "</table>\n",
       "<p>2268 rows × 8 columns</p>\n",
       "</div>"
      ],
      "text/plain": [
       "               categoryname          categoryname.1  \\\n",
       "0     85-Northeast Division  369-New England Region   \n",
       "1     85-Northeast Division  369-New England Region   \n",
       "2     85-Northeast Division  369-New England Region   \n",
       "3     85-Northeast Division  369-New England Region   \n",
       "4     85-Northeast Division  369-New England Region   \n",
       "...                     ...                     ...   \n",
       "2263  81-Southeast Division   149-N. Florida Region   \n",
       "2264  81-Southeast Division   149-N. Florida Region   \n",
       "2265    86-Pacific Division     829-Colorado Region   \n",
       "2266    86-Pacific Division     829-Colorado Region   \n",
       "2267    86-Pacific Division     829-Colorado Region   \n",
       "\n",
       "                              Branch                   programname  \\\n",
       "0     969-BANGOR SALES/SVC CNTR, ME       Bed Bug Proact - Monthly   \n",
       "1     969-BANGOR SALES/SVC CNTR, ME       Bed Bug Proact - Monthly   \n",
       "2     969-BANGOR SALES/SVC CNTR, ME       Bed Bug Proact - Monthly   \n",
       "3     969-BANGOR SALES/SVC CNTR, ME       Bed Bug Proact - Monthly   \n",
       "4     969-BANGOR SALES/SVC CNTR, ME       Bed Bug Proact - Monthly   \n",
       "...                              ...                           ...   \n",
       "2263               232-PENSACOLA, FL      Bed Bug Proact - Monthly   \n",
       "2264               232-PENSACOLA, FL      Bed Bug Proact - Monthly   \n",
       "2265    892-GRAND JUNCTION, CO        Bed Bug Proact - Semi-Annual   \n",
       "2266       884-DURANGO, CO                Bed Bug Proact - Monthly   \n",
       "2267       884-DURANGO, CO                Bed Bug Proact - Monthly   \n",
       "\n",
       "     Program Type       eventname                       Site Name  \\\n",
       "0              PC  PC 1st Service  AROOSTOOK MENTAL HEALTH CENTER   \n",
       "1              PC     PC Standard  AROOSTOOK MENTAL HEALTH CENTER   \n",
       "2              PC     PC Standard  AROOSTOOK MENTAL HEALTH CENTER   \n",
       "3              PC     PC Standard  AROOSTOOK MENTAL HEALTH CENTER   \n",
       "4              PC     PC Standard  AROOSTOOK MENTAL HEALTH CENTER   \n",
       "...           ...             ...                             ...   \n",
       "2263           PC     PC Standard                MONA LISA HOTEL    \n",
       "2264           PC     PC Standard                MONA LISA HOTEL    \n",
       "2265           PC  PC 1st Service              BRETTELBERG CONDOS   \n",
       "2266           PC  PC 1st Service                           .. ..   \n",
       "2267           PC     PC Standard                           .. ..   \n",
       "\n",
       "                              Site Address  \n",
       "0            2 AIRPORT DR, PRESQUE ISLE ME  \n",
       "1            2 AIRPORT DR, PRESQUE ISLE ME  \n",
       "2            2 AIRPORT DR, PRESQUE ISLE ME  \n",
       "3            2 AIRPORT DR, PRESQUE ISLE ME  \n",
       "4            2 AIRPORT DR, PRESQUE ISLE ME  \n",
       "...                                    ...  \n",
       "2263  4950  MOBILE  HIGHWAY, PENSACOLA  FL  \n",
       "2264  4950  MOBILE  HIGHWAY, PENSACOLA  FL  \n",
       "2265   1546 PO. BOX  , GLENWOOD SPRINGS CO  \n",
       "2266      191 PAGOSA ST, PAGOSA SPRINGS CO  \n",
       "2267      191 PAGOSA ST, PAGOSA SPRINGS CO  \n",
       "\n",
       "[2268 rows x 8 columns]"
      ]
     },
     "execution_count": 26,
     "metadata": {},
     "output_type": "execute_result"
    }
   ],
   "source": [
    "# extract the columns needed preprocess into dataframes\n",
    "d = pd.concat([x.iloc[:,0:3],x.iloc[:,5:7], x.iloc[:,9:12]],axis=1)\n",
    "d"
   ]
  },
  {
   "cell_type": "code",
   "execution_count": 27,
   "metadata": {},
   "outputs": [],
   "source": [
    "# define the function which can preprocess the columns with label encoder\n",
    "le=preprocessing.LabelEncoder()\n",
    "def transform(x,col):\n",
    "    x[col]=le.fit_transform(list(x[col]))\n",
    "    return (x[col])\n",
    "    # len(encoded)\n",
    "#     x['categoryname']=le.fit_transform(list(x['categoryname']))\n",
    "#     x['categoryname']"
   ]
  },
  {
   "cell_type": "code",
   "execution_count": 28,
   "metadata": {},
   "outputs": [
    {
     "name": "stdout",
     "output_type": "stream",
     "text": [
      "0       85-Northeast Division\n",
      "1       85-Northeast Division\n",
      "2       85-Northeast Division\n",
      "3       85-Northeast Division\n",
      "4       85-Northeast Division\n",
      "                ...          \n",
      "2263    81-Southeast Division\n",
      "2264    81-Southeast Division\n",
      "2265      86-Pacific Division\n",
      "2266      86-Pacific Division\n",
      "2267      86-Pacific Division\n",
      "Name: categoryname, Length: 2268, dtype: object\n",
      "0       369-New England Region\n",
      "1       369-New England Region\n",
      "2       369-New England Region\n",
      "3       369-New England Region\n",
      "4       369-New England Region\n",
      "                 ...          \n",
      "2263     149-N. Florida Region\n",
      "2264     149-N. Florida Region\n",
      "2265       829-Colorado Region\n",
      "2266       829-Colorado Region\n",
      "2267       829-Colorado Region\n",
      "Name: categoryname.1, Length: 2268, dtype: object\n",
      "0       969-BANGOR SALES/SVC CNTR, ME \n",
      "1       969-BANGOR SALES/SVC CNTR, ME \n",
      "2       969-BANGOR SALES/SVC CNTR, ME \n",
      "3       969-BANGOR SALES/SVC CNTR, ME \n",
      "4       969-BANGOR SALES/SVC CNTR, ME \n",
      "                     ...              \n",
      "2263                 232-PENSACOLA, FL\n",
      "2264                 232-PENSACOLA, FL\n",
      "2265      892-GRAND JUNCTION, CO      \n",
      "2266         884-DURANGO, CO          \n",
      "2267         884-DURANGO, CO          \n",
      "Name: Branch, Length: 2268, dtype: object\n",
      "0           Bed Bug Proact - Monthly\n",
      "1           Bed Bug Proact - Monthly\n",
      "2           Bed Bug Proact - Monthly\n",
      "3           Bed Bug Proact - Monthly\n",
      "4           Bed Bug Proact - Monthly\n",
      "                    ...             \n",
      "2263        Bed Bug Proact - Monthly\n",
      "2264        Bed Bug Proact - Monthly\n",
      "2265    Bed Bug Proact - Semi-Annual\n",
      "2266        Bed Bug Proact - Monthly\n",
      "2267        Bed Bug Proact - Monthly\n",
      "Name: programname, Length: 2268, dtype: object\n",
      "0       PC\n",
      "1       PC\n",
      "2       PC\n",
      "3       PC\n",
      "4       PC\n",
      "        ..\n",
      "2263    PC\n",
      "2264    PC\n",
      "2265    PC\n",
      "2266    PC\n",
      "2267    PC\n",
      "Name: Program Type, Length: 2268, dtype: object\n",
      "0       PC 1st Service\n",
      "1          PC Standard\n",
      "2          PC Standard\n",
      "3          PC Standard\n",
      "4          PC Standard\n",
      "             ...      \n",
      "2263       PC Standard\n",
      "2264       PC Standard\n",
      "2265    PC 1st Service\n",
      "2266    PC 1st Service\n",
      "2267       PC Standard\n",
      "Name: eventname, Length: 2268, dtype: object\n",
      "0       AROOSTOOK MENTAL HEALTH CENTER\n",
      "1       AROOSTOOK MENTAL HEALTH CENTER\n",
      "2       AROOSTOOK MENTAL HEALTH CENTER\n",
      "3       AROOSTOOK MENTAL HEALTH CENTER\n",
      "4       AROOSTOOK MENTAL HEALTH CENTER\n",
      "                     ...              \n",
      "2263                  MONA LISA HOTEL \n",
      "2264                  MONA LISA HOTEL \n",
      "2265                BRETTELBERG CONDOS\n",
      "2266                             .. ..\n",
      "2267                             .. ..\n",
      "Name: Site Name, Length: 2268, dtype: object\n",
      "0              2 AIRPORT DR, PRESQUE ISLE ME\n",
      "1              2 AIRPORT DR, PRESQUE ISLE ME\n",
      "2              2 AIRPORT DR, PRESQUE ISLE ME\n",
      "3              2 AIRPORT DR, PRESQUE ISLE ME\n",
      "4              2 AIRPORT DR, PRESQUE ISLE ME\n",
      "                        ...                 \n",
      "2263    4950  MOBILE  HIGHWAY, PENSACOLA  FL\n",
      "2264    4950  MOBILE  HIGHWAY, PENSACOLA  FL\n",
      "2265     1546 PO. BOX  , GLENWOOD SPRINGS CO\n",
      "2266        191 PAGOSA ST, PAGOSA SPRINGS CO\n",
      "2267        191 PAGOSA ST, PAGOSA SPRINGS CO\n",
      "Name: Site Address, Length: 2268, dtype: object\n"
     ]
    }
   ],
   "source": [
    "# transform each column needed\n",
    "for col in d.columns:\n",
    "#     cols.append(le.fit_transform(list(col)))\n",
    "#     d[col]=le.fit_transform(list(col))\n",
    "#     result = map(le.fit_transform(list(col)),df)\n",
    "    print(d[col])\n",
    "#     transform(d,col)\n",
    "    d[col]=transform(d,col)\n"
   ]
  },
  {
   "cell_type": "code",
   "execution_count": 29,
   "metadata": {},
   "outputs": [
    {
     "data": {
      "text/html": [
       "<div>\n",
       "<style scoped>\n",
       "    .dataframe tbody tr th:only-of-type {\n",
       "        vertical-align: middle;\n",
       "    }\n",
       "\n",
       "    .dataframe tbody tr th {\n",
       "        vertical-align: top;\n",
       "    }\n",
       "\n",
       "    .dataframe thead th {\n",
       "        text-align: right;\n",
       "    }\n",
       "</style>\n",
       "<table border=\"1\" class=\"dataframe\">\n",
       "  <thead>\n",
       "    <tr style=\"text-align: right;\">\n",
       "      <th></th>\n",
       "      <th>categoryname</th>\n",
       "      <th>categoryname.1</th>\n",
       "      <th>Branch</th>\n",
       "      <th>programname</th>\n",
       "      <th>Program Type</th>\n",
       "      <th>eventname</th>\n",
       "      <th>Site Name</th>\n",
       "      <th>Site Address</th>\n",
       "    </tr>\n",
       "  </thead>\n",
       "  <tbody>\n",
       "    <tr>\n",
       "      <th>0</th>\n",
       "      <td>3</td>\n",
       "      <td>4</td>\n",
       "      <td>33</td>\n",
       "      <td>0</td>\n",
       "      <td>0</td>\n",
       "      <td>2</td>\n",
       "      <td>8</td>\n",
       "      <td>25</td>\n",
       "    </tr>\n",
       "    <tr>\n",
       "      <th>1</th>\n",
       "      <td>3</td>\n",
       "      <td>4</td>\n",
       "      <td>33</td>\n",
       "      <td>0</td>\n",
       "      <td>0</td>\n",
       "      <td>3</td>\n",
       "      <td>8</td>\n",
       "      <td>25</td>\n",
       "    </tr>\n",
       "    <tr>\n",
       "      <th>2</th>\n",
       "      <td>3</td>\n",
       "      <td>4</td>\n",
       "      <td>33</td>\n",
       "      <td>0</td>\n",
       "      <td>0</td>\n",
       "      <td>3</td>\n",
       "      <td>8</td>\n",
       "      <td>25</td>\n",
       "    </tr>\n",
       "    <tr>\n",
       "      <th>3</th>\n",
       "      <td>3</td>\n",
       "      <td>4</td>\n",
       "      <td>33</td>\n",
       "      <td>0</td>\n",
       "      <td>0</td>\n",
       "      <td>3</td>\n",
       "      <td>8</td>\n",
       "      <td>25</td>\n",
       "    </tr>\n",
       "    <tr>\n",
       "      <th>4</th>\n",
       "      <td>3</td>\n",
       "      <td>4</td>\n",
       "      <td>33</td>\n",
       "      <td>0</td>\n",
       "      <td>0</td>\n",
       "      <td>3</td>\n",
       "      <td>8</td>\n",
       "      <td>25</td>\n",
       "    </tr>\n",
       "    <tr>\n",
       "      <th>...</th>\n",
       "      <td>...</td>\n",
       "      <td>...</td>\n",
       "      <td>...</td>\n",
       "      <td>...</td>\n",
       "      <td>...</td>\n",
       "      <td>...</td>\n",
       "      <td>...</td>\n",
       "      <td>...</td>\n",
       "    </tr>\n",
       "    <tr>\n",
       "      <th>2263</th>\n",
       "      <td>0</td>\n",
       "      <td>0</td>\n",
       "      <td>5</td>\n",
       "      <td>0</td>\n",
       "      <td>0</td>\n",
       "      <td>3</td>\n",
       "      <td>61</td>\n",
       "      <td>72</td>\n",
       "    </tr>\n",
       "    <tr>\n",
       "      <th>2264</th>\n",
       "      <td>0</td>\n",
       "      <td>0</td>\n",
       "      <td>5</td>\n",
       "      <td>0</td>\n",
       "      <td>0</td>\n",
       "      <td>3</td>\n",
       "      <td>61</td>\n",
       "      <td>72</td>\n",
       "    </tr>\n",
       "    <tr>\n",
       "      <th>2265</th>\n",
       "      <td>4</td>\n",
       "      <td>15</td>\n",
       "      <td>31</td>\n",
       "      <td>1</td>\n",
       "      <td>0</td>\n",
       "      <td>2</td>\n",
       "      <td>17</td>\n",
       "      <td>20</td>\n",
       "    </tr>\n",
       "    <tr>\n",
       "      <th>2266</th>\n",
       "      <td>4</td>\n",
       "      <td>15</td>\n",
       "      <td>30</td>\n",
       "      <td>0</td>\n",
       "      <td>0</td>\n",
       "      <td>2</td>\n",
       "      <td>1</td>\n",
       "      <td>24</td>\n",
       "    </tr>\n",
       "    <tr>\n",
       "      <th>2267</th>\n",
       "      <td>4</td>\n",
       "      <td>15</td>\n",
       "      <td>30</td>\n",
       "      <td>0</td>\n",
       "      <td>0</td>\n",
       "      <td>3</td>\n",
       "      <td>1</td>\n",
       "      <td>24</td>\n",
       "    </tr>\n",
       "  </tbody>\n",
       "</table>\n",
       "<p>2268 rows × 8 columns</p>\n",
       "</div>"
      ],
      "text/plain": [
       "      categoryname  categoryname.1  Branch  programname  Program Type  \\\n",
       "0                3               4      33            0             0   \n",
       "1                3               4      33            0             0   \n",
       "2                3               4      33            0             0   \n",
       "3                3               4      33            0             0   \n",
       "4                3               4      33            0             0   \n",
       "...            ...             ...     ...          ...           ...   \n",
       "2263             0               0       5            0             0   \n",
       "2264             0               0       5            0             0   \n",
       "2265             4              15      31            1             0   \n",
       "2266             4              15      30            0             0   \n",
       "2267             4              15      30            0             0   \n",
       "\n",
       "      eventname  Site Name  Site Address  \n",
       "0             2          8            25  \n",
       "1             3          8            25  \n",
       "2             3          8            25  \n",
       "3             3          8            25  \n",
       "4             3          8            25  \n",
       "...         ...        ...           ...  \n",
       "2263          3         61            72  \n",
       "2264          3         61            72  \n",
       "2265          2         17            20  \n",
       "2266          2          1            24  \n",
       "2267          3          1            24  \n",
       "\n",
       "[2268 rows x 8 columns]"
      ]
     },
     "execution_count": 29,
     "metadata": {},
     "output_type": "execute_result"
    }
   ],
   "source": [
    "#check the transformed data\n",
    "d"
   ]
  },
  {
   "cell_type": "code",
   "execution_count": 30,
   "metadata": {},
   "outputs": [
    {
     "data": {
      "text/html": [
       "<div>\n",
       "<style scoped>\n",
       "    .dataframe tbody tr th:only-of-type {\n",
       "        vertical-align: middle;\n",
       "    }\n",
       "\n",
       "    .dataframe tbody tr th {\n",
       "        vertical-align: top;\n",
       "    }\n",
       "\n",
       "    .dataframe thead th {\n",
       "        text-align: right;\n",
       "    }\n",
       "</style>\n",
       "<table border=\"1\" class=\"dataframe\">\n",
       "  <thead>\n",
       "    <tr style=\"text-align: right;\">\n",
       "      <th></th>\n",
       "      <th>siteid</th>\n",
       "      <th>programid</th>\n",
       "      <th>eventid</th>\n",
       "      <th>WO#</th>\n",
       "      <th>ZIP</th>\n",
       "      <th>categoryname</th>\n",
       "      <th>categoryname.1</th>\n",
       "      <th>Branch</th>\n",
       "      <th>programname</th>\n",
       "      <th>Program Type</th>\n",
       "      <th>eventname</th>\n",
       "      <th>Site Name</th>\n",
       "      <th>Site Address</th>\n",
       "    </tr>\n",
       "  </thead>\n",
       "  <tbody>\n",
       "    <tr>\n",
       "      <th>0</th>\n",
       "      <td>9852078</td>\n",
       "      <td>9014094</td>\n",
       "      <td>23285075</td>\n",
       "      <td>172192860</td>\n",
       "      <td>4769</td>\n",
       "      <td>3</td>\n",
       "      <td>4</td>\n",
       "      <td>33</td>\n",
       "      <td>0</td>\n",
       "      <td>0</td>\n",
       "      <td>2</td>\n",
       "      <td>8</td>\n",
       "      <td>25</td>\n",
       "    </tr>\n",
       "    <tr>\n",
       "      <th>1</th>\n",
       "      <td>9852078</td>\n",
       "      <td>9014094</td>\n",
       "      <td>23285076</td>\n",
       "      <td>172192862</td>\n",
       "      <td>4769</td>\n",
       "      <td>3</td>\n",
       "      <td>4</td>\n",
       "      <td>33</td>\n",
       "      <td>0</td>\n",
       "      <td>0</td>\n",
       "      <td>3</td>\n",
       "      <td>8</td>\n",
       "      <td>25</td>\n",
       "    </tr>\n",
       "    <tr>\n",
       "      <th>2</th>\n",
       "      <td>9852078</td>\n",
       "      <td>9014094</td>\n",
       "      <td>23285076</td>\n",
       "      <td>172192863</td>\n",
       "      <td>4769</td>\n",
       "      <td>3</td>\n",
       "      <td>4</td>\n",
       "      <td>33</td>\n",
       "      <td>0</td>\n",
       "      <td>0</td>\n",
       "      <td>3</td>\n",
       "      <td>8</td>\n",
       "      <td>25</td>\n",
       "    </tr>\n",
       "    <tr>\n",
       "      <th>3</th>\n",
       "      <td>9852078</td>\n",
       "      <td>9014094</td>\n",
       "      <td>23285076</td>\n",
       "      <td>172192864</td>\n",
       "      <td>4769</td>\n",
       "      <td>3</td>\n",
       "      <td>4</td>\n",
       "      <td>33</td>\n",
       "      <td>0</td>\n",
       "      <td>0</td>\n",
       "      <td>3</td>\n",
       "      <td>8</td>\n",
       "      <td>25</td>\n",
       "    </tr>\n",
       "    <tr>\n",
       "      <th>4</th>\n",
       "      <td>9852078</td>\n",
       "      <td>9014094</td>\n",
       "      <td>23285076</td>\n",
       "      <td>172192865</td>\n",
       "      <td>4769</td>\n",
       "      <td>3</td>\n",
       "      <td>4</td>\n",
       "      <td>33</td>\n",
       "      <td>0</td>\n",
       "      <td>0</td>\n",
       "      <td>3</td>\n",
       "      <td>8</td>\n",
       "      <td>25</td>\n",
       "    </tr>\n",
       "    <tr>\n",
       "      <th>...</th>\n",
       "      <td>...</td>\n",
       "      <td>...</td>\n",
       "      <td>...</td>\n",
       "      <td>...</td>\n",
       "      <td>...</td>\n",
       "      <td>...</td>\n",
       "      <td>...</td>\n",
       "      <td>...</td>\n",
       "      <td>...</td>\n",
       "      <td>...</td>\n",
       "      <td>...</td>\n",
       "      <td>...</td>\n",
       "      <td>...</td>\n",
       "    </tr>\n",
       "    <tr>\n",
       "      <th>2263</th>\n",
       "      <td>12093964</td>\n",
       "      <td>10642007</td>\n",
       "      <td>28937333</td>\n",
       "      <td>200063681</td>\n",
       "      <td>32505</td>\n",
       "      <td>0</td>\n",
       "      <td>0</td>\n",
       "      <td>5</td>\n",
       "      <td>0</td>\n",
       "      <td>0</td>\n",
       "      <td>3</td>\n",
       "      <td>61</td>\n",
       "      <td>72</td>\n",
       "    </tr>\n",
       "    <tr>\n",
       "      <th>2264</th>\n",
       "      <td>12093964</td>\n",
       "      <td>10642007</td>\n",
       "      <td>28937333</td>\n",
       "      <td>200063682</td>\n",
       "      <td>32505</td>\n",
       "      <td>0</td>\n",
       "      <td>0</td>\n",
       "      <td>5</td>\n",
       "      <td>0</td>\n",
       "      <td>0</td>\n",
       "      <td>3</td>\n",
       "      <td>61</td>\n",
       "      <td>72</td>\n",
       "    </tr>\n",
       "    <tr>\n",
       "      <th>2265</th>\n",
       "      <td>11898315</td>\n",
       "      <td>10726377</td>\n",
       "      <td>29233835</td>\n",
       "      <td>201290561</td>\n",
       "      <td>81602</td>\n",
       "      <td>4</td>\n",
       "      <td>15</td>\n",
       "      <td>31</td>\n",
       "      <td>1</td>\n",
       "      <td>0</td>\n",
       "      <td>2</td>\n",
       "      <td>17</td>\n",
       "      <td>20</td>\n",
       "    </tr>\n",
       "    <tr>\n",
       "      <th>2266</th>\n",
       "      <td>12409315</td>\n",
       "      <td>10889860</td>\n",
       "      <td>29795370</td>\n",
       "      <td>203626475</td>\n",
       "      <td>81147</td>\n",
       "      <td>4</td>\n",
       "      <td>15</td>\n",
       "      <td>30</td>\n",
       "      <td>0</td>\n",
       "      <td>0</td>\n",
       "      <td>2</td>\n",
       "      <td>1</td>\n",
       "      <td>24</td>\n",
       "    </tr>\n",
       "    <tr>\n",
       "      <th>2267</th>\n",
       "      <td>12409315</td>\n",
       "      <td>10889860</td>\n",
       "      <td>29795371</td>\n",
       "      <td>203635127</td>\n",
       "      <td>81147</td>\n",
       "      <td>4</td>\n",
       "      <td>15</td>\n",
       "      <td>30</td>\n",
       "      <td>0</td>\n",
       "      <td>0</td>\n",
       "      <td>3</td>\n",
       "      <td>1</td>\n",
       "      <td>24</td>\n",
       "    </tr>\n",
       "  </tbody>\n",
       "</table>\n",
       "<p>2268 rows × 13 columns</p>\n",
       "</div>"
      ],
      "text/plain": [
       "        siteid  programid   eventid        WO#    ZIP  categoryname  \\\n",
       "0      9852078    9014094  23285075  172192860   4769             3   \n",
       "1      9852078    9014094  23285076  172192862   4769             3   \n",
       "2      9852078    9014094  23285076  172192863   4769             3   \n",
       "3      9852078    9014094  23285076  172192864   4769             3   \n",
       "4      9852078    9014094  23285076  172192865   4769             3   \n",
       "...        ...        ...       ...        ...    ...           ...   \n",
       "2263  12093964   10642007  28937333  200063681  32505             0   \n",
       "2264  12093964   10642007  28937333  200063682  32505             0   \n",
       "2265  11898315   10726377  29233835  201290561  81602             4   \n",
       "2266  12409315   10889860  29795370  203626475  81147             4   \n",
       "2267  12409315   10889860  29795371  203635127  81147             4   \n",
       "\n",
       "      categoryname.1  Branch  programname  Program Type  eventname  Site Name  \\\n",
       "0                  4      33            0             0          2          8   \n",
       "1                  4      33            0             0          3          8   \n",
       "2                  4      33            0             0          3          8   \n",
       "3                  4      33            0             0          3          8   \n",
       "4                  4      33            0             0          3          8   \n",
       "...              ...     ...          ...           ...        ...        ...   \n",
       "2263               0       5            0             0          3         61   \n",
       "2264               0       5            0             0          3         61   \n",
       "2265              15      31            1             0          2         17   \n",
       "2266              15      30            0             0          2          1   \n",
       "2267              15      30            0             0          3          1   \n",
       "\n",
       "      Site Address  \n",
       "0               25  \n",
       "1               25  \n",
       "2               25  \n",
       "3               25  \n",
       "4               25  \n",
       "...            ...  \n",
       "2263            72  \n",
       "2264            72  \n",
       "2265            20  \n",
       "2266            24  \n",
       "2267            24  \n",
       "\n",
       "[2268 rows x 13 columns]"
      ]
     },
     "execution_count": 30,
     "metadata": {},
     "output_type": "execute_result"
    }
   ],
   "source": [
    "# assemble with the columns with int type into training data\n",
    "data=pd.concat([x.iloc[:,3:5],x.iloc[:,7:9],x.ZIP,d],axis=1)\n",
    "data.shape\n",
    "data.columns\n",
    "data\n",
    "# d = pd.concat([x.iloc[:,0:3],x.iloc[:,5:7], x.iloc[:,9:12]],axis=1)\n",
    "# d"
   ]
  },
  {
   "cell_type": "code",
   "execution_count": 31,
   "metadata": {},
   "outputs": [
    {
     "data": {
      "text/plain": [
       "0       NaN\n",
       "1       NaN\n",
       "2       NaN\n",
       "3       NaN\n",
       "4       NaN\n",
       "       ... \n",
       "2263    NaN\n",
       "2264    NaN\n",
       "2265    NaN\n",
       "2266    NaN\n",
       "2267    NaN\n",
       "Name: Product_Materials_Applied, Length: 2268, dtype: object"
      ]
     },
     "execution_count": 31,
     "metadata": {},
     "output_type": "execute_result"
    }
   ],
   "source": [
    "df['Product_Materials_Applied']"
   ]
  },
  {
   "cell_type": "code",
   "execution_count": 32,
   "metadata": {},
   "outputs": [],
   "source": [
    "product = transform(df,'Product_Materials_Applied')"
   ]
  },
  {
   "cell_type": "code",
   "execution_count": 33,
   "metadata": {},
   "outputs": [
    {
     "data": {
      "text/plain": [
       "(2268,)"
      ]
     },
     "execution_count": 33,
     "metadata": {},
     "output_type": "execute_result"
    }
   ],
   "source": [
    "product.shape\n"
   ]
  },
  {
   "cell_type": "code",
   "execution_count": 34,
   "metadata": {},
   "outputs": [
    {
     "data": {
      "text/plain": [
       "0    3\n",
       "1    3\n",
       "2    3\n",
       "3    3\n",
       "4    3\n",
       "Name: Product_Materials_Applied, dtype: int32"
      ]
     },
     "execution_count": 34,
     "metadata": {},
     "output_type": "execute_result"
    }
   ],
   "source": [
    "#check whether the predict columns have null values.\n",
    "product.head()"
   ]
  },
  {
   "cell_type": "code",
   "execution_count": 71,
   "metadata": {},
   "outputs": [
    {
     "data": {
      "text/plain": [
       "<matplotlib.axes._subplots.AxesSubplot at 0x1547268>"
      ]
     },
     "execution_count": 71,
     "metadata": {},
     "output_type": "execute_result"
    },
    {
     "data": {
      "image/png": "[encoded data removed]",
      "text/plain": [
       "<Figure size 432x288 with 1 Axes>"
      ]
     },
     "metadata": {
      "needs_background": "light"
     },
     "output_type": "display_data"
    }
   ],
   "source": [
    "product.hist()"
   ]
  },
  {
   "cell_type": "code",
   "execution_count": 35,
   "metadata": {},
   "outputs": [
    {
     "data": {
      "text/plain": [
       "0"
      ]
     },
     "execution_count": 35,
     "metadata": {},
     "output_type": "execute_result"
    }
   ],
   "source": [
    "#confirm there is no null values\n",
    "product.isna().sum()\n"
   ]
  },
  {
   "cell_type": "code",
   "execution_count": 36,
   "metadata": {},
   "outputs": [],
   "source": [
    "# split the data for product columns\n",
    "x1_train,x1_test,y1_train,y1_test = train_test_split(data,product,test_size=0.2)"
   ]
  },
  {
   "cell_type": "code",
   "execution_count": 37,
   "metadata": {},
   "outputs": [
    {
     "data": {
      "text/plain": [
       "0"
      ]
     },
     "execution_count": 37,
     "metadata": {},
     "output_type": "execute_result"
    }
   ],
   "source": [
    "#check whether the predict columns have null values.\n",
    "y1_train.isna().sum()"
   ]
  },
  {
   "cell_type": "code",
   "execution_count": 38,
   "metadata": {},
   "outputs": [
    {
     "data": {
      "text/plain": [
       "(1814, 13)"
      ]
     },
     "execution_count": 38,
     "metadata": {},
     "output_type": "execute_result"
    }
   ],
   "source": [
    "x1_train.shape"
   ]
  },
  {
   "cell_type": "code",
   "execution_count": 39,
   "metadata": {},
   "outputs": [],
   "source": [
    "knn=KNeighborsClassifier(n_neighbors=3)"
   ]
  },
  {
   "cell_type": "code",
   "execution_count": 40,
   "metadata": {},
   "outputs": [
    {
     "data": {
      "text/plain": [
       "Index(['siteid', 'programid', 'eventid', 'WO#', 'ZIP', 'categoryname',\n",
       "       'categoryname.1', 'Branch', 'programname', 'Program Type', 'eventname',\n",
       "       'Site Name', 'Site Address'],\n",
       "      dtype='object')"
      ]
     },
     "execution_count": 40,
     "metadata": {},
     "output_type": "execute_result"
    }
   ],
   "source": [
    "x1_train.columns"
   ]
  },
  {
   "cell_type": "code",
   "execution_count": 41,
   "metadata": {},
   "outputs": [],
   "source": [
    "model = LogisticRegression(solver='liblinear')"
   ]
  },
  {
   "cell_type": "code",
   "execution_count": 42,
   "metadata": {},
   "outputs": [
    {
     "data": {
      "text/plain": [
       "KNeighborsClassifier(n_neighbors=3)"
      ]
     },
     "execution_count": 42,
     "metadata": {},
     "output_type": "execute_result"
    }
   ],
   "source": [
    "knn.fit(x1_train,y1_train)"
   ]
  },
  {
   "cell_type": "code",
   "execution_count": 43,
   "metadata": {},
   "outputs": [
    {
     "data": {
      "text/plain": [
       "0.9988974641675854"
      ]
     },
     "execution_count": 43,
     "metadata": {},
     "output_type": "execute_result"
    }
   ],
   "source": [
    "knn.score(x1_train,y1_train)"
   ]
  },
  {
   "cell_type": "code",
   "execution_count": 44,
   "metadata": {},
   "outputs": [
    {
     "data": {
      "text/plain": [
       "0.9933920704845814"
      ]
     },
     "execution_count": 44,
     "metadata": {},
     "output_type": "execute_result"
    }
   ],
   "source": [
    "knn.score(x1_test,y1_test)"
   ]
  },
  {
   "cell_type": "code",
   "execution_count": 45,
   "metadata": {},
   "outputs": [
    {
     "data": {
      "text/plain": [
       "array([3, 3, 3, 3, 3, 3, 3, 3, 3, 3, 3, 3, 3, 3, 3, 3, 3, 3, 3, 3, 3, 3,\n",
       "       3, 3, 3, 3, 3, 3, 3, 3, 3, 3, 3, 3, 3, 3, 3, 3, 3, 3, 3, 3, 3, 3,\n",
       "       3, 3, 3, 3, 3, 3, 3, 3, 3, 3, 3, 3, 3, 3, 3, 3, 3, 3, 3, 3, 3, 3,\n",
       "       3, 3, 3, 3, 3, 3, 3, 3, 3, 3, 3, 3, 3, 3, 3, 3, 3, 3, 3, 3, 3, 3,\n",
       "       3, 3, 3, 3, 3, 3, 3, 3, 3, 3, 3, 3, 3, 3, 3, 3, 3, 3, 3, 3, 3, 3,\n",
       "       3, 3, 3, 3, 3, 3, 3, 3, 3, 3, 3, 3, 3, 3, 3, 3, 3, 3, 3, 3, 3, 3,\n",
       "       3, 3, 3, 3, 3, 3, 3, 3, 3, 3, 3, 3, 3, 3, 3, 3, 3, 3, 3, 3, 3, 3,\n",
       "       3, 3, 3, 3, 3, 3, 3, 3, 3, 3, 3, 3, 3, 3, 3, 3, 3, 3, 3, 3, 3, 3,\n",
       "       3, 3, 3, 3, 3, 3, 3, 3, 3, 3, 3, 3, 3, 3, 3, 3, 3, 3, 3, 3, 3, 3,\n",
       "       3, 3, 3, 3, 3, 3, 3, 3, 3, 3, 3, 3, 3, 3, 3, 3, 3, 3, 3, 3, 3, 3,\n",
       "       3, 3, 3, 3, 3, 3, 3, 3, 3, 3, 3, 3, 3, 3, 3, 3, 3, 3, 3, 3, 3, 3,\n",
       "       3, 3, 3, 3, 3, 3, 3, 3, 3, 3, 3, 3, 3, 3, 3, 3, 3, 3, 3, 3, 3, 3,\n",
       "       3, 3, 3, 3, 3, 3, 3, 3, 3, 3, 3, 3, 3, 3, 3, 3, 3, 3, 3, 3, 3, 3,\n",
       "       3, 3, 3, 3, 3, 3, 3, 3, 3, 3, 3, 3, 3, 3, 3, 3, 3, 3, 3, 3, 3, 3,\n",
       "       3, 3, 3, 3, 3, 3, 3, 3, 3, 3, 3, 3, 3, 3, 3, 3, 3, 3, 3, 3, 3, 3,\n",
       "       3, 3, 3, 3, 3, 3, 3, 3, 3, 3, 3, 3, 3, 3, 3, 3, 3, 3, 3, 3, 3, 3,\n",
       "       3, 3, 3, 3, 3, 3, 3, 3, 3, 3, 3, 3, 3, 3, 3, 3, 3, 3, 3, 3, 3, 3,\n",
       "       3, 3, 3, 3, 3, 3, 3, 3, 3, 3, 3, 3, 3, 3, 3, 3, 3, 3, 3, 3, 3, 3,\n",
       "       3, 3, 3, 3, 3, 3, 3, 3, 3, 3, 3, 3, 3, 3, 3, 3, 3, 3, 3, 3, 3, 3,\n",
       "       3, 3, 3, 3, 3, 3, 3, 3, 3, 3, 3, 3, 3, 3, 3, 3, 3, 3, 3, 3, 3, 3,\n",
       "       3, 3, 3, 3, 3, 3, 3, 3, 3, 3, 3, 3, 3, 3], dtype=int32)"
      ]
     },
     "execution_count": 45,
     "metadata": {},
     "output_type": "execute_result"
    }
   ],
   "source": [
    "knn.predict(x1_test)"
   ]
  },
  {
   "cell_type": "code",
   "execution_count": 46,
   "metadata": {},
   "outputs": [
    {
     "data": {
      "text/plain": [
       "LogisticRegression(solver='liblinear')"
      ]
     },
     "execution_count": 46,
     "metadata": {},
     "output_type": "execute_result"
    }
   ],
   "source": [
    "model.fit(x1_train,y1_train)"
   ]
  },
  {
   "cell_type": "code",
   "execution_count": 47,
   "metadata": {},
   "outputs": [
    {
     "data": {
      "text/plain": [
       "0.9988974641675854"
      ]
     },
     "execution_count": 47,
     "metadata": {},
     "output_type": "execute_result"
    }
   ],
   "source": [
    "model.score(x1_train,y1_train)"
   ]
  },
  {
   "cell_type": "code",
   "execution_count": 48,
   "metadata": {},
   "outputs": [
    {
     "data": {
      "text/plain": [
       "0.9933920704845814"
      ]
     },
     "execution_count": 48,
     "metadata": {},
     "output_type": "execute_result"
    }
   ],
   "source": [
    "model.score(x1_test,y1_test)"
   ]
  },
  {
   "cell_type": "markdown",
   "metadata": {},
   "source": [
    "we can see that the score using two different algorithmns is pretty similar."
   ]
  },
  {
   "cell_type": "code",
   "execution_count": 49,
   "metadata": {},
   "outputs": [],
   "source": [
    "bait = transform(df,'Bait_Materials_Applied')"
   ]
  },
  {
   "cell_type": "code",
   "execution_count": 50,
   "metadata": {},
   "outputs": [
    {
     "data": {
      "text/plain": [
       "<matplotlib.axes._subplots.AxesSubplot at 0x1d1396e8>"
      ]
     },
     "execution_count": 50,
     "metadata": {},
     "output_type": "execute_result"
    },
    {
     "data": {
      "image/png": "[encoded data removed]",
      "text/plain": [
       "<Figure size 432x288 with 1 Axes>"
      ]
     },
     "metadata": {
      "needs_background": "light"
     },
     "output_type": "display_data"
    }
   ],
   "source": [
    "bait.hist()"
   ]
  },
  {
   "cell_type": "code",
   "execution_count": 51,
   "metadata": {},
   "outputs": [],
   "source": [
    "# split the data for bait columns\n",
    "x2_train,x2_test,y2_train,y2_test = train_test_split(data,bait,test_size=0.2)"
   ]
  },
  {
   "cell_type": "code",
   "execution_count": 52,
   "metadata": {},
   "outputs": [
    {
     "data": {
      "text/plain": [
       "KNeighborsClassifier(n_neighbors=3)"
      ]
     },
     "execution_count": 52,
     "metadata": {},
     "output_type": "execute_result"
    }
   ],
   "source": [
    "knn.fit(x2_train,y2_train)"
   ]
  },
  {
   "cell_type": "code",
   "execution_count": 53,
   "metadata": {},
   "outputs": [
    {
     "data": {
      "text/plain": [
       "0.9812568908489526"
      ]
     },
     "execution_count": 53,
     "metadata": {},
     "output_type": "execute_result"
    }
   ],
   "source": [
    "knn.score(x2_train,y2_train)"
   ]
  },
  {
   "cell_type": "code",
   "execution_count": 54,
   "metadata": {},
   "outputs": [
    {
     "data": {
      "text/plain": [
       "0.9801762114537445"
      ]
     },
     "execution_count": 54,
     "metadata": {},
     "output_type": "execute_result"
    }
   ],
   "source": [
    "knn.score(x2_test,y2_test)"
   ]
  },
  {
   "cell_type": "code",
   "execution_count": 55,
   "metadata": {},
   "outputs": [
    {
     "data": {
      "text/plain": [
       "LogisticRegression(solver='liblinear')"
      ]
     },
     "execution_count": 55,
     "metadata": {},
     "output_type": "execute_result"
    }
   ],
   "source": [
    "model.fit(x2_train,y2_train)"
   ]
  },
  {
   "cell_type": "code",
   "execution_count": 56,
   "metadata": {},
   "outputs": [
    {
     "data": {
      "text/plain": [
       "0.9757709251101322"
      ]
     },
     "execution_count": 56,
     "metadata": {},
     "output_type": "execute_result"
    }
   ],
   "source": [
    "model.score(x2_test,y2_test)"
   ]
  },
  {
   "cell_type": "code",
   "execution_count": 57,
   "metadata": {},
   "outputs": [
    {
     "data": {
      "text/plain": [
       "0.9785005512679162"
      ]
     },
     "execution_count": 57,
     "metadata": {},
     "output_type": "execute_result"
    }
   ],
   "source": [
    "model.score(x2_train,y2_train)"
   ]
  },
  {
   "cell_type": "code",
   "execution_count": 60,
   "metadata": {},
   "outputs": [
    {
     "data": {
      "text/plain": [
       "2268"
      ]
     },
     "execution_count": 60,
     "metadata": {},
     "output_type": "execute_result"
    }
   ],
   "source": [
    "df['Hardware_Materials_Applied'].isna().sum()"
   ]
  },
  {
   "cell_type": "code",
   "execution_count": 61,
   "metadata": {},
   "outputs": [
    {
     "data": {
      "text/plain": [
       "2268"
      ]
     },
     "execution_count": 61,
     "metadata": {},
     "output_type": "execute_result"
    }
   ],
   "source": [
    "df['service_Materials_Applied'].isna().sum()"
   ]
  },
  {
   "cell_type": "code",
   "execution_count": 62,
   "metadata": {},
   "outputs": [
    {
     "data": {
      "text/plain": [
       "2177"
      ]
     },
     "execution_count": 62,
     "metadata": {},
     "output_type": "execute_result"
    }
   ],
   "source": [
    "df['Equipment_Materials_Applied'].isna().sum()"
   ]
  },
  {
   "cell_type": "code",
   "execution_count": 64,
   "metadata": {},
   "outputs": [],
   "source": [
    "equipment = transform(df,'Equipment_Materials_Applied')"
   ]
  },
  {
   "cell_type": "code",
   "execution_count": 65,
   "metadata": {},
   "outputs": [
    {
     "data": {
      "text/plain": [
       "<matplotlib.axes._subplots.AxesSubplot at 0x1d3b1a90>"
      ]
     },
     "execution_count": 65,
     "metadata": {},
     "output_type": "execute_result"
    },
    {
     "data": {
      "image/png": "[encoded data removed]",
      "text/plain": [
       "<Figure size 432x288 with 1 Axes>"
      ]
     },
     "metadata": {
      "needs_background": "light"
     },
     "output_type": "display_data"
    }
   ],
   "source": [
    "equipment.hist()"
   ]
  },
  {
   "cell_type": "code",
   "execution_count": 66,
   "metadata": {},
   "outputs": [],
   "source": [
    "# split the data for bait columns\n",
    "x3_train,x3_test,y3_train,y3_test = train_test_split(data,equipment,test_size=0.2)"
   ]
  },
  {
   "cell_type": "code",
   "execution_count": 67,
   "metadata": {},
   "outputs": [
    {
     "data": {
      "text/plain": [
       "KNeighborsClassifier(n_neighbors=3)"
      ]
     },
     "execution_count": 67,
     "metadata": {},
     "output_type": "execute_result"
    }
   ],
   "source": [
    "knn.fit(x3_train,y3_train)"
   ]
  },
  {
   "cell_type": "code",
   "execution_count": 68,
   "metadata": {},
   "outputs": [
    {
     "data": {
      "text/plain": [
       "0.9652701212789415"
      ]
     },
     "execution_count": 68,
     "metadata": {},
     "output_type": "execute_result"
    }
   ],
   "source": [
    "knn.score(x3_train,y3_train)"
   ]
  },
  {
   "cell_type": "code",
   "execution_count": 69,
   "metadata": {},
   "outputs": [
    {
     "data": {
      "text/plain": [
       "0.9691629955947136"
      ]
     },
     "execution_count": 69,
     "metadata": {},
     "output_type": "execute_result"
    }
   ],
   "source": [
    "knn.score(x3_test,y3_test)"
   ]
  },
  {
   "cell_type": "code",
   "execution_count": 70,
   "metadata": {},
   "outputs": [
    {
     "data": {
      "text/plain": [
       "array([14, 14, 14, 14, 14, 14, 14, 14, 14, 14, 14, 14, 14, 14, 14, 14, 14,\n",
       "       14, 14, 14, 14, 14, 14, 14, 14, 14, 14, 14, 14, 14, 14, 14, 14, 14,\n",
       "       14, 14, 14, 14, 14, 14, 14, 14, 14, 14, 14, 14, 14, 14, 14, 14, 14,\n",
       "       14, 14, 14, 14, 14, 14,  2, 14, 14, 14, 14, 14, 14, 14, 14, 14, 14,\n",
       "       14, 14, 14, 14, 14, 14, 14, 14, 14, 14, 14, 14, 14, 14, 14, 14, 14,\n",
       "       14, 14, 14, 14, 14, 14, 14, 14, 14, 14, 14, 14, 14, 14, 14, 14, 14,\n",
       "       14, 14, 14, 14, 14, 14, 14, 14, 14, 14, 14, 14, 14, 14, 14, 14, 14,\n",
       "       14, 14, 14, 14, 14, 14, 14, 14, 14, 14, 14, 14, 14, 14, 14, 14, 14,\n",
       "       14, 14, 14, 14, 14, 14, 14, 14, 14, 14, 14, 14, 14, 14, 14, 14, 14,\n",
       "       14, 14, 14, 14, 14, 14, 14, 14, 14, 14, 14, 14, 14, 14, 14, 14, 14,\n",
       "       14, 14, 14, 14, 14, 14, 14, 14, 14, 14, 14, 14, 14, 14, 14, 14, 14,\n",
       "       14, 14, 14, 14, 14, 14, 14, 14, 14, 14, 14, 14, 14, 14, 14, 14, 14,\n",
       "       14, 14, 14, 14, 14, 14, 14, 14, 14, 14, 14, 14, 14, 14, 14, 14, 14,\n",
       "       14,  4, 14, 14, 14, 14, 14, 14, 14, 14, 14, 14, 14, 14, 14, 14, 14,\n",
       "       14, 14, 14, 14, 14, 14, 14, 14, 14, 14, 14, 14, 14, 14, 14, 14, 14,\n",
       "       14, 14, 14,  4, 14, 14, 14, 14, 14, 14, 14, 14, 14, 14, 14, 14, 14,\n",
       "       14, 14, 14,  2, 14, 14, 14, 14,  2, 14, 14, 14, 14, 14, 14, 14, 14,\n",
       "       14, 14, 14, 14, 14, 14, 14, 14, 14, 14, 14, 14, 14, 14, 14, 14, 14,\n",
       "       14, 14, 14, 14, 14, 10, 14, 14, 14, 14, 14, 14, 14, 14, 14, 14, 14,\n",
       "       14, 14, 14, 14, 14, 14, 14, 14, 14, 14, 14, 14, 14, 14, 14, 14, 14,\n",
       "       14, 14, 14, 14, 14, 14, 14, 14, 14, 14, 14, 14, 14, 14, 14, 14, 14,\n",
       "       14, 14, 14,  2, 14, 14, 14, 14, 14, 14, 14, 14, 14, 14, 14, 14, 14,\n",
       "       14, 14, 14, 14, 14, 14, 14, 14, 14, 14, 14, 14, 14, 14, 14, 14, 14,\n",
       "       14, 14,  4, 14, 14, 14, 14, 14, 14, 14, 14, 14, 14, 14, 14, 14, 14,\n",
       "       14, 14, 14, 14, 14, 14, 14, 14, 14, 14, 14, 14, 14, 14, 14, 14, 14,\n",
       "       14, 14, 14, 14, 14, 14, 14, 14, 14, 14, 14, 14, 14, 14, 14, 14, 14,\n",
       "       14, 14, 14, 14, 14, 14, 14, 14, 14, 14, 14, 14], dtype=int32)"
      ]
     },
     "execution_count": 70,
     "metadata": {},
     "output_type": "execute_result"
    }
   ],
   "source": [
    "knn.predict(x3_test)"
   ]
  },
  {
   "cell_type": "code",
   "execution_count": null,
   "metadata": {},
   "outputs": [],
   "source": []
  }
 ],
 "metadata": {
  "kernelspec": {
   "display_name": "Python 3",
   "language": "python",
   "name": "python3"
  },
  "language_info": {
   "codemirror_mode": {
    "name": "ipython",
    "version": 3
   },
   "file_extension": ".py",
   "mimetype": "text/x-python",
   "name": "python",
   "nbconvert_exporter": "python",
   "pygments_lexer": "ipython3",
   "version": "3.8.1"
  }
 },
 "nbformat": 4,
 "nbformat_minor": 4
}
